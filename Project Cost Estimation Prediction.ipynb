{
  "cells": [
    {
      "cell_type": "code",
      "execution_count": 2,
      "metadata": {
        "id": "ILC8B88PGVpi",
        "slideshow": {
          "slide_type": "slide"
        }
      },
      "outputs": [],
      "source": [
        "import pandas as pd\n",
        "import numpy as np\n",
        "from keras.layers import LSTM, Activation, Dropout, Dense, Input, Conv1D, MaxPooling1D, GlobalMaxPooling1D\n",
        "#from keras.layers.embeddings import Embedding\n",
        "from keras.layers import *\n",
        "from keras.models import Sequential\n",
        "import string\n",
        "import re\n",
        "from keras.preprocessing.text import Tokenizer\n",
        "from sklearn.preprocessing import LabelBinarizer\n",
        "#from keras.preprocessing.sequence import pad_sequences\n",
        "from keras_preprocessing.sequence import pad_sequences\n",
        "import keras\n",
        "from sklearn.model_selection import train_test_split\n",
        "import tensorflow as tf\n",
        "from sklearn.preprocessing import LabelEncoder\n",
        "from keras.callbacks import ModelCheckpoint\n",
        "from keras.losses import MeanSquaredError\n",
        "from keras.metrics import RootMeanSquaredError\n"
      ]
    },
    {
      "cell_type": "code",
      "execution_count": 3,
      "metadata": {
        "id": "CnwhfL3NUaag"
      },
      "outputs": [],
      "source": [
        "data = pd.read_csv('./dataset.csv')\n",
        "\n",
        "data['task_name'] = data['task_name'].str.lower()\n",
        "data['subtask_name'] = data['subtask_name'].str.lower()"
      ]
    },
    {
      "cell_type": "code",
      "execution_count": 4,
      "metadata": {
        "id": "V0oF19XKyi8E"
      },
      "outputs": [],
      "source": [
        "stopwords = [ \"a\", \"about\", \"above\", \"after\", \"again\", \"against\", \"all\", \"am\", \"an\", \"and\", \"any\", \"are\", \"as\", \"at\", \"be\", \"because\", \n",
        "             \"been\", \"before\", \"being\", \"below\", \"between\", \"both\", \"but\", \"by\", \"could\", \"did\", \"do\", \"does\", \"doing\", \"down\", \"during\",\n",
        "             \"each\", \"few\", \"for\", \"from\", \"further\", \"had\", \"has\", \"have\", \"having\", \"he\", \"he'd\", \"he'll\", \"he's\", \"her\", \"here\", \n",
        "             \"here's\", \"hers\", \"herself\", \"him\", \"himself\", \"his\", \"how\", \"how's\", \"i\", \"i'd\", \"i'll\", \"i'm\", \"i've\", \"if\", \"in\", \"into\",\n",
        "             \"is\", \"it\", \"it's\", \"its\", \"itself\", \"let's\", \"me\", \"more\", \"most\", \"my\", \"myself\", \"nor\", \"of\", \"on\", \"once\", \"only\", \"or\",\n",
        "             \"other\", \"ought\", \"our\", \"ours\", \"ourselves\", \"out\", \"over\", \"own\", \"same\", \"she\", \"she'd\", \"she'll\", \"she's\", \"should\", \n",
        "             \"so\", \"some\", \"such\", \"than\", \"that\", \"that's\", \"the\", \"their\", \"theirs\", \"them\", \"themselves\", \"then\", \"there\", \"there's\",\n",
        "             \"these\", \"they\", \"they'd\", \"they'll\", \"they're\", \"they've\", \"this\", \"those\", \"through\", \"to\", \"too\", \"under\", \"until\", \"up\",\n",
        "             \"very\", \"was\", \"we\", \"we'd\", \"we'll\", \"we're\", \"we've\", \"were\", \"what\", \"what's\", \"when\", \"when's\", \"where\", \"where's\",\n",
        "             \"which\", \"while\", \"who\", \"who's\", \"whom\", \"why\", \"why's\", \"with\", \"would\", \"you\", \"you'd\", \"you'll\", \"you're\", \"you've\",\n",
        "             \"your\", \"yours\", \"yourself\", \"yourselves\" ]"
      ]
    },
    {
      "cell_type": "code",
      "execution_count": 5,
      "metadata": {
        "id": "O20xL-WtzODy"
      },
      "outputs": [],
      "source": [
        "# def remove_stopwords(data):\n",
        "#   # data['task_name']=data['task_name'].fillna(\"\")\n",
        "#   # data['subtask_name']=data['subtask_name'].fillna(\"\")\n",
        "#   data['task_name without stopwords'] = data['task_name'].apply(lambda x : ' '.join([word for word in x.split() if word not in (stopwords)]))\n",
        "#   data['subtask_name without stopwords'] = data['subtask_name'].apply(lambda x : ' '.join([word for word in x.split() if word not in (stopwords)]))\n",
        "#   return data\n",
        "\n",
        "# def remove_tags(string):\n",
        "#     result = re.sub('<.*?>','',string)\n",
        "#     return result\n"
      ]
    },
    {
      "cell_type": "code",
      "execution_count": 6,
      "metadata": {
        "colab": {
          "base_uri": "https://localhost:8080/"
        },
        "id": "HehsxBu108xh",
        "outputId": "4156f750-2a20-4575-b888-fabd26cb88fb"
      },
      "outputs": [],
      "source": [
        "# data_without_stopwords = remove_stopwords(data)\n",
        "# data_without_stopwords['task_name']= data_without_stopwords['task_name without stopwords'].apply(lambda cw : remove_tags(cw))\n",
        "# data_without_stopwords['task_name'] = data_without_stopwords['task_name'].str.replace('[{}]'.format(string.punctuation), ' ')\n",
        "\n",
        "# data_without_stopwords['subtask_name']= data_without_stopwords['subtask_name without stopwords'].apply(lambda cw : remove_tags(cw))\n",
        "# data_without_stopwords['subtask_name'] = data_without_stopwords['subtask_name'].str.replace('[{}]'.format(string.punctuation), ' ')\n",
        "# data_without_stopwords.head()"
      ]
    },
    {
      "cell_type": "code",
      "execution_count": 7,
      "metadata": {
        "colab": {
          "base_uri": "https://localhost:8080/"
        },
        "id": "VZFHtdni5mZE",
        "outputId": "419e0179-6ede-4f06-aeec-b6f6299a5246"
      },
      "outputs": [
        {
          "name": "stdout",
          "output_type": "stream",
          "text": [
            "   Skill  Complexity        task_name  \\\n",
            "0      3           1        home page   \n",
            "1      2           0        home page   \n",
            "2      3           1  categories page   \n",
            "3      2           0  categories page   \n",
            "4      2           0  categories page   \n",
            "\n",
            "                                        subtask_name  Duration  \n",
            "0             api to validate and fetch hot products         3  \n",
            "1             api to validate and fetch new products         2  \n",
            "2  api to validate and fetch all categories along...         3  \n",
            "3        api to validate and fetch a single category         2  \n",
            "4                     api to filter and sort results         2  \n",
            "   Skill  Complexity  task_name  subtask_name  Duration\n",
            "0      3           1          5            14         3\n",
            "1      2           0          5            16         2\n",
            "2      3           1          2             8         3\n",
            "3      2           0          2             7         2\n",
            "4      2           0          2             2         2\n"
          ]
        }
      ],
      "source": [
        "reviews = data['subtask_name']\n",
        "\n",
        "# integer encode\n",
        "print(data.head())\n",
        "label_encoder_task = LabelEncoder()\n",
        "label_encoder_subtask = LabelEncoder()\n",
        "data['task_name'] = label_encoder_task.fit_transform(data['task_name'])\n",
        "data['subtask_name'] = label_encoder_subtask.fit_transform(data['subtask_name'])\n",
        "# print(f\"classes = {label_encoder_task.classes_}\")\n",
        "# print(f\"classes = {label_encoder_subtask.classes_}\")\n",
        "print(data.head())\n",
        "# print(data)\n",
        "import pickle\n",
        "pickle.dump(label_encoder_task, open(\"../bzkRestApis/scaler_task.sav\", \"wb\"))\n",
        "pickle.dump(label_encoder_subtask, open(\"../bzkRestApis/scaler_subtask.sav\", \"wb\"))\n",
        "# print(f\"classes = {label_encoder_task.classes_}\")\n",
        "# print(f\"classes = {label_encoder_subtask.classes_}\")\n",
        "\n",
        "# data['task_name'] = label_encoder_task.transform(data['task_name'])\n",
        "# data['subtask_name'] = label_encoder_subtask.transform(data['subtask_name'])\n",
        "# print(data.head())\n",
        "\n",
        "# reviews\n",
        "reviews_list = []\n",
        "for i in range(len(reviews)):\n",
        "    reviews_list.append(reviews[i])"
      ]
    },
    {
      "cell_type": "code",
      "execution_count": 8,
      "metadata": {
        "id": "urgoMx7UaeJz"
      },
      "outputs": [],
      "source": [
        "duration = data['Duration']\n",
        "y = np.array(list(duration))\n",
        "# y"
      ]
    },
    {
      "cell_type": "code",
      "execution_count": 10,
      "metadata": {
        "colab": {
          "base_uri": "https://localhost:8080/"
        },
        "id": "fqkDtVPMYeeT",
        "outputId": "39000aa2-a472-44c2-eb28-35913847025f"
      },
      "outputs": [
        {
          "data": {
            "text/plain": [
              "array([3, 3, 4, 2, 3, 3, 4, 2, 3, 3, 2, 4, 3, 4, 3, 2, 4, 2, 3, 4, 2, 4,\n",
              "       4, 2, 2, 2, 2, 3, 4, 2, 4, 3])"
            ]
          },
          "execution_count": 10,
          "metadata": {},
          "output_type": "execute_result"
        }
      ],
      "source": [
        "X_train, X_test, Y_train, Y_test = train_test_split(data[[\"Skill\", \"Complexity\", \"task_name\", \"subtask_name\"]], y, test_size=0.2, random_state = 45)\n",
        "# X_test\n",
        "Y_train"
      ]
    },
    {
      "cell_type": "code",
      "execution_count": 10,
      "metadata": {
        "id": "ujoI8P64P12P"
      },
      "outputs": [],
      "source": [
        "# tokenizer = Tokenizer(num_words=5000)\n",
        "# tokenizer.fit_on_texts(X_train)"
      ]
    },
    {
      "cell_type": "code",
      "execution_count": 11,
      "metadata": {
        "colab": {
          "base_uri": "https://localhost:8080/"
        },
        "id": "0rZPh61RP5gH",
        "outputId": "103773a5-6f9b-4cb1-d41b-6c13a7465e33"
      },
      "outputs": [],
      "source": [
        "# words_to_index = tokenizer.word_index\n",
        "# for key, value in words_to_index.items():\n",
        "#     words_to_index[key] = words_to_index[key] - 1\n",
        "# words_to_index"
      ]
    },
    {
      "cell_type": "code",
      "execution_count": 12,
      "metadata": {
        "id": "4cfT3r4nc5GE"
      },
      "outputs": [],
      "source": [
        "# def read_glove_vector(glove_vec):\n",
        "#   with open(glove_vec, 'r', encoding='UTF-8') as f:\n",
        "#     words = set()\n",
        "#     word_to_vec_map = {}\n",
        "#     for line in f:\n",
        "#       w_line = line.split()\n",
        "#       curr_word = w_line[0]\n",
        "#       word_to_vec_map[curr_word] = np.array(w_line[1:], dtype=np.float64)\n",
        "\n",
        "#   return word_to_vec_map"
      ]
    },
    {
      "cell_type": "code",
      "execution_count": 13,
      "metadata": {
        "id": "S4QJe7iZeDC1"
      },
      "outputs": [],
      "source": [
        "# word_to_vec_map = read_glove_vector('./glove.6B.50d.txt')\n",
        "# maxLen = 150\n",
        "\n",
        "# vocab_len = len(words_to_index)\n",
        "# embed_vector_len = word_to_vec_map['moon'].shape[0]\n",
        "\n",
        "# emb_matrix = np.zeros((vocab_len, embed_vector_len))\n",
        "\n",
        "# for word, index in words_to_index.items():\n",
        "#     embedding_vector = word_to_vec_map.get(word)\n",
        "#     if embedding_vector is not None:\n",
        "#         emb_matrix[index, :] = embedding_vector\n",
        "\n",
        "# embedding_layer = Embedding(input_dim=vocab_len, output_dim=embed_vector_len, input_length=maxLen, weights = [emb_matrix], trainable=False)"
      ]
    },
    {
      "cell_type": "code",
      "execution_count": 14,
      "metadata": {
        "id": "DlqxRxizpZRl"
      },
      "outputs": [],
      "source": [
        "def duration_prediction_model(input_shape):\n",
        "\n",
        "  X_indices = Input(input_shape)\n",
        "  # embeddings = embedding_layer(X_indices)\n",
        "\n",
        "  # X = LSTM(128, return_sequences=True)(embeddings)\n",
        "\n",
        "  # # X = Dropout(0.6)(X)\n",
        "\n",
        "  # # X = LSTM(128, return_sequences=True)(X)\n",
        "\n",
        "  # # X = Dropout(0.6)(X)\n",
        "\n",
        "  # # X = LSTM(128)(X)\n",
        "\n",
        "  # X = Dense(1, activation='softmax')(X)\n",
        "  # print(\"X: \")\n",
        "  # print( X)\n",
        "\n",
        "  # model = Model(inputs=X_indices, outputs=X)\n",
        "\n",
        "  model = Sequential()\n",
        "  model.add(InputLayer(input_shape))\n",
        "  model.add(LSTM(64))\n",
        "  model.add(Dense(8, 'relu'))\n",
        "  model.add(Dense(1, 'linear'))\n",
        "  return model"
      ]
    },
    {
      "cell_type": "code",
      "execution_count": 16,
      "metadata": {
        "colab": {
          "base_uri": "https://localhost:8080/"
        },
        "id": "PeB6unmRpa2a",
        "outputId": "0eb2aa76-bdb1-4e33-a64c-19fa929581a3"
      },
      "outputs": [
        {
          "name": "stdout",
          "output_type": "stream",
          "text": [
            "Model: \"sequential\"\n",
            "_________________________________________________________________\n",
            " Layer (type)                Output Shape              Param #   \n",
            "=================================================================\n",
            " lstm (LSTM)                 (None, 64)                16896     \n",
            "                                                                 \n",
            " dense (Dense)               (None, 8)                 520       \n",
            "                                                                 \n",
            " dense_1 (Dense)             (None, 1)                 9         \n",
            "                                                                 \n",
            "=================================================================\n",
            "Total params: 17,425\n",
            "Trainable params: 17,425\n",
            "Non-trainable params: 0\n",
            "_________________________________________________________________\n"
          ]
        }
      ],
      "source": [
        "model = duration_prediction_model((4, 1))\n",
        "model.summary()"
      ]
    },
    {
      "cell_type": "code",
      "execution_count": 18,
      "metadata": {
        "id": "Z_ygaA18uv9Z"
      },
      "outputs": [],
      "source": [
        "# X_train_indices = tokenizer.texts_to_sequences(X_train)\n",
        "# X_train_indices = pad_sequences(X_train_indices, maxlen=maxLen, padding='post')\n",
        "# X_train_indices.shape\n",
        "# adam = tf.keras.optimizers.Adam(learning_rate = 0.0100)\n",
        "# model_1d.compile(optimizer=adam, loss='binary_crossentropy', metrics=['accuracy'])\n",
        "# model_1d.fit(X_train_indices, Y_train, batch_size=64, epochs=15)"
      ]
    },
    {
      "cell_type": "code",
      "execution_count": 20,
      "metadata": {
        "id": "mwYyQk7_JvYg"
      },
      "outputs": [],
      "source": [
        "\n",
        "from tensorflow.keras.optimizers import Adam\n",
        "cp1 = ModelCheckpoint('model1/', save_best_only=True)\n",
        "model.compile(loss=MeanSquaredError(), optimizer=Adam(learning_rate=0.0001), metrics=[RootMeanSquaredError()])\n",
        "X_val1, y_val1 = X_test[28:30], Y_test[28:30]\n",
        "# model.fit(X_train, Y_train, validation_data=(X_val1, y_val1), epochs=100, callbacks=[cp1])\n",
        "# model.save('./model')"
      ]
    },
    {
      "cell_type": "code",
      "execution_count": null,
      "metadata": {
        "id": "oVY1gYalXkO7"
      },
      "outputs": [],
      "source": [
        "# X_test_indices = tokenizer.texts_to_sequences(X_test)\n",
        "# X_test_indices = pad_sequences(X_test_indices, maxlen=maxLen, padding='post')\n",
        "from keras.models import load_model\n",
        "model = load_model('model/')\n",
        "model.fit(X_train, Y_train, validation_data=(X_val1, y_val1), epochs=400, callbacks=[cp1])\n",
        "model.save('./model')\n",
        "# model.evaluate(X_test, Y_test)\n",
        "# model_1d.evaluate(X_test_indices, Y_test)"
      ]
    },
    {
      "cell_type": "code",
      "execution_count": 27,
      "metadata": {
        "colab": {
          "base_uri": "https://localhost:8080/"
        },
        "id": "-SKL-SzCs9e4",
        "outputId": "72e0087d-174c-404f-c2db-edfddb4e7c42"
      },
      "outputs": [
        {
          "name": "stdout",
          "output_type": "stream",
          "text": [
            "<class 'pandas.core.series.Series'>\n",
            "(4,)\n",
            "Predicted duration : [2.0143917], correct duration : 2\n",
            "Predicted duration : [3.4719455], correct duration : 4\n",
            "Predicted duration : [2.9709494], correct duration : 3\n",
            "Predicted duration : [2.9715176], correct duration : 3\n",
            "Predicted duration : [3.898427], correct duration : 5\n",
            "Predicted duration : [4.0262475], correct duration : 4\n",
            "Predicted duration : [1.2427027], correct duration : 1\n",
            "Predicted duration : [2.0177948], correct duration : 2\n"
          ]
        }
      ],
      "source": [
        "# preds = model_1d.predict(X_test_indices)\n",
        "# print(f\"X_test = \\n{X_test}\\ntype = {type(X_test)}\")\n",
        "# print(f\"X_test = \\n{X_test}\\ntype = {X_test.shape}\")\n",
        "preds = model.predict(X_test)\n",
        "# print(f'Predicted duration : {preds[0]}, correct duration : {Y_test[6]}')\n",
        "print(type(X_test.iloc[0]))\n",
        "print(X_test.iloc[0].shape)\n",
        "\n",
        "for i in range(len(X_test)):\n",
        "    print(f'Predicted duration : {preds[i]}, correct duration : {Y_test[i]}')"
      ]
    },
    {
      "cell_type": "code",
      "execution_count": null,
      "metadata": {
        "id": "kTtNGnSj0xJ9"
      },
      "outputs": [],
      "source": [
        "# print(f'predicted duration : {preds[n]}')\n",
        "# print(f'correct duration : {Y_test[n]}')"
      ]
    }
  ],
  "metadata": {
    "accelerator": "GPU",
    "colab": {
      "provenance": []
    },
    "gpuClass": "standard",
    "kernelspec": {
      "display_name": "Python 3.10.1 64-bit",
      "language": "python",
      "name": "python3"
    },
    "language_info": {
      "codemirror_mode": {
        "name": "ipython",
        "version": 3
      },
      "file_extension": ".py",
      "mimetype": "text/x-python",
      "name": "python",
      "nbconvert_exporter": "python",
      "pygments_lexer": "ipython3",
      "version": "3.10.1"
    },
    "vscode": {
      "interpreter": {
        "hash": "c931d04cda44e0569d5939c86fc0782db7ecce639acc955d4e5caa0825c513c4"
      }
    }
  },
  "nbformat": 4,
  "nbformat_minor": 0
}
