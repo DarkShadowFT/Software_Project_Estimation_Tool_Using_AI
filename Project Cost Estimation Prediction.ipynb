{
  "cells": [
    {
      "cell_type": "code",
      "execution_count": 2,
      "metadata": {
        "id": "ILC8B88PGVpi",
        "slideshow": {
          "slide_type": "slide"
        }
      },
      "outputs": [],
      "source": [
        "import pandas as pd\n",
        "import numpy as np\n",
        "from keras.layers import LSTM, Activation, Dropout, Dense, Input, Conv1D, MaxPooling1D, GlobalMaxPooling1D\n",
        "#from keras.layers.embeddings import Embedding\n",
        "from keras.layers import *\n",
        "from keras.models import Sequential\n",
        "import string\n",
        "import re\n",
        "from keras.preprocessing.text import Tokenizer\n",
        "from sklearn.preprocessing import LabelBinarizer\n",
        "#from keras.preprocessing.sequence import pad_sequences\n",
        "from keras_preprocessing.sequence import pad_sequences\n",
        "import keras\n",
        "from sklearn.model_selection import train_test_split\n",
        "import tensorflow as tf\n",
        "from sklearn.preprocessing import LabelEncoder\n",
        "from keras.callbacks import ModelCheckpoint\n",
        "from keras.losses import MeanSquaredError\n",
        "from keras.metrics import RootMeanSquaredError\n"
      ]
    },
    {
      "cell_type": "code",
      "execution_count": 3,
      "metadata": {
        "id": "CnwhfL3NUaag"
      },
      "outputs": [],
      "source": [
        "data = pd.read_csv('./dataset.csv')\n",
        "\n",
        "data['task_name'] = data['task_name'].str.lower()\n",
        "data['subtask_name'] = data['subtask_name'].str.lower()"
      ]
    },
    {
      "cell_type": "code",
      "execution_count": 4,
      "metadata": {
        "id": "V0oF19XKyi8E"
      },
      "outputs": [],
      "source": [
        "stopwords = [ \"a\", \"about\", \"above\", \"after\", \"again\", \"against\", \"all\", \"am\", \"an\", \"and\", \"any\", \"are\", \"as\", \"at\", \"be\", \"because\", \n",
        "             \"been\", \"before\", \"being\", \"below\", \"between\", \"both\", \"but\", \"by\", \"could\", \"did\", \"do\", \"does\", \"doing\", \"down\", \"during\",\n",
        "             \"each\", \"few\", \"for\", \"from\", \"further\", \"had\", \"has\", \"have\", \"having\", \"he\", \"he'd\", \"he'll\", \"he's\", \"her\", \"here\", \n",
        "             \"here's\", \"hers\", \"herself\", \"him\", \"himself\", \"his\", \"how\", \"how's\", \"i\", \"i'd\", \"i'll\", \"i'm\", \"i've\", \"if\", \"in\", \"into\",\n",
        "             \"is\", \"it\", \"it's\", \"its\", \"itself\", \"let's\", \"me\", \"more\", \"most\", \"my\", \"myself\", \"nor\", \"of\", \"on\", \"once\", \"only\", \"or\",\n",
        "             \"other\", \"ought\", \"our\", \"ours\", \"ourselves\", \"out\", \"over\", \"own\", \"same\", \"she\", \"she'd\", \"she'll\", \"she's\", \"should\", \n",
        "             \"so\", \"some\", \"such\", \"than\", \"that\", \"that's\", \"the\", \"their\", \"theirs\", \"them\", \"themselves\", \"then\", \"there\", \"there's\",\n",
        "             \"these\", \"they\", \"they'd\", \"they'll\", \"they're\", \"they've\", \"this\", \"those\", \"through\", \"to\", \"too\", \"under\", \"until\", \"up\",\n",
        "             \"very\", \"was\", \"we\", \"we'd\", \"we'll\", \"we're\", \"we've\", \"were\", \"what\", \"what's\", \"when\", \"when's\", \"where\", \"where's\",\n",
        "             \"which\", \"while\", \"who\", \"who's\", \"whom\", \"why\", \"why's\", \"with\", \"would\", \"you\", \"you'd\", \"you'll\", \"you're\", \"you've\",\n",
        "             \"your\", \"yours\", \"yourself\", \"yourselves\" ]"
      ]
    },
    {
      "cell_type": "code",
      "execution_count": 5,
      "metadata": {
        "id": "O20xL-WtzODy"
      },
      "outputs": [],
      "source": [
        "# def remove_stopwords(data):\n",
        "#   # data['task_name']=data['task_name'].fillna(\"\")\n",
        "#   # data['subtask_name']=data['subtask_name'].fillna(\"\")\n",
        "#   data['task_name without stopwords'] = data['task_name'].apply(lambda x : ' '.join([word for word in x.split() if word not in (stopwords)]))\n",
        "#   data['subtask_name without stopwords'] = data['subtask_name'].apply(lambda x : ' '.join([word for word in x.split() if word not in (stopwords)]))\n",
        "#   return data\n",
        "\n",
        "# def remove_tags(string):\n",
        "#     result = re.sub('<.*?>','',string)\n",
        "#     return result\n"
      ]
    },
    {
      "cell_type": "code",
      "execution_count": 6,
      "metadata": {
        "colab": {
          "base_uri": "https://localhost:8080/"
        },
        "id": "HehsxBu108xh",
        "outputId": "4156f750-2a20-4575-b888-fabd26cb88fb"
      },
      "outputs": [],
      "source": [
        "# data_without_stopwords = remove_stopwords(data)\n",
        "# data_without_stopwords['task_name']= data_without_stopwords['task_name without stopwords'].apply(lambda cw : remove_tags(cw))\n",
        "# data_without_stopwords['task_name'] = data_without_stopwords['task_name'].str.replace('[{}]'.format(string.punctuation), ' ')\n",
        "\n",
        "# data_without_stopwords['subtask_name']= data_without_stopwords['subtask_name without stopwords'].apply(lambda cw : remove_tags(cw))\n",
        "# data_without_stopwords['subtask_name'] = data_without_stopwords['subtask_name'].str.replace('[{}]'.format(string.punctuation), ' ')\n",
        "# data_without_stopwords.head()"
      ]
    },
    {
      "cell_type": "code",
      "execution_count": 7,
      "metadata": {
        "colab": {
          "base_uri": "https://localhost:8080/"
        },
        "id": "VZFHtdni5mZE",
        "outputId": "419e0179-6ede-4f06-aeec-b6f6299a5246"
      },
      "outputs": [
        {
          "name": "stdout",
          "output_type": "stream",
          "text": [
            "   Skill  Complexity        task_name  \\\n",
            "0      3           1        home page   \n",
            "1      2           0        home page   \n",
            "2      3           1  categories page   \n",
            "3      2           0  categories page   \n",
            "4      2           0  categories page   \n",
            "\n",
            "                                        subtask_name  Duration  \n",
            "0             api to validate and fetch hot products         3  \n",
            "1             api to validate and fetch new products         2  \n",
            "2  api to validate and fetch all categories along...         3  \n",
            "3        api to validate and fetch a single category         2  \n",
            "4                     api to filter and sort results         2  \n",
            "   Skill  Complexity  task_name  subtask_name  Duration\n",
            "0      3           1          5            14         3\n",
            "1      2           0          5            16         2\n",
            "2      3           1          2             8         3\n",
            "3      2           0          2             7         2\n",
            "4      2           0          2             2         2\n"
          ]
        }
      ],
      "source": [
        "reviews = data['subtask_name']\n",
        "\n",
        "# integer encode\n",
        "print(data.head())\n",
        "label_encoder_task = LabelEncoder()\n",
        "label_encoder_subtask = LabelEncoder()\n",
        "data['task_name'] = label_encoder_task.fit_transform(data['task_name'])\n",
        "data['subtask_name'] = label_encoder_subtask.fit_transform(data['subtask_name'])\n",
        "# print(f\"classes = {label_encoder_task.classes_}\")\n",
        "# print(f\"classes = {label_encoder_subtask.classes_}\")\n",
        "print(data.head())\n",
        "# print(data)\n",
        "import pickle\n",
        "pickle.dump(label_encoder_task, open(\"../bzkRestApis/scaler_task.sav\", \"wb\"))\n",
        "pickle.dump(label_encoder_subtask, open(\"../bzkRestApis/scaler_subtask.sav\", \"wb\"))\n",
        "# print(f\"classes = {label_encoder_task.classes_}\")\n",
        "# print(f\"classes = {label_encoder_subtask.classes_}\")\n",
        "\n",
        "# data['task_name'] = label_encoder_task.transform(data['task_name'])\n",
        "# data['subtask_name'] = label_encoder_subtask.transform(data['subtask_name'])\n",
        "# print(data.head())\n",
        "\n",
        "# reviews\n",
        "reviews_list = []\n",
        "for i in range(len(reviews)):\n",
        "    reviews_list.append(reviews[i])"
      ]
    },
    {
      "cell_type": "code",
      "execution_count": 8,
      "metadata": {
        "id": "urgoMx7UaeJz"
      },
      "outputs": [],
      "source": [
        "duration = data['Duration']\n",
        "y = np.array(list(duration))\n",
        "# y"
      ]
    },
    {
      "cell_type": "code",
      "execution_count": 9,
      "metadata": {
        "colab": {
          "base_uri": "https://localhost:8080/"
        },
        "id": "fqkDtVPMYeeT",
        "outputId": "39000aa2-a472-44c2-eb28-35913847025f"
      },
      "outputs": [],
      "source": [
        "import pickle\n",
        "X_train, X_test, Y_train, Y_test = train_test_split(data[[\"Skill\", \"Complexity\", \"task_name\", \"subtask_name\"]], y, test_size=0.2, random_state = 45)\n",
        "# X_test\n"
      ]
    },
    {
      "cell_type": "code",
      "execution_count": 10,
      "metadata": {
        "id": "ujoI8P64P12P"
      },
      "outputs": [],
      "source": [
        "# tokenizer = Tokenizer(num_words=5000)\n",
        "# tokenizer.fit_on_texts(X_train)"
      ]
    },
    {
      "cell_type": "code",
      "execution_count": 11,
      "metadata": {
        "colab": {
          "base_uri": "https://localhost:8080/"
        },
        "id": "0rZPh61RP5gH",
        "outputId": "103773a5-6f9b-4cb1-d41b-6c13a7465e33"
      },
      "outputs": [],
      "source": [
        "# words_to_index = tokenizer.word_index\n",
        "# for key, value in words_to_index.items():\n",
        "#     words_to_index[key] = words_to_index[key] - 1\n",
        "# words_to_index"
      ]
    },
    {
      "cell_type": "code",
      "execution_count": 12,
      "metadata": {
        "id": "4cfT3r4nc5GE"
      },
      "outputs": [],
      "source": [
        "# def read_glove_vector(glove_vec):\n",
        "#   with open(glove_vec, 'r', encoding='UTF-8') as f:\n",
        "#     words = set()\n",
        "#     word_to_vec_map = {}\n",
        "#     for line in f:\n",
        "#       w_line = line.split()\n",
        "#       curr_word = w_line[0]\n",
        "#       word_to_vec_map[curr_word] = np.array(w_line[1:], dtype=np.float64)\n",
        "\n",
        "#   return word_to_vec_map"
      ]
    },
    {
      "cell_type": "code",
      "execution_count": 13,
      "metadata": {
        "id": "S4QJe7iZeDC1"
      },
      "outputs": [],
      "source": [
        "# word_to_vec_map = read_glove_vector('./glove.6B.50d.txt')\n",
        "# maxLen = 150\n",
        "\n",
        "# vocab_len = len(words_to_index)\n",
        "# embed_vector_len = word_to_vec_map['moon'].shape[0]\n",
        "\n",
        "# emb_matrix = np.zeros((vocab_len, embed_vector_len))\n",
        "\n",
        "# for word, index in words_to_index.items():\n",
        "#     embedding_vector = word_to_vec_map.get(word)\n",
        "#     if embedding_vector is not None:\n",
        "#         emb_matrix[index, :] = embedding_vector\n",
        "\n",
        "# embedding_layer = Embedding(input_dim=vocab_len, output_dim=embed_vector_len, input_length=maxLen, weights = [emb_matrix], trainable=False)"
      ]
    },
    {
      "cell_type": "code",
      "execution_count": 14,
      "metadata": {
        "id": "DlqxRxizpZRl"
      },
      "outputs": [],
      "source": [
        "def duration_prediction_model(input_shape):\n",
        "\n",
        "  X_indices = Input(input_shape)\n",
        "  # embeddings = embedding_layer(X_indices)\n",
        "\n",
        "  # X = LSTM(128, return_sequences=True)(embeddings)\n",
        "\n",
        "  # # X = Dropout(0.6)(X)\n",
        "\n",
        "  # # X = LSTM(128, return_sequences=True)(X)\n",
        "\n",
        "  # # X = Dropout(0.6)(X)\n",
        "\n",
        "  # # X = LSTM(128)(X)\n",
        "\n",
        "  # X = Dense(1, activation='softmax')(X)\n",
        "  # print(\"X: \")\n",
        "  # print( X)\n",
        "\n",
        "  # model = Model(inputs=X_indices, outputs=X)\n",
        "\n",
        "  model = Sequential()\n",
        "  model.add(InputLayer(input_shape))\n",
        "  model.add(LSTM(64))\n",
        "  model.add(Dense(8, 'relu'))\n",
        "  model.add(Dense(1, 'linear'))\n",
        "  return model"
      ]
    },
    {
      "cell_type": "code",
      "execution_count": 15,
      "metadata": {
        "id": "L75PYl9Z2F1d"
      },
      "outputs": [],
      "source": [
        "# def conv1d_model(input_shape):\n",
        "\n",
        "#   X_indices = Input(input_shape)\n",
        "\n",
        "#   embeddings = embedding_layer(X_indices)\n",
        "\n",
        "#   X = Conv1D(512,3,activation='softmax')(embeddings)\n",
        "  \n",
        "#   X = MaxPooling1D(3)(X)\n",
        "\n",
        "#   X = Conv1D(256,3,activation='softmax')(X)\n",
        "  \n",
        "#   X = MaxPooling1D(3)(X)\n",
        "\n",
        "#   X = Conv1D(256,3,activation='softmax')(X)\n",
        "#   X = Dropout(0.8)(X)\n",
        "#   X = MaxPooling1D(3)(X)\n",
        "\n",
        "#   X = GlobalMaxPooling1D()(X)\n",
        "\n",
        "#   X = Dense(256, activation='softmax')(X)\n",
        "#   X = Dense(10, activation='sigmoid')(X)\n",
        "\n",
        "#   model = Model(inputs=X_indices, outputs=X)\n",
        "\n",
        "#   return model"
      ]
    },
    {
      "cell_type": "code",
      "execution_count": 16,
      "metadata": {
        "colab": {
          "base_uri": "https://localhost:8080/"
        },
        "id": "PeB6unmRpa2a",
        "outputId": "0eb2aa76-bdb1-4e33-a64c-19fa929581a3"
      },
      "outputs": [
        {
          "name": "stdout",
          "output_type": "stream",
          "text": [
            "Model: \"sequential\"\n",
            "_________________________________________________________________\n",
            " Layer (type)                Output Shape              Param #   \n",
            "=================================================================\n",
            " lstm (LSTM)                 (None, 64)                16896     \n",
            "                                                                 \n",
            " dense (Dense)               (None, 8)                 520       \n",
            "                                                                 \n",
            " dense_1 (Dense)             (None, 1)                 9         \n",
            "                                                                 \n",
            "=================================================================\n",
            "Total params: 17,425\n",
            "Trainable params: 17,425\n",
            "Non-trainable params: 0\n",
            "_________________________________________________________________\n"
          ]
        }
      ],
      "source": [
        "model = duration_prediction_model((4, 1))\n",
        "model.summary()"
      ]
    },
    {
      "cell_type": "code",
      "execution_count": 17,
      "metadata": {
        "colab": {
          "base_uri": "https://localhost:8080/"
        },
        "id": "gppZiV3h3wH2",
        "outputId": "da6735d5-9c39-4b77-d38b-66c3502100d9"
      },
      "outputs": [],
      "source": [
        "# model_1d = conv1d_model((maxLen,))\n",
        "# model_1d.summary()"
      ]
    },
    {
      "cell_type": "code",
      "execution_count": 18,
      "metadata": {
        "id": "Z_ygaA18uv9Z"
      },
      "outputs": [],
      "source": [
        "# X_train_indices = tokenizer.texts_to_sequences(X_train)\n",
        "# X_train_indices = pad_sequences(X_train_indices, maxlen=maxLen, padding='post')\n",
        "# X_train_indices.shape\n",
        "# adam = tf.keras.optimizers.Adam(learning_rate = 0.0100)\n",
        "# model_1d.compile(optimizer=adam, loss='binary_crossentropy', metrics=['accuracy'])\n",
        "# model_1d.fit(X_train_indices, Y_train, batch_size=64, epochs=15)"
      ]
    },
    {
      "cell_type": "code",
      "execution_count": 20,
      "metadata": {
        "id": "mwYyQk7_JvYg"
      },
      "outputs": [],
      "source": [
        "\n",
        "from tensorflow.keras.optimizers import Adam\n",
        "cp1 = ModelCheckpoint('model1/', save_best_only=True)\n",
        "model.compile(loss=MeanSquaredError(), optimizer=Adam(learning_rate=0.0001), metrics=[RootMeanSquaredError()])\n",
        "X_val1, y_val1 = X_test[28:30], Y_test[28:30]\n",
        "# model.fit(X_train, Y_train, validation_data=(X_val1, y_val1), epochs=100, callbacks=[cp1])\n",
        "# model.save('./model')"
      ]
    },
    {
      "cell_type": "code",
      "execution_count": 24,
      "metadata": {
        "id": "oVY1gYalXkO7"
      },
      "outputs": [
        {
          "name": "stdout",
          "output_type": "stream",
          "text": [
            "Epoch 1/200\n",
            "1/1 [==============================] - ETA: 0s - loss: 0.0028 - root_mean_squared_error: 0.0530WARNING:tensorflow:Can save best model only with val_loss available, skipping.\n"
          ]
        },
        {
          "name": "stderr",
          "output_type": "stream",
          "text": [
            "WARNING:tensorflow:Can save best model only with val_loss available, skipping.\n"
          ]
        },
        {
          "name": "stdout",
          "output_type": "stream",
          "text": [
            "1/1 [==============================] - 6s 6s/step - loss: 0.0028 - root_mean_squared_error: 0.0530\n",
            "Epoch 2/200\n",
            "1/1 [==============================] - ETA: 0s - loss: 0.0028 - root_mean_squared_error: 0.0529WARNING:tensorflow:Can save best model only with val_loss available, skipping.\n"
          ]
        },
        {
          "name": "stderr",
          "output_type": "stream",
          "text": [
            "WARNING:tensorflow:Can save best model only with val_loss available, skipping.\n"
          ]
        },
        {
          "name": "stdout",
          "output_type": "stream",
          "text": [
            "1/1 [==============================] - 0s 72ms/step - loss: 0.0028 - root_mean_squared_error: 0.0529\n",
            "Epoch 3/200\n",
            "1/1 [==============================] - ETA: 0s - loss: 0.0033 - root_mean_squared_error: 0.0572WARNING:tensorflow:Can save best model only with val_loss available, skipping.\n"
          ]
        },
        {
          "name": "stderr",
          "output_type": "stream",
          "text": [
            "WARNING:tensorflow:Can save best model only with val_loss available, skipping.\n"
          ]
        },
        {
          "name": "stdout",
          "output_type": "stream",
          "text": [
            "1/1 [==============================] - 0s 75ms/step - loss: 0.0033 - root_mean_squared_error: 0.0572\n",
            "Epoch 4/200\n",
            "1/1 [==============================] - ETA: 0s - loss: 0.0028 - root_mean_squared_error: 0.0527WARNING:tensorflow:Can save best model only with val_loss available, skipping.\n"
          ]
        },
        {
          "name": "stderr",
          "output_type": "stream",
          "text": [
            "WARNING:tensorflow:Can save best model only with val_loss available, skipping.\n"
          ]
        },
        {
          "name": "stdout",
          "output_type": "stream",
          "text": [
            "1/1 [==============================] - 0s 134ms/step - loss: 0.0028 - root_mean_squared_error: 0.0527\n",
            "Epoch 5/200\n",
            "1/1 [==============================] - ETA: 0s - loss: 0.0031 - root_mean_squared_error: 0.0554WARNING:tensorflow:Can save best model only with val_loss available, skipping.\n"
          ]
        },
        {
          "name": "stderr",
          "output_type": "stream",
          "text": [
            "WARNING:tensorflow:Can save best model only with val_loss available, skipping.\n"
          ]
        },
        {
          "name": "stdout",
          "output_type": "stream",
          "text": [
            "1/1 [==============================] - 0s 149ms/step - loss: 0.0031 - root_mean_squared_error: 0.0554\n",
            "Epoch 6/200\n",
            "1/1 [==============================] - ETA: 0s - loss: 0.0031 - root_mean_squared_error: 0.0555WARNING:tensorflow:Can save best model only with val_loss available, skipping.\n"
          ]
        },
        {
          "name": "stderr",
          "output_type": "stream",
          "text": [
            "WARNING:tensorflow:Can save best model only with val_loss available, skipping.\n"
          ]
        },
        {
          "name": "stdout",
          "output_type": "stream",
          "text": [
            "1/1 [==============================] - 0s 70ms/step - loss: 0.0031 - root_mean_squared_error: 0.0555\n",
            "Epoch 7/200\n",
            "1/1 [==============================] - ETA: 0s - loss: 0.0028 - root_mean_squared_error: 0.0532WARNING:tensorflow:Can save best model only with val_loss available, skipping.\n"
          ]
        },
        {
          "name": "stderr",
          "output_type": "stream",
          "text": [
            "WARNING:tensorflow:Can save best model only with val_loss available, skipping.\n"
          ]
        },
        {
          "name": "stdout",
          "output_type": "stream",
          "text": [
            "1/1 [==============================] - 0s 58ms/step - loss: 0.0028 - root_mean_squared_error: 0.0532\n",
            "Epoch 8/200\n",
            "1/1 [==============================] - ETA: 0s - loss: 0.0028 - root_mean_squared_error: 0.0528WARNING:tensorflow:Can save best model only with val_loss available, skipping.\n"
          ]
        },
        {
          "name": "stderr",
          "output_type": "stream",
          "text": [
            "WARNING:tensorflow:Can save best model only with val_loss available, skipping.\n"
          ]
        },
        {
          "name": "stdout",
          "output_type": "stream",
          "text": [
            "1/1 [==============================] - 0s 58ms/step - loss: 0.0028 - root_mean_squared_error: 0.0528\n",
            "Epoch 9/200\n",
            "1/1 [==============================] - ETA: 0s - loss: 0.0029 - root_mean_squared_error: 0.0542WARNING:tensorflow:Can save best model only with val_loss available, skipping.\n"
          ]
        },
        {
          "name": "stderr",
          "output_type": "stream",
          "text": [
            "WARNING:tensorflow:Can save best model only with val_loss available, skipping.\n"
          ]
        },
        {
          "name": "stdout",
          "output_type": "stream",
          "text": [
            "1/1 [==============================] - 0s 84ms/step - loss: 0.0029 - root_mean_squared_error: 0.0542\n",
            "Epoch 10/200\n",
            "1/1 [==============================] - ETA: 0s - loss: 0.0030 - root_mean_squared_error: 0.0544WARNING:tensorflow:Can save best model only with val_loss available, skipping.\n"
          ]
        },
        {
          "name": "stderr",
          "output_type": "stream",
          "text": [
            "WARNING:tensorflow:Can save best model only with val_loss available, skipping.\n"
          ]
        },
        {
          "name": "stdout",
          "output_type": "stream",
          "text": [
            "1/1 [==============================] - 0s 127ms/step - loss: 0.0030 - root_mean_squared_error: 0.0544\n",
            "Epoch 11/200\n",
            "1/1 [==============================] - ETA: 0s - loss: 0.0028 - root_mean_squared_error: 0.0532WARNING:tensorflow:Can save best model only with val_loss available, skipping.\n"
          ]
        },
        {
          "name": "stderr",
          "output_type": "stream",
          "text": [
            "WARNING:tensorflow:Can save best model only with val_loss available, skipping.\n"
          ]
        },
        {
          "name": "stdout",
          "output_type": "stream",
          "text": [
            "1/1 [==============================] - 0s 108ms/step - loss: 0.0028 - root_mean_squared_error: 0.0532\n",
            "Epoch 12/200\n",
            "1/1 [==============================] - ETA: 0s - loss: 0.0028 - root_mean_squared_error: 0.0526WARNING:tensorflow:Can save best model only with val_loss available, skipping.\n"
          ]
        },
        {
          "name": "stderr",
          "output_type": "stream",
          "text": [
            "WARNING:tensorflow:Can save best model only with val_loss available, skipping.\n"
          ]
        },
        {
          "name": "stdout",
          "output_type": "stream",
          "text": [
            "1/1 [==============================] - 0s 124ms/step - loss: 0.0028 - root_mean_squared_error: 0.0526\n",
            "Epoch 13/200\n",
            "1/1 [==============================] - ETA: 0s - loss: 0.0028 - root_mean_squared_error: 0.0531WARNING:tensorflow:Can save best model only with val_loss available, skipping.\n"
          ]
        },
        {
          "name": "stderr",
          "output_type": "stream",
          "text": [
            "WARNING:tensorflow:Can save best model only with val_loss available, skipping.\n"
          ]
        },
        {
          "name": "stdout",
          "output_type": "stream",
          "text": [
            "1/1 [==============================] - 0s 101ms/step - loss: 0.0028 - root_mean_squared_error: 0.0531\n",
            "Epoch 14/200\n",
            "1/1 [==============================] - ETA: 0s - loss: 0.0029 - root_mean_squared_error: 0.0537WARNING:tensorflow:Can save best model only with val_loss available, skipping.\n"
          ]
        },
        {
          "name": "stderr",
          "output_type": "stream",
          "text": [
            "WARNING:tensorflow:Can save best model only with val_loss available, skipping.\n"
          ]
        },
        {
          "name": "stdout",
          "output_type": "stream",
          "text": [
            "1/1 [==============================] - 0s 134ms/step - loss: 0.0029 - root_mean_squared_error: 0.0537\n",
            "Epoch 15/200\n",
            "1/1 [==============================] - ETA: 0s - loss: 0.0028 - root_mean_squared_error: 0.0533WARNING:tensorflow:Can save best model only with val_loss available, skipping.\n"
          ]
        },
        {
          "name": "stderr",
          "output_type": "stream",
          "text": [
            "WARNING:tensorflow:Can save best model only with val_loss available, skipping.\n"
          ]
        },
        {
          "name": "stdout",
          "output_type": "stream",
          "text": [
            "1/1 [==============================] - 0s 106ms/step - loss: 0.0028 - root_mean_squared_error: 0.0533\n",
            "Epoch 16/200\n",
            "1/1 [==============================] - ETA: 0s - loss: 0.0028 - root_mean_squared_error: 0.0526WARNING:tensorflow:Can save best model only with val_loss available, skipping.\n"
          ]
        },
        {
          "name": "stderr",
          "output_type": "stream",
          "text": [
            "WARNING:tensorflow:Can save best model only with val_loss available, skipping.\n"
          ]
        },
        {
          "name": "stdout",
          "output_type": "stream",
          "text": [
            "1/1 [==============================] - 0s 92ms/step - loss: 0.0028 - root_mean_squared_error: 0.0526\n",
            "Epoch 17/200\n",
            "1/1 [==============================] - ETA: 0s - loss: 0.0028 - root_mean_squared_error: 0.0525WARNING:tensorflow:Can save best model only with val_loss available, skipping.\n"
          ]
        },
        {
          "name": "stderr",
          "output_type": "stream",
          "text": [
            "WARNING:tensorflow:Can save best model only with val_loss available, skipping.\n"
          ]
        },
        {
          "name": "stdout",
          "output_type": "stream",
          "text": [
            "1/1 [==============================] - 0s 70ms/step - loss: 0.0028 - root_mean_squared_error: 0.0525\n",
            "Epoch 18/200\n",
            "1/1 [==============================] - ETA: 0s - loss: 0.0028 - root_mean_squared_error: 0.0529WARNING:tensorflow:Can save best model only with val_loss available, skipping.\n"
          ]
        },
        {
          "name": "stderr",
          "output_type": "stream",
          "text": [
            "WARNING:tensorflow:Can save best model only with val_loss available, skipping.\n"
          ]
        },
        {
          "name": "stdout",
          "output_type": "stream",
          "text": [
            "1/1 [==============================] - 0s 66ms/step - loss: 0.0028 - root_mean_squared_error: 0.0529\n",
            "Epoch 19/200\n",
            "1/1 [==============================] - ETA: 0s - loss: 0.0028 - root_mean_squared_error: 0.0531WARNING:tensorflow:Can save best model only with val_loss available, skipping.\n"
          ]
        },
        {
          "name": "stderr",
          "output_type": "stream",
          "text": [
            "WARNING:tensorflow:Can save best model only with val_loss available, skipping.\n"
          ]
        },
        {
          "name": "stdout",
          "output_type": "stream",
          "text": [
            "1/1 [==============================] - 0s 66ms/step - loss: 0.0028 - root_mean_squared_error: 0.0531\n",
            "Epoch 20/200\n",
            "1/1 [==============================] - ETA: 0s - loss: 0.0028 - root_mean_squared_error: 0.0528WARNING:tensorflow:Can save best model only with val_loss available, skipping.\n"
          ]
        },
        {
          "name": "stderr",
          "output_type": "stream",
          "text": [
            "WARNING:tensorflow:Can save best model only with val_loss available, skipping.\n"
          ]
        },
        {
          "name": "stdout",
          "output_type": "stream",
          "text": [
            "1/1 [==============================] - 0s 63ms/step - loss: 0.0028 - root_mean_squared_error: 0.0528\n",
            "Epoch 21/200\n",
            "1/1 [==============================] - ETA: 0s - loss: 0.0027 - root_mean_squared_error: 0.0524WARNING:tensorflow:Can save best model only with val_loss available, skipping.\n"
          ]
        },
        {
          "name": "stderr",
          "output_type": "stream",
          "text": [
            "WARNING:tensorflow:Can save best model only with val_loss available, skipping.\n"
          ]
        },
        {
          "name": "stdout",
          "output_type": "stream",
          "text": [
            "1/1 [==============================] - 0s 91ms/step - loss: 0.0027 - root_mean_squared_error: 0.0524\n",
            "Epoch 22/200\n",
            "1/1 [==============================] - ETA: 0s - loss: 0.0027 - root_mean_squared_error: 0.0524WARNING:tensorflow:Can save best model only with val_loss available, skipping.\n"
          ]
        },
        {
          "name": "stderr",
          "output_type": "stream",
          "text": [
            "WARNING:tensorflow:Can save best model only with val_loss available, skipping.\n"
          ]
        },
        {
          "name": "stdout",
          "output_type": "stream",
          "text": [
            "1/1 [==============================] - 0s 65ms/step - loss: 0.0027 - root_mean_squared_error: 0.0524\n",
            "Epoch 23/200\n",
            "1/1 [==============================] - ETA: 0s - loss: 0.0028 - root_mean_squared_error: 0.0527WARNING:tensorflow:Can save best model only with val_loss available, skipping.\n"
          ]
        },
        {
          "name": "stderr",
          "output_type": "stream",
          "text": [
            "WARNING:tensorflow:Can save best model only with val_loss available, skipping.\n"
          ]
        },
        {
          "name": "stdout",
          "output_type": "stream",
          "text": [
            "1/1 [==============================] - 0s 63ms/step - loss: 0.0028 - root_mean_squared_error: 0.0527\n",
            "Epoch 24/200\n",
            "1/1 [==============================] - ETA: 0s - loss: 0.0028 - root_mean_squared_error: 0.0527WARNING:tensorflow:Can save best model only with val_loss available, skipping.\n"
          ]
        },
        {
          "name": "stderr",
          "output_type": "stream",
          "text": [
            "WARNING:tensorflow:Can save best model only with val_loss available, skipping.\n"
          ]
        },
        {
          "name": "stdout",
          "output_type": "stream",
          "text": [
            "1/1 [==============================] - 0s 66ms/step - loss: 0.0028 - root_mean_squared_error: 0.0527\n",
            "Epoch 25/200\n",
            "1/1 [==============================] - ETA: 0s - loss: 0.0027 - root_mean_squared_error: 0.0524WARNING:tensorflow:Can save best model only with val_loss available, skipping.\n"
          ]
        },
        {
          "name": "stderr",
          "output_type": "stream",
          "text": [
            "WARNING:tensorflow:Can save best model only with val_loss available, skipping.\n"
          ]
        },
        {
          "name": "stdout",
          "output_type": "stream",
          "text": [
            "1/1 [==============================] - 0s 178ms/step - loss: 0.0027 - root_mean_squared_error: 0.0524\n",
            "Epoch 26/200\n",
            "1/1 [==============================] - ETA: 0s - loss: 0.0027 - root_mean_squared_error: 0.0522WARNING:tensorflow:Can save best model only with val_loss available, skipping.\n"
          ]
        },
        {
          "name": "stderr",
          "output_type": "stream",
          "text": [
            "WARNING:tensorflow:Can save best model only with val_loss available, skipping.\n"
          ]
        },
        {
          "name": "stdout",
          "output_type": "stream",
          "text": [
            "1/1 [==============================] - 0s 157ms/step - loss: 0.0027 - root_mean_squared_error: 0.0522\n",
            "Epoch 27/200\n",
            "1/1 [==============================] - ETA: 0s - loss: 0.0027 - root_mean_squared_error: 0.0523WARNING:tensorflow:Can save best model only with val_loss available, skipping.\n"
          ]
        },
        {
          "name": "stderr",
          "output_type": "stream",
          "text": [
            "WARNING:tensorflow:Can save best model only with val_loss available, skipping.\n"
          ]
        },
        {
          "name": "stdout",
          "output_type": "stream",
          "text": [
            "1/1 [==============================] - 0s 99ms/step - loss: 0.0027 - root_mean_squared_error: 0.0523\n",
            "Epoch 28/200\n",
            "1/1 [==============================] - ETA: 0s - loss: 0.0027 - root_mean_squared_error: 0.0524WARNING:tensorflow:Can save best model only with val_loss available, skipping.\n"
          ]
        },
        {
          "name": "stderr",
          "output_type": "stream",
          "text": [
            "WARNING:tensorflow:Can save best model only with val_loss available, skipping.\n"
          ]
        },
        {
          "name": "stdout",
          "output_type": "stream",
          "text": [
            "1/1 [==============================] - 0s 100ms/step - loss: 0.0027 - root_mean_squared_error: 0.0524\n",
            "Epoch 29/200\n",
            "1/1 [==============================] - ETA: 0s - loss: 0.0027 - root_mean_squared_error: 0.0523WARNING:tensorflow:Can save best model only with val_loss available, skipping.\n"
          ]
        },
        {
          "name": "stderr",
          "output_type": "stream",
          "text": [
            "WARNING:tensorflow:Can save best model only with val_loss available, skipping.\n"
          ]
        },
        {
          "name": "stdout",
          "output_type": "stream",
          "text": [
            "1/1 [==============================] - 0s 82ms/step - loss: 0.0027 - root_mean_squared_error: 0.0523\n",
            "Epoch 30/200\n",
            "1/1 [==============================] - ETA: 0s - loss: 0.0027 - root_mean_squared_error: 0.0521WARNING:tensorflow:Can save best model only with val_loss available, skipping.\n"
          ]
        },
        {
          "name": "stderr",
          "output_type": "stream",
          "text": [
            "WARNING:tensorflow:Can save best model only with val_loss available, skipping.\n"
          ]
        },
        {
          "name": "stdout",
          "output_type": "stream",
          "text": [
            "1/1 [==============================] - 0s 56ms/step - loss: 0.0027 - root_mean_squared_error: 0.0521\n",
            "Epoch 31/200\n",
            "1/1 [==============================] - ETA: 0s - loss: 0.0027 - root_mean_squared_error: 0.0521WARNING:tensorflow:Can save best model only with val_loss available, skipping.\n"
          ]
        },
        {
          "name": "stderr",
          "output_type": "stream",
          "text": [
            "WARNING:tensorflow:Can save best model only with val_loss available, skipping.\n"
          ]
        },
        {
          "name": "stdout",
          "output_type": "stream",
          "text": [
            "1/1 [==============================] - 0s 73ms/step - loss: 0.0027 - root_mean_squared_error: 0.0521\n",
            "Epoch 32/200\n",
            "1/1 [==============================] - ETA: 0s - loss: 0.0027 - root_mean_squared_error: 0.0522WARNING:tensorflow:Can save best model only with val_loss available, skipping.\n"
          ]
        },
        {
          "name": "stderr",
          "output_type": "stream",
          "text": [
            "WARNING:tensorflow:Can save best model only with val_loss available, skipping.\n"
          ]
        },
        {
          "name": "stdout",
          "output_type": "stream",
          "text": [
            "1/1 [==============================] - 0s 66ms/step - loss: 0.0027 - root_mean_squared_error: 0.0522\n",
            "Epoch 33/200\n",
            "1/1 [==============================] - ETA: 0s - loss: 0.0027 - root_mean_squared_error: 0.0522WARNING:tensorflow:Can save best model only with val_loss available, skipping.\n"
          ]
        },
        {
          "name": "stderr",
          "output_type": "stream",
          "text": [
            "WARNING:tensorflow:Can save best model only with val_loss available, skipping.\n"
          ]
        },
        {
          "name": "stdout",
          "output_type": "stream",
          "text": [
            "1/1 [==============================] - 0s 61ms/step - loss: 0.0027 - root_mean_squared_error: 0.0522\n",
            "Epoch 34/200\n",
            "1/1 [==============================] - ETA: 0s - loss: 0.0027 - root_mean_squared_error: 0.0521WARNING:tensorflow:Can save best model only with val_loss available, skipping.\n"
          ]
        },
        {
          "name": "stderr",
          "output_type": "stream",
          "text": [
            "WARNING:tensorflow:Can save best model only with val_loss available, skipping.\n"
          ]
        },
        {
          "name": "stdout",
          "output_type": "stream",
          "text": [
            "1/1 [==============================] - 0s 132ms/step - loss: 0.0027 - root_mean_squared_error: 0.0521\n",
            "Epoch 35/200\n",
            "1/1 [==============================] - ETA: 0s - loss: 0.0027 - root_mean_squared_error: 0.0520WARNING:tensorflow:Can save best model only with val_loss available, skipping.\n"
          ]
        },
        {
          "name": "stderr",
          "output_type": "stream",
          "text": [
            "WARNING:tensorflow:Can save best model only with val_loss available, skipping.\n"
          ]
        },
        {
          "name": "stdout",
          "output_type": "stream",
          "text": [
            "1/1 [==============================] - 0s 117ms/step - loss: 0.0027 - root_mean_squared_error: 0.0520\n",
            "Epoch 36/200\n",
            "1/1 [==============================] - ETA: 0s - loss: 0.0027 - root_mean_squared_error: 0.0520WARNING:tensorflow:Can save best model only with val_loss available, skipping.\n"
          ]
        },
        {
          "name": "stderr",
          "output_type": "stream",
          "text": [
            "WARNING:tensorflow:Can save best model only with val_loss available, skipping.\n"
          ]
        },
        {
          "name": "stdout",
          "output_type": "stream",
          "text": [
            "1/1 [==============================] - 0s 92ms/step - loss: 0.0027 - root_mean_squared_error: 0.0520\n",
            "Epoch 37/200\n",
            "1/1 [==============================] - ETA: 0s - loss: 0.0027 - root_mean_squared_error: 0.0520WARNING:tensorflow:Can save best model only with val_loss available, skipping.\n"
          ]
        },
        {
          "name": "stderr",
          "output_type": "stream",
          "text": [
            "WARNING:tensorflow:Can save best model only with val_loss available, skipping.\n"
          ]
        },
        {
          "name": "stdout",
          "output_type": "stream",
          "text": [
            "1/1 [==============================] - 0s 69ms/step - loss: 0.0027 - root_mean_squared_error: 0.0520\n",
            "Epoch 38/200\n",
            "1/1 [==============================] - ETA: 0s - loss: 0.0027 - root_mean_squared_error: 0.0520WARNING:tensorflow:Can save best model only with val_loss available, skipping.\n"
          ]
        },
        {
          "name": "stderr",
          "output_type": "stream",
          "text": [
            "WARNING:tensorflow:Can save best model only with val_loss available, skipping.\n"
          ]
        },
        {
          "name": "stdout",
          "output_type": "stream",
          "text": [
            "1/1 [==============================] - 0s 81ms/step - loss: 0.0027 - root_mean_squared_error: 0.0520\n",
            "Epoch 39/200\n",
            "1/1 [==============================] - ETA: 0s - loss: 0.0027 - root_mean_squared_error: 0.0519WARNING:tensorflow:Can save best model only with val_loss available, skipping.\n"
          ]
        },
        {
          "name": "stderr",
          "output_type": "stream",
          "text": [
            "WARNING:tensorflow:Can save best model only with val_loss available, skipping.\n"
          ]
        },
        {
          "name": "stdout",
          "output_type": "stream",
          "text": [
            "1/1 [==============================] - 0s 53ms/step - loss: 0.0027 - root_mean_squared_error: 0.0519\n",
            "Epoch 40/200\n",
            "1/1 [==============================] - ETA: 0s - loss: 0.0027 - root_mean_squared_error: 0.0518WARNING:tensorflow:Can save best model only with val_loss available, skipping.\n"
          ]
        },
        {
          "name": "stderr",
          "output_type": "stream",
          "text": [
            "WARNING:tensorflow:Can save best model only with val_loss available, skipping.\n"
          ]
        },
        {
          "name": "stdout",
          "output_type": "stream",
          "text": [
            "1/1 [==============================] - 0s 65ms/step - loss: 0.0027 - root_mean_squared_error: 0.0518\n",
            "Epoch 41/200\n",
            "1/1 [==============================] - ETA: 0s - loss: 0.0027 - root_mean_squared_error: 0.0518WARNING:tensorflow:Can save best model only with val_loss available, skipping.\n"
          ]
        },
        {
          "name": "stderr",
          "output_type": "stream",
          "text": [
            "WARNING:tensorflow:Can save best model only with val_loss available, skipping.\n"
          ]
        },
        {
          "name": "stdout",
          "output_type": "stream",
          "text": [
            "1/1 [==============================] - 0s 78ms/step - loss: 0.0027 - root_mean_squared_error: 0.0518\n",
            "Epoch 42/200\n",
            "1/1 [==============================] - ETA: 0s - loss: 0.0027 - root_mean_squared_error: 0.0518WARNING:tensorflow:Can save best model only with val_loss available, skipping.\n"
          ]
        },
        {
          "name": "stderr",
          "output_type": "stream",
          "text": [
            "WARNING:tensorflow:Can save best model only with val_loss available, skipping.\n"
          ]
        },
        {
          "name": "stdout",
          "output_type": "stream",
          "text": [
            "1/1 [==============================] - 0s 52ms/step - loss: 0.0027 - root_mean_squared_error: 0.0518\n",
            "Epoch 43/200\n",
            "1/1 [==============================] - ETA: 0s - loss: 0.0027 - root_mean_squared_error: 0.0517WARNING:tensorflow:Can save best model only with val_loss available, skipping.\n"
          ]
        },
        {
          "name": "stderr",
          "output_type": "stream",
          "text": [
            "WARNING:tensorflow:Can save best model only with val_loss available, skipping.\n"
          ]
        },
        {
          "name": "stdout",
          "output_type": "stream",
          "text": [
            "1/1 [==============================] - 0s 90ms/step - loss: 0.0027 - root_mean_squared_error: 0.0517\n",
            "Epoch 44/200\n",
            "1/1 [==============================] - ETA: 0s - loss: 0.0027 - root_mean_squared_error: 0.0517WARNING:tensorflow:Can save best model only with val_loss available, skipping.\n"
          ]
        },
        {
          "name": "stderr",
          "output_type": "stream",
          "text": [
            "WARNING:tensorflow:Can save best model only with val_loss available, skipping.\n"
          ]
        },
        {
          "name": "stdout",
          "output_type": "stream",
          "text": [
            "1/1 [==============================] - 0s 106ms/step - loss: 0.0027 - root_mean_squared_error: 0.0517\n",
            "Epoch 45/200\n",
            "1/1 [==============================] - ETA: 0s - loss: 0.0027 - root_mean_squared_error: 0.0517WARNING:tensorflow:Can save best model only with val_loss available, skipping.\n"
          ]
        },
        {
          "name": "stderr",
          "output_type": "stream",
          "text": [
            "WARNING:tensorflow:Can save best model only with val_loss available, skipping.\n"
          ]
        },
        {
          "name": "stdout",
          "output_type": "stream",
          "text": [
            "1/1 [==============================] - 0s 128ms/step - loss: 0.0027 - root_mean_squared_error: 0.0517\n",
            "Epoch 46/200\n",
            "1/1 [==============================] - ETA: 0s - loss: 0.0027 - root_mean_squared_error: 0.0517WARNING:tensorflow:Can save best model only with val_loss available, skipping.\n"
          ]
        },
        {
          "name": "stderr",
          "output_type": "stream",
          "text": [
            "WARNING:tensorflow:Can save best model only with val_loss available, skipping.\n"
          ]
        },
        {
          "name": "stdout",
          "output_type": "stream",
          "text": [
            "1/1 [==============================] - 0s 95ms/step - loss: 0.0027 - root_mean_squared_error: 0.0517\n",
            "Epoch 47/200\n",
            "1/1 [==============================] - ETA: 0s - loss: 0.0027 - root_mean_squared_error: 0.0516WARNING:tensorflow:Can save best model only with val_loss available, skipping.\n"
          ]
        },
        {
          "name": "stderr",
          "output_type": "stream",
          "text": [
            "WARNING:tensorflow:Can save best model only with val_loss available, skipping.\n"
          ]
        },
        {
          "name": "stdout",
          "output_type": "stream",
          "text": [
            "1/1 [==============================] - 0s 92ms/step - loss: 0.0027 - root_mean_squared_error: 0.0516\n",
            "Epoch 48/200\n",
            "1/1 [==============================] - ETA: 0s - loss: 0.0027 - root_mean_squared_error: 0.0516WARNING:tensorflow:Can save best model only with val_loss available, skipping.\n"
          ]
        },
        {
          "name": "stderr",
          "output_type": "stream",
          "text": [
            "WARNING:tensorflow:Can save best model only with val_loss available, skipping.\n"
          ]
        },
        {
          "name": "stdout",
          "output_type": "stream",
          "text": [
            "1/1 [==============================] - 0s 89ms/step - loss: 0.0027 - root_mean_squared_error: 0.0516\n",
            "Epoch 49/200\n",
            "1/1 [==============================] - ETA: 0s - loss: 0.0027 - root_mean_squared_error: 0.0515WARNING:tensorflow:Can save best model only with val_loss available, skipping.\n"
          ]
        },
        {
          "name": "stderr",
          "output_type": "stream",
          "text": [
            "WARNING:tensorflow:Can save best model only with val_loss available, skipping.\n"
          ]
        },
        {
          "name": "stdout",
          "output_type": "stream",
          "text": [
            "1/1 [==============================] - 0s 60ms/step - loss: 0.0027 - root_mean_squared_error: 0.0515\n",
            "Epoch 50/200\n",
            "1/1 [==============================] - ETA: 0s - loss: 0.0027 - root_mean_squared_error: 0.0515WARNING:tensorflow:Can save best model only with val_loss available, skipping.\n"
          ]
        },
        {
          "name": "stderr",
          "output_type": "stream",
          "text": [
            "WARNING:tensorflow:Can save best model only with val_loss available, skipping.\n"
          ]
        },
        {
          "name": "stdout",
          "output_type": "stream",
          "text": [
            "1/1 [==============================] - 0s 87ms/step - loss: 0.0027 - root_mean_squared_error: 0.0515\n",
            "Epoch 51/200\n",
            "1/1 [==============================] - ETA: 0s - loss: 0.0026 - root_mean_squared_error: 0.0515WARNING:tensorflow:Can save best model only with val_loss available, skipping.\n"
          ]
        },
        {
          "name": "stderr",
          "output_type": "stream",
          "text": [
            "WARNING:tensorflow:Can save best model only with val_loss available, skipping.\n"
          ]
        },
        {
          "name": "stdout",
          "output_type": "stream",
          "text": [
            "1/1 [==============================] - 0s 148ms/step - loss: 0.0026 - root_mean_squared_error: 0.0515\n",
            "Epoch 52/200\n",
            "1/1 [==============================] - ETA: 0s - loss: 0.0026 - root_mean_squared_error: 0.0514WARNING:tensorflow:Can save best model only with val_loss available, skipping.\n"
          ]
        },
        {
          "name": "stderr",
          "output_type": "stream",
          "text": [
            "WARNING:tensorflow:Can save best model only with val_loss available, skipping.\n"
          ]
        },
        {
          "name": "stdout",
          "output_type": "stream",
          "text": [
            "1/1 [==============================] - 0s 79ms/step - loss: 0.0026 - root_mean_squared_error: 0.0514\n",
            "Epoch 53/200\n",
            "1/1 [==============================] - ETA: 0s - loss: 0.0026 - root_mean_squared_error: 0.0514WARNING:tensorflow:Can save best model only with val_loss available, skipping.\n"
          ]
        },
        {
          "name": "stderr",
          "output_type": "stream",
          "text": [
            "WARNING:tensorflow:Can save best model only with val_loss available, skipping.\n"
          ]
        },
        {
          "name": "stdout",
          "output_type": "stream",
          "text": [
            "1/1 [==============================] - 0s 72ms/step - loss: 0.0026 - root_mean_squared_error: 0.0514\n",
            "Epoch 54/200\n",
            "1/1 [==============================] - ETA: 0s - loss: 0.0026 - root_mean_squared_error: 0.0514WARNING:tensorflow:Can save best model only with val_loss available, skipping.\n"
          ]
        },
        {
          "name": "stderr",
          "output_type": "stream",
          "text": [
            "WARNING:tensorflow:Can save best model only with val_loss available, skipping.\n"
          ]
        },
        {
          "name": "stdout",
          "output_type": "stream",
          "text": [
            "1/1 [==============================] - 0s 121ms/step - loss: 0.0026 - root_mean_squared_error: 0.0514\n",
            "Epoch 55/200\n",
            "1/1 [==============================] - ETA: 0s - loss: 0.0026 - root_mean_squared_error: 0.0513WARNING:tensorflow:Can save best model only with val_loss available, skipping.\n"
          ]
        },
        {
          "name": "stderr",
          "output_type": "stream",
          "text": [
            "WARNING:tensorflow:Can save best model only with val_loss available, skipping.\n"
          ]
        },
        {
          "name": "stdout",
          "output_type": "stream",
          "text": [
            "1/1 [==============================] - 0s 131ms/step - loss: 0.0026 - root_mean_squared_error: 0.0513\n",
            "Epoch 56/200\n",
            "1/1 [==============================] - ETA: 0s - loss: 0.0026 - root_mean_squared_error: 0.0513WARNING:tensorflow:Can save best model only with val_loss available, skipping.\n"
          ]
        },
        {
          "name": "stderr",
          "output_type": "stream",
          "text": [
            "WARNING:tensorflow:Can save best model only with val_loss available, skipping.\n"
          ]
        },
        {
          "name": "stdout",
          "output_type": "stream",
          "text": [
            "1/1 [==============================] - 0s 96ms/step - loss: 0.0026 - root_mean_squared_error: 0.0513\n",
            "Epoch 57/200\n",
            "1/1 [==============================] - ETA: 0s - loss: 0.0026 - root_mean_squared_error: 0.0513WARNING:tensorflow:Can save best model only with val_loss available, skipping.\n"
          ]
        },
        {
          "name": "stderr",
          "output_type": "stream",
          "text": [
            "WARNING:tensorflow:Can save best model only with val_loss available, skipping.\n"
          ]
        },
        {
          "name": "stdout",
          "output_type": "stream",
          "text": [
            "1/1 [==============================] - 0s 186ms/step - loss: 0.0026 - root_mean_squared_error: 0.0513\n",
            "Epoch 58/200\n",
            "1/1 [==============================] - ETA: 0s - loss: 0.0026 - root_mean_squared_error: 0.0512WARNING:tensorflow:Can save best model only with val_loss available, skipping.\n"
          ]
        },
        {
          "name": "stderr",
          "output_type": "stream",
          "text": [
            "WARNING:tensorflow:Can save best model only with val_loss available, skipping.\n"
          ]
        },
        {
          "name": "stdout",
          "output_type": "stream",
          "text": [
            "1/1 [==============================] - 0s 109ms/step - loss: 0.0026 - root_mean_squared_error: 0.0512\n",
            "Epoch 59/200\n",
            "1/1 [==============================] - ETA: 0s - loss: 0.0026 - root_mean_squared_error: 0.0512WARNING:tensorflow:Can save best model only with val_loss available, skipping.\n"
          ]
        },
        {
          "name": "stderr",
          "output_type": "stream",
          "text": [
            "WARNING:tensorflow:Can save best model only with val_loss available, skipping.\n"
          ]
        },
        {
          "name": "stdout",
          "output_type": "stream",
          "text": [
            "1/1 [==============================] - 0s 108ms/step - loss: 0.0026 - root_mean_squared_error: 0.0512\n",
            "Epoch 60/200\n",
            "1/1 [==============================] - ETA: 0s - loss: 0.0026 - root_mean_squared_error: 0.0512WARNING:tensorflow:Can save best model only with val_loss available, skipping.\n"
          ]
        },
        {
          "name": "stderr",
          "output_type": "stream",
          "text": [
            "WARNING:tensorflow:Can save best model only with val_loss available, skipping.\n"
          ]
        },
        {
          "name": "stdout",
          "output_type": "stream",
          "text": [
            "1/1 [==============================] - 0s 107ms/step - loss: 0.0026 - root_mean_squared_error: 0.0512\n",
            "Epoch 61/200\n",
            "1/1 [==============================] - ETA: 0s - loss: 0.0026 - root_mean_squared_error: 0.0511WARNING:tensorflow:Can save best model only with val_loss available, skipping.\n"
          ]
        },
        {
          "name": "stderr",
          "output_type": "stream",
          "text": [
            "WARNING:tensorflow:Can save best model only with val_loss available, skipping.\n"
          ]
        },
        {
          "name": "stdout",
          "output_type": "stream",
          "text": [
            "1/1 [==============================] - 0s 111ms/step - loss: 0.0026 - root_mean_squared_error: 0.0511\n",
            "Epoch 62/200\n",
            "1/1 [==============================] - ETA: 0s - loss: 0.0026 - root_mean_squared_error: 0.0511WARNING:tensorflow:Can save best model only with val_loss available, skipping.\n"
          ]
        },
        {
          "name": "stderr",
          "output_type": "stream",
          "text": [
            "WARNING:tensorflow:Can save best model only with val_loss available, skipping.\n"
          ]
        },
        {
          "name": "stdout",
          "output_type": "stream",
          "text": [
            "1/1 [==============================] - 0s 132ms/step - loss: 0.0026 - root_mean_squared_error: 0.0511\n",
            "Epoch 63/200\n",
            "1/1 [==============================] - ETA: 0s - loss: 0.0026 - root_mean_squared_error: 0.0511WARNING:tensorflow:Can save best model only with val_loss available, skipping.\n"
          ]
        },
        {
          "name": "stderr",
          "output_type": "stream",
          "text": [
            "WARNING:tensorflow:Can save best model only with val_loss available, skipping.\n"
          ]
        },
        {
          "name": "stdout",
          "output_type": "stream",
          "text": [
            "1/1 [==============================] - 0s 135ms/step - loss: 0.0026 - root_mean_squared_error: 0.0511\n",
            "Epoch 64/200\n",
            "1/1 [==============================] - ETA: 0s - loss: 0.0026 - root_mean_squared_error: 0.0510WARNING:tensorflow:Can save best model only with val_loss available, skipping.\n"
          ]
        },
        {
          "name": "stderr",
          "output_type": "stream",
          "text": [
            "WARNING:tensorflow:Can save best model only with val_loss available, skipping.\n"
          ]
        },
        {
          "name": "stdout",
          "output_type": "stream",
          "text": [
            "1/1 [==============================] - 0s 108ms/step - loss: 0.0026 - root_mean_squared_error: 0.0510\n",
            "Epoch 65/200\n",
            "1/1 [==============================] - ETA: 0s - loss: 0.0026 - root_mean_squared_error: 0.0510WARNING:tensorflow:Can save best model only with val_loss available, skipping.\n"
          ]
        },
        {
          "name": "stderr",
          "output_type": "stream",
          "text": [
            "WARNING:tensorflow:Can save best model only with val_loss available, skipping.\n"
          ]
        },
        {
          "name": "stdout",
          "output_type": "stream",
          "text": [
            "1/1 [==============================] - 0s 93ms/step - loss: 0.0026 - root_mean_squared_error: 0.0510\n",
            "Epoch 66/200\n",
            "1/1 [==============================] - ETA: 0s - loss: 0.0026 - root_mean_squared_error: 0.0510WARNING:tensorflow:Can save best model only with val_loss available, skipping.\n"
          ]
        },
        {
          "name": "stderr",
          "output_type": "stream",
          "text": [
            "WARNING:tensorflow:Can save best model only with val_loss available, skipping.\n"
          ]
        },
        {
          "name": "stdout",
          "output_type": "stream",
          "text": [
            "1/1 [==============================] - 0s 104ms/step - loss: 0.0026 - root_mean_squared_error: 0.0510\n",
            "Epoch 67/200\n",
            "1/1 [==============================] - ETA: 0s - loss: 0.0026 - root_mean_squared_error: 0.0509WARNING:tensorflow:Can save best model only with val_loss available, skipping.\n"
          ]
        },
        {
          "name": "stderr",
          "output_type": "stream",
          "text": [
            "WARNING:tensorflow:Can save best model only with val_loss available, skipping.\n"
          ]
        },
        {
          "name": "stdout",
          "output_type": "stream",
          "text": [
            "1/1 [==============================] - 0s 138ms/step - loss: 0.0026 - root_mean_squared_error: 0.0509\n",
            "Epoch 68/200\n",
            "1/1 [==============================] - ETA: 0s - loss: 0.0026 - root_mean_squared_error: 0.0509WARNING:tensorflow:Can save best model only with val_loss available, skipping.\n"
          ]
        },
        {
          "name": "stderr",
          "output_type": "stream",
          "text": [
            "WARNING:tensorflow:Can save best model only with val_loss available, skipping.\n"
          ]
        },
        {
          "name": "stdout",
          "output_type": "stream",
          "text": [
            "1/1 [==============================] - 0s 77ms/step - loss: 0.0026 - root_mean_squared_error: 0.0509\n",
            "Epoch 69/200\n",
            "1/1 [==============================] - ETA: 0s - loss: 0.0026 - root_mean_squared_error: 0.0508WARNING:tensorflow:Can save best model only with val_loss available, skipping.\n"
          ]
        },
        {
          "name": "stderr",
          "output_type": "stream",
          "text": [
            "WARNING:tensorflow:Can save best model only with val_loss available, skipping.\n"
          ]
        },
        {
          "name": "stdout",
          "output_type": "stream",
          "text": [
            "1/1 [==============================] - 0s 81ms/step - loss: 0.0026 - root_mean_squared_error: 0.0508\n",
            "Epoch 70/200\n",
            "1/1 [==============================] - ETA: 0s - loss: 0.0026 - root_mean_squared_error: 0.0508WARNING:tensorflow:Can save best model only with val_loss available, skipping.\n"
          ]
        },
        {
          "name": "stderr",
          "output_type": "stream",
          "text": [
            "WARNING:tensorflow:Can save best model only with val_loss available, skipping.\n"
          ]
        },
        {
          "name": "stdout",
          "output_type": "stream",
          "text": [
            "1/1 [==============================] - 0s 79ms/step - loss: 0.0026 - root_mean_squared_error: 0.0508\n",
            "Epoch 71/200\n",
            "1/1 [==============================] - ETA: 0s - loss: 0.0026 - root_mean_squared_error: 0.0508WARNING:tensorflow:Can save best model only with val_loss available, skipping.\n"
          ]
        },
        {
          "name": "stderr",
          "output_type": "stream",
          "text": [
            "WARNING:tensorflow:Can save best model only with val_loss available, skipping.\n"
          ]
        },
        {
          "name": "stdout",
          "output_type": "stream",
          "text": [
            "1/1 [==============================] - 0s 190ms/step - loss: 0.0026 - root_mean_squared_error: 0.0508\n",
            "Epoch 72/200\n",
            "1/1 [==============================] - ETA: 0s - loss: 0.0026 - root_mean_squared_error: 0.0507WARNING:tensorflow:Can save best model only with val_loss available, skipping.\n"
          ]
        },
        {
          "name": "stderr",
          "output_type": "stream",
          "text": [
            "WARNING:tensorflow:Can save best model only with val_loss available, skipping.\n"
          ]
        },
        {
          "name": "stdout",
          "output_type": "stream",
          "text": [
            "1/1 [==============================] - 0s 99ms/step - loss: 0.0026 - root_mean_squared_error: 0.0507\n",
            "Epoch 73/200\n",
            "1/1 [==============================] - ETA: 0s - loss: 0.0026 - root_mean_squared_error: 0.0507WARNING:tensorflow:Can save best model only with val_loss available, skipping.\n"
          ]
        },
        {
          "name": "stderr",
          "output_type": "stream",
          "text": [
            "WARNING:tensorflow:Can save best model only with val_loss available, skipping.\n"
          ]
        },
        {
          "name": "stdout",
          "output_type": "stream",
          "text": [
            "1/1 [==============================] - 0s 90ms/step - loss: 0.0026 - root_mean_squared_error: 0.0507\n",
            "Epoch 74/200\n",
            "1/1 [==============================] - ETA: 0s - loss: 0.0026 - root_mean_squared_error: 0.0507WARNING:tensorflow:Can save best model only with val_loss available, skipping.\n"
          ]
        },
        {
          "name": "stderr",
          "output_type": "stream",
          "text": [
            "WARNING:tensorflow:Can save best model only with val_loss available, skipping.\n"
          ]
        },
        {
          "name": "stdout",
          "output_type": "stream",
          "text": [
            "1/1 [==============================] - 0s 75ms/step - loss: 0.0026 - root_mean_squared_error: 0.0507\n",
            "Epoch 75/200\n",
            "1/1 [==============================] - ETA: 0s - loss: 0.0026 - root_mean_squared_error: 0.0506WARNING:tensorflow:Can save best model only with val_loss available, skipping.\n"
          ]
        },
        {
          "name": "stderr",
          "output_type": "stream",
          "text": [
            "WARNING:tensorflow:Can save best model only with val_loss available, skipping.\n"
          ]
        },
        {
          "name": "stdout",
          "output_type": "stream",
          "text": [
            "1/1 [==============================] - 0s 58ms/step - loss: 0.0026 - root_mean_squared_error: 0.0506\n",
            "Epoch 76/200\n",
            "1/1 [==============================] - ETA: 0s - loss: 0.0026 - root_mean_squared_error: 0.0506WARNING:tensorflow:Can save best model only with val_loss available, skipping.\n"
          ]
        },
        {
          "name": "stderr",
          "output_type": "stream",
          "text": [
            "WARNING:tensorflow:Can save best model only with val_loss available, skipping.\n"
          ]
        },
        {
          "name": "stdout",
          "output_type": "stream",
          "text": [
            "1/1 [==============================] - 0s 57ms/step - loss: 0.0026 - root_mean_squared_error: 0.0506\n",
            "Epoch 77/200\n",
            "1/1 [==============================] - ETA: 0s - loss: 0.0026 - root_mean_squared_error: 0.0505WARNING:tensorflow:Can save best model only with val_loss available, skipping.\n"
          ]
        },
        {
          "name": "stderr",
          "output_type": "stream",
          "text": [
            "WARNING:tensorflow:Can save best model only with val_loss available, skipping.\n"
          ]
        },
        {
          "name": "stdout",
          "output_type": "stream",
          "text": [
            "1/1 [==============================] - 0s 55ms/step - loss: 0.0026 - root_mean_squared_error: 0.0505\n",
            "Epoch 78/200\n",
            "1/1 [==============================] - ETA: 0s - loss: 0.0026 - root_mean_squared_error: 0.0505WARNING:tensorflow:Can save best model only with val_loss available, skipping.\n"
          ]
        },
        {
          "name": "stderr",
          "output_type": "stream",
          "text": [
            "WARNING:tensorflow:Can save best model only with val_loss available, skipping.\n"
          ]
        },
        {
          "name": "stdout",
          "output_type": "stream",
          "text": [
            "1/1 [==============================] - 0s 63ms/step - loss: 0.0026 - root_mean_squared_error: 0.0505\n",
            "Epoch 79/200\n",
            "1/1 [==============================] - ETA: 0s - loss: 0.0025 - root_mean_squared_error: 0.0505WARNING:tensorflow:Can save best model only with val_loss available, skipping.\n"
          ]
        },
        {
          "name": "stderr",
          "output_type": "stream",
          "text": [
            "WARNING:tensorflow:Can save best model only with val_loss available, skipping.\n"
          ]
        },
        {
          "name": "stdout",
          "output_type": "stream",
          "text": [
            "1/1 [==============================] - 0s 53ms/step - loss: 0.0025 - root_mean_squared_error: 0.0505\n",
            "Epoch 80/200\n",
            "1/1 [==============================] - ETA: 0s - loss: 0.0025 - root_mean_squared_error: 0.0504WARNING:tensorflow:Can save best model only with val_loss available, skipping.\n"
          ]
        },
        {
          "name": "stderr",
          "output_type": "stream",
          "text": [
            "WARNING:tensorflow:Can save best model only with val_loss available, skipping.\n"
          ]
        },
        {
          "name": "stdout",
          "output_type": "stream",
          "text": [
            "1/1 [==============================] - 0s 58ms/step - loss: 0.0025 - root_mean_squared_error: 0.0504\n",
            "Epoch 81/200\n",
            "1/1 [==============================] - ETA: 0s - loss: 0.0025 - root_mean_squared_error: 0.0504WARNING:tensorflow:Can save best model only with val_loss available, skipping.\n"
          ]
        },
        {
          "name": "stderr",
          "output_type": "stream",
          "text": [
            "WARNING:tensorflow:Can save best model only with val_loss available, skipping.\n"
          ]
        },
        {
          "name": "stdout",
          "output_type": "stream",
          "text": [
            "1/1 [==============================] - 0s 65ms/step - loss: 0.0025 - root_mean_squared_error: 0.0504\n",
            "Epoch 82/200\n",
            "1/1 [==============================] - ETA: 0s - loss: 0.0025 - root_mean_squared_error: 0.0504WARNING:tensorflow:Can save best model only with val_loss available, skipping.\n"
          ]
        },
        {
          "name": "stderr",
          "output_type": "stream",
          "text": [
            "WARNING:tensorflow:Can save best model only with val_loss available, skipping.\n"
          ]
        },
        {
          "name": "stdout",
          "output_type": "stream",
          "text": [
            "1/1 [==============================] - 0s 66ms/step - loss: 0.0025 - root_mean_squared_error: 0.0504\n",
            "Epoch 83/200\n",
            "1/1 [==============================] - ETA: 0s - loss: 0.0025 - root_mean_squared_error: 0.0503WARNING:tensorflow:Can save best model only with val_loss available, skipping.\n"
          ]
        },
        {
          "name": "stderr",
          "output_type": "stream",
          "text": [
            "WARNING:tensorflow:Can save best model only with val_loss available, skipping.\n"
          ]
        },
        {
          "name": "stdout",
          "output_type": "stream",
          "text": [
            "1/1 [==============================] - 0s 79ms/step - loss: 0.0025 - root_mean_squared_error: 0.0503\n",
            "Epoch 84/200\n",
            "1/1 [==============================] - ETA: 0s - loss: 0.0025 - root_mean_squared_error: 0.0503WARNING:tensorflow:Can save best model only with val_loss available, skipping.\n"
          ]
        },
        {
          "name": "stderr",
          "output_type": "stream",
          "text": [
            "WARNING:tensorflow:Can save best model only with val_loss available, skipping.\n"
          ]
        },
        {
          "name": "stdout",
          "output_type": "stream",
          "text": [
            "1/1 [==============================] - 0s 62ms/step - loss: 0.0025 - root_mean_squared_error: 0.0503\n",
            "Epoch 85/200\n",
            "1/1 [==============================] - ETA: 0s - loss: 0.0025 - root_mean_squared_error: 0.0502WARNING:tensorflow:Can save best model only with val_loss available, skipping.\n"
          ]
        },
        {
          "name": "stderr",
          "output_type": "stream",
          "text": [
            "WARNING:tensorflow:Can save best model only with val_loss available, skipping.\n"
          ]
        },
        {
          "name": "stdout",
          "output_type": "stream",
          "text": [
            "1/1 [==============================] - 0s 66ms/step - loss: 0.0025 - root_mean_squared_error: 0.0502\n",
            "Epoch 86/200\n",
            "1/1 [==============================] - ETA: 0s - loss: 0.0025 - root_mean_squared_error: 0.0502WARNING:tensorflow:Can save best model only with val_loss available, skipping.\n"
          ]
        },
        {
          "name": "stderr",
          "output_type": "stream",
          "text": [
            "WARNING:tensorflow:Can save best model only with val_loss available, skipping.\n"
          ]
        },
        {
          "name": "stdout",
          "output_type": "stream",
          "text": [
            "1/1 [==============================] - 0s 63ms/step - loss: 0.0025 - root_mean_squared_error: 0.0502\n",
            "Epoch 87/200\n",
            "1/1 [==============================] - ETA: 0s - loss: 0.0025 - root_mean_squared_error: 0.0502WARNING:tensorflow:Can save best model only with val_loss available, skipping.\n"
          ]
        },
        {
          "name": "stderr",
          "output_type": "stream",
          "text": [
            "WARNING:tensorflow:Can save best model only with val_loss available, skipping.\n"
          ]
        },
        {
          "name": "stdout",
          "output_type": "stream",
          "text": [
            "1/1 [==============================] - 0s 58ms/step - loss: 0.0025 - root_mean_squared_error: 0.0502\n",
            "Epoch 88/200\n",
            "1/1 [==============================] - ETA: 0s - loss: 0.0025 - root_mean_squared_error: 0.0501WARNING:tensorflow:Can save best model only with val_loss available, skipping.\n"
          ]
        },
        {
          "name": "stderr",
          "output_type": "stream",
          "text": [
            "WARNING:tensorflow:Can save best model only with val_loss available, skipping.\n"
          ]
        },
        {
          "name": "stdout",
          "output_type": "stream",
          "text": [
            "1/1 [==============================] - 0s 54ms/step - loss: 0.0025 - root_mean_squared_error: 0.0501\n",
            "Epoch 89/200\n",
            "1/1 [==============================] - ETA: 0s - loss: 0.0025 - root_mean_squared_error: 0.0501WARNING:tensorflow:Can save best model only with val_loss available, skipping.\n"
          ]
        },
        {
          "name": "stderr",
          "output_type": "stream",
          "text": [
            "WARNING:tensorflow:Can save best model only with val_loss available, skipping.\n"
          ]
        },
        {
          "name": "stdout",
          "output_type": "stream",
          "text": [
            "1/1 [==============================] - 0s 53ms/step - loss: 0.0025 - root_mean_squared_error: 0.0501\n",
            "Epoch 90/200\n",
            "1/1 [==============================] - ETA: 0s - loss: 0.0025 - root_mean_squared_error: 0.0501WARNING:tensorflow:Can save best model only with val_loss available, skipping.\n"
          ]
        },
        {
          "name": "stderr",
          "output_type": "stream",
          "text": [
            "WARNING:tensorflow:Can save best model only with val_loss available, skipping.\n"
          ]
        },
        {
          "name": "stdout",
          "output_type": "stream",
          "text": [
            "1/1 [==============================] - 0s 54ms/step - loss: 0.0025 - root_mean_squared_error: 0.0501\n",
            "Epoch 91/200\n",
            "1/1 [==============================] - ETA: 0s - loss: 0.0025 - root_mean_squared_error: 0.0500WARNING:tensorflow:Can save best model only with val_loss available, skipping.\n"
          ]
        },
        {
          "name": "stderr",
          "output_type": "stream",
          "text": [
            "WARNING:tensorflow:Can save best model only with val_loss available, skipping.\n"
          ]
        },
        {
          "name": "stdout",
          "output_type": "stream",
          "text": [
            "1/1 [==============================] - 0s 60ms/step - loss: 0.0025 - root_mean_squared_error: 0.0500\n",
            "Epoch 92/200\n",
            "1/1 [==============================] - ETA: 0s - loss: 0.0025 - root_mean_squared_error: 0.0500WARNING:tensorflow:Can save best model only with val_loss available, skipping.\n"
          ]
        },
        {
          "name": "stderr",
          "output_type": "stream",
          "text": [
            "WARNING:tensorflow:Can save best model only with val_loss available, skipping.\n"
          ]
        },
        {
          "name": "stdout",
          "output_type": "stream",
          "text": [
            "1/1 [==============================] - 0s 70ms/step - loss: 0.0025 - root_mean_squared_error: 0.0500\n",
            "Epoch 93/200\n",
            "1/1 [==============================] - ETA: 0s - loss: 0.0025 - root_mean_squared_error: 0.0499WARNING:tensorflow:Can save best model only with val_loss available, skipping.\n"
          ]
        },
        {
          "name": "stderr",
          "output_type": "stream",
          "text": [
            "WARNING:tensorflow:Can save best model only with val_loss available, skipping.\n"
          ]
        },
        {
          "name": "stdout",
          "output_type": "stream",
          "text": [
            "1/1 [==============================] - 0s 60ms/step - loss: 0.0025 - root_mean_squared_error: 0.0499\n",
            "Epoch 94/200\n",
            "1/1 [==============================] - ETA: 0s - loss: 0.0025 - root_mean_squared_error: 0.0499WARNING:tensorflow:Can save best model only with val_loss available, skipping.\n"
          ]
        },
        {
          "name": "stderr",
          "output_type": "stream",
          "text": [
            "WARNING:tensorflow:Can save best model only with val_loss available, skipping.\n"
          ]
        },
        {
          "name": "stdout",
          "output_type": "stream",
          "text": [
            "1/1 [==============================] - 0s 62ms/step - loss: 0.0025 - root_mean_squared_error: 0.0499\n",
            "Epoch 95/200\n",
            "1/1 [==============================] - ETA: 0s - loss: 0.0025 - root_mean_squared_error: 0.0499WARNING:tensorflow:Can save best model only with val_loss available, skipping.\n"
          ]
        },
        {
          "name": "stderr",
          "output_type": "stream",
          "text": [
            "WARNING:tensorflow:Can save best model only with val_loss available, skipping.\n"
          ]
        },
        {
          "name": "stdout",
          "output_type": "stream",
          "text": [
            "1/1 [==============================] - 0s 59ms/step - loss: 0.0025 - root_mean_squared_error: 0.0499\n",
            "Epoch 96/200\n",
            "1/1 [==============================] - ETA: 0s - loss: 0.0025 - root_mean_squared_error: 0.0498WARNING:tensorflow:Can save best model only with val_loss available, skipping.\n"
          ]
        },
        {
          "name": "stderr",
          "output_type": "stream",
          "text": [
            "WARNING:tensorflow:Can save best model only with val_loss available, skipping.\n"
          ]
        },
        {
          "name": "stdout",
          "output_type": "stream",
          "text": [
            "1/1 [==============================] - 0s 66ms/step - loss: 0.0025 - root_mean_squared_error: 0.0498\n",
            "Epoch 97/200\n",
            "1/1 [==============================] - ETA: 0s - loss: 0.0025 - root_mean_squared_error: 0.0498WARNING:tensorflow:Can save best model only with val_loss available, skipping.\n"
          ]
        },
        {
          "name": "stderr",
          "output_type": "stream",
          "text": [
            "WARNING:tensorflow:Can save best model only with val_loss available, skipping.\n"
          ]
        },
        {
          "name": "stdout",
          "output_type": "stream",
          "text": [
            "1/1 [==============================] - 0s 55ms/step - loss: 0.0025 - root_mean_squared_error: 0.0498\n",
            "Epoch 98/200\n",
            "1/1 [==============================] - ETA: 0s - loss: 0.0025 - root_mean_squared_error: 0.0497WARNING:tensorflow:Can save best model only with val_loss available, skipping.\n"
          ]
        },
        {
          "name": "stderr",
          "output_type": "stream",
          "text": [
            "WARNING:tensorflow:Can save best model only with val_loss available, skipping.\n"
          ]
        },
        {
          "name": "stdout",
          "output_type": "stream",
          "text": [
            "1/1 [==============================] - 0s 83ms/step - loss: 0.0025 - root_mean_squared_error: 0.0497\n",
            "Epoch 99/200\n",
            "1/1 [==============================] - ETA: 0s - loss: 0.0025 - root_mean_squared_error: 0.0497WARNING:tensorflow:Can save best model only with val_loss available, skipping.\n"
          ]
        },
        {
          "name": "stderr",
          "output_type": "stream",
          "text": [
            "WARNING:tensorflow:Can save best model only with val_loss available, skipping.\n"
          ]
        },
        {
          "name": "stdout",
          "output_type": "stream",
          "text": [
            "1/1 [==============================] - 0s 57ms/step - loss: 0.0025 - root_mean_squared_error: 0.0497\n",
            "Epoch 100/200\n",
            "1/1 [==============================] - ETA: 0s - loss: 0.0025 - root_mean_squared_error: 0.0497WARNING:tensorflow:Can save best model only with val_loss available, skipping.\n"
          ]
        },
        {
          "name": "stderr",
          "output_type": "stream",
          "text": [
            "WARNING:tensorflow:Can save best model only with val_loss available, skipping.\n"
          ]
        },
        {
          "name": "stdout",
          "output_type": "stream",
          "text": [
            "1/1 [==============================] - 0s 65ms/step - loss: 0.0025 - root_mean_squared_error: 0.0497\n",
            "Epoch 101/200\n",
            "1/1 [==============================] - ETA: 0s - loss: 0.0025 - root_mean_squared_error: 0.0496WARNING:tensorflow:Can save best model only with val_loss available, skipping.\n"
          ]
        },
        {
          "name": "stderr",
          "output_type": "stream",
          "text": [
            "WARNING:tensorflow:Can save best model only with val_loss available, skipping.\n"
          ]
        },
        {
          "name": "stdout",
          "output_type": "stream",
          "text": [
            "1/1 [==============================] - 0s 54ms/step - loss: 0.0025 - root_mean_squared_error: 0.0496\n",
            "Epoch 102/200\n",
            "1/1 [==============================] - ETA: 0s - loss: 0.0025 - root_mean_squared_error: 0.0496WARNING:tensorflow:Can save best model only with val_loss available, skipping.\n"
          ]
        },
        {
          "name": "stderr",
          "output_type": "stream",
          "text": [
            "WARNING:tensorflow:Can save best model only with val_loss available, skipping.\n"
          ]
        },
        {
          "name": "stdout",
          "output_type": "stream",
          "text": [
            "1/1 [==============================] - 0s 53ms/step - loss: 0.0025 - root_mean_squared_error: 0.0496\n",
            "Epoch 103/200\n",
            "1/1 [==============================] - ETA: 0s - loss: 0.0025 - root_mean_squared_error: 0.0495WARNING:tensorflow:Can save best model only with val_loss available, skipping.\n"
          ]
        },
        {
          "name": "stderr",
          "output_type": "stream",
          "text": [
            "WARNING:tensorflow:Can save best model only with val_loss available, skipping.\n"
          ]
        },
        {
          "name": "stdout",
          "output_type": "stream",
          "text": [
            "1/1 [==============================] - 0s 52ms/step - loss: 0.0025 - root_mean_squared_error: 0.0495\n",
            "Epoch 104/200\n",
            "1/1 [==============================] - ETA: 0s - loss: 0.0025 - root_mean_squared_error: 0.0495WARNING:tensorflow:Can save best model only with val_loss available, skipping.\n"
          ]
        },
        {
          "name": "stderr",
          "output_type": "stream",
          "text": [
            "WARNING:tensorflow:Can save best model only with val_loss available, skipping.\n"
          ]
        },
        {
          "name": "stdout",
          "output_type": "stream",
          "text": [
            "1/1 [==============================] - 0s 56ms/step - loss: 0.0025 - root_mean_squared_error: 0.0495\n",
            "Epoch 105/200\n",
            "1/1 [==============================] - ETA: 0s - loss: 0.0024 - root_mean_squared_error: 0.0495WARNING:tensorflow:Can save best model only with val_loss available, skipping.\n"
          ]
        },
        {
          "name": "stderr",
          "output_type": "stream",
          "text": [
            "WARNING:tensorflow:Can save best model only with val_loss available, skipping.\n"
          ]
        },
        {
          "name": "stdout",
          "output_type": "stream",
          "text": [
            "1/1 [==============================] - 0s 60ms/step - loss: 0.0024 - root_mean_squared_error: 0.0495\n",
            "Epoch 106/200\n",
            "1/1 [==============================] - ETA: 0s - loss: 0.0024 - root_mean_squared_error: 0.0494WARNING:tensorflow:Can save best model only with val_loss available, skipping.\n"
          ]
        },
        {
          "name": "stderr",
          "output_type": "stream",
          "text": [
            "WARNING:tensorflow:Can save best model only with val_loss available, skipping.\n"
          ]
        },
        {
          "name": "stdout",
          "output_type": "stream",
          "text": [
            "1/1 [==============================] - 0s 54ms/step - loss: 0.0024 - root_mean_squared_error: 0.0494\n",
            "Epoch 107/200\n",
            "1/1 [==============================] - ETA: 0s - loss: 0.0024 - root_mean_squared_error: 0.0494WARNING:tensorflow:Can save best model only with val_loss available, skipping.\n"
          ]
        },
        {
          "name": "stderr",
          "output_type": "stream",
          "text": [
            "WARNING:tensorflow:Can save best model only with val_loss available, skipping.\n"
          ]
        },
        {
          "name": "stdout",
          "output_type": "stream",
          "text": [
            "1/1 [==============================] - 0s 66ms/step - loss: 0.0024 - root_mean_squared_error: 0.0494\n",
            "Epoch 108/200\n",
            "1/1 [==============================] - ETA: 0s - loss: 0.0024 - root_mean_squared_error: 0.0493WARNING:tensorflow:Can save best model only with val_loss available, skipping.\n"
          ]
        },
        {
          "name": "stderr",
          "output_type": "stream",
          "text": [
            "WARNING:tensorflow:Can save best model only with val_loss available, skipping.\n"
          ]
        },
        {
          "name": "stdout",
          "output_type": "stream",
          "text": [
            "1/1 [==============================] - 0s 58ms/step - loss: 0.0024 - root_mean_squared_error: 0.0493\n",
            "Epoch 109/200\n",
            "1/1 [==============================] - ETA: 0s - loss: 0.0024 - root_mean_squared_error: 0.0493WARNING:tensorflow:Can save best model only with val_loss available, skipping.\n"
          ]
        },
        {
          "name": "stderr",
          "output_type": "stream",
          "text": [
            "WARNING:tensorflow:Can save best model only with val_loss available, skipping.\n"
          ]
        },
        {
          "name": "stdout",
          "output_type": "stream",
          "text": [
            "1/1 [==============================] - 0s 56ms/step - loss: 0.0024 - root_mean_squared_error: 0.0493\n",
            "Epoch 110/200\n",
            "1/1 [==============================] - ETA: 0s - loss: 0.0024 - root_mean_squared_error: 0.0493WARNING:tensorflow:Can save best model only with val_loss available, skipping.\n"
          ]
        },
        {
          "name": "stderr",
          "output_type": "stream",
          "text": [
            "WARNING:tensorflow:Can save best model only with val_loss available, skipping.\n"
          ]
        },
        {
          "name": "stdout",
          "output_type": "stream",
          "text": [
            "1/1 [==============================] - 0s 55ms/step - loss: 0.0024 - root_mean_squared_error: 0.0493\n",
            "Epoch 111/200\n",
            "1/1 [==============================] - ETA: 0s - loss: 0.0024 - root_mean_squared_error: 0.0492WARNING:tensorflow:Can save best model only with val_loss available, skipping.\n"
          ]
        },
        {
          "name": "stderr",
          "output_type": "stream",
          "text": [
            "WARNING:tensorflow:Can save best model only with val_loss available, skipping.\n"
          ]
        },
        {
          "name": "stdout",
          "output_type": "stream",
          "text": [
            "1/1 [==============================] - 0s 53ms/step - loss: 0.0024 - root_mean_squared_error: 0.0492\n",
            "Epoch 112/200\n",
            "1/1 [==============================] - ETA: 0s - loss: 0.0024 - root_mean_squared_error: 0.0492WARNING:tensorflow:Can save best model only with val_loss available, skipping.\n"
          ]
        },
        {
          "name": "stderr",
          "output_type": "stream",
          "text": [
            "WARNING:tensorflow:Can save best model only with val_loss available, skipping.\n"
          ]
        },
        {
          "name": "stdout",
          "output_type": "stream",
          "text": [
            "1/1 [==============================] - 0s 55ms/step - loss: 0.0024 - root_mean_squared_error: 0.0492\n",
            "Epoch 113/200\n",
            "1/1 [==============================] - ETA: 0s - loss: 0.0024 - root_mean_squared_error: 0.0491WARNING:tensorflow:Can save best model only with val_loss available, skipping.\n"
          ]
        },
        {
          "name": "stderr",
          "output_type": "stream",
          "text": [
            "WARNING:tensorflow:Can save best model only with val_loss available, skipping.\n"
          ]
        },
        {
          "name": "stdout",
          "output_type": "stream",
          "text": [
            "1/1 [==============================] - 0s 55ms/step - loss: 0.0024 - root_mean_squared_error: 0.0491\n",
            "Epoch 114/200\n",
            "1/1 [==============================] - ETA: 0s - loss: 0.0024 - root_mean_squared_error: 0.0491WARNING:tensorflow:Can save best model only with val_loss available, skipping.\n"
          ]
        },
        {
          "name": "stderr",
          "output_type": "stream",
          "text": [
            "WARNING:tensorflow:Can save best model only with val_loss available, skipping.\n"
          ]
        },
        {
          "name": "stdout",
          "output_type": "stream",
          "text": [
            "1/1 [==============================] - 0s 95ms/step - loss: 0.0024 - root_mean_squared_error: 0.0491\n",
            "Epoch 115/200\n",
            "1/1 [==============================] - ETA: 0s - loss: 0.0024 - root_mean_squared_error: 0.0491WARNING:tensorflow:Can save best model only with val_loss available, skipping.\n"
          ]
        },
        {
          "name": "stderr",
          "output_type": "stream",
          "text": [
            "WARNING:tensorflow:Can save best model only with val_loss available, skipping.\n"
          ]
        },
        {
          "name": "stdout",
          "output_type": "stream",
          "text": [
            "1/1 [==============================] - 0s 51ms/step - loss: 0.0024 - root_mean_squared_error: 0.0491\n",
            "Epoch 116/200\n",
            "1/1 [==============================] - ETA: 0s - loss: 0.0024 - root_mean_squared_error: 0.0490WARNING:tensorflow:Can save best model only with val_loss available, skipping.\n"
          ]
        },
        {
          "name": "stderr",
          "output_type": "stream",
          "text": [
            "WARNING:tensorflow:Can save best model only with val_loss available, skipping.\n"
          ]
        },
        {
          "name": "stdout",
          "output_type": "stream",
          "text": [
            "1/1 [==============================] - 0s 55ms/step - loss: 0.0024 - root_mean_squared_error: 0.0490\n",
            "Epoch 117/200\n",
            "1/1 [==============================] - ETA: 0s - loss: 0.0024 - root_mean_squared_error: 0.0490WARNING:tensorflow:Can save best model only with val_loss available, skipping.\n"
          ]
        },
        {
          "name": "stderr",
          "output_type": "stream",
          "text": [
            "WARNING:tensorflow:Can save best model only with val_loss available, skipping.\n"
          ]
        },
        {
          "name": "stdout",
          "output_type": "stream",
          "text": [
            "1/1 [==============================] - 0s 53ms/step - loss: 0.0024 - root_mean_squared_error: 0.0490\n",
            "Epoch 118/200\n",
            "1/1 [==============================] - ETA: 0s - loss: 0.0024 - root_mean_squared_error: 0.0489WARNING:tensorflow:Can save best model only with val_loss available, skipping.\n"
          ]
        },
        {
          "name": "stderr",
          "output_type": "stream",
          "text": [
            "WARNING:tensorflow:Can save best model only with val_loss available, skipping.\n"
          ]
        },
        {
          "name": "stdout",
          "output_type": "stream",
          "text": [
            "1/1 [==============================] - 0s 61ms/step - loss: 0.0024 - root_mean_squared_error: 0.0489\n",
            "Epoch 119/200\n",
            "1/1 [==============================] - ETA: 0s - loss: 0.0024 - root_mean_squared_error: 0.0489WARNING:tensorflow:Can save best model only with val_loss available, skipping.\n"
          ]
        },
        {
          "name": "stderr",
          "output_type": "stream",
          "text": [
            "WARNING:tensorflow:Can save best model only with val_loss available, skipping.\n"
          ]
        },
        {
          "name": "stdout",
          "output_type": "stream",
          "text": [
            "1/1 [==============================] - 0s 56ms/step - loss: 0.0024 - root_mean_squared_error: 0.0489\n",
            "Epoch 120/200\n",
            "1/1 [==============================] - ETA: 0s - loss: 0.0024 - root_mean_squared_error: 0.0488WARNING:tensorflow:Can save best model only with val_loss available, skipping.\n"
          ]
        },
        {
          "name": "stderr",
          "output_type": "stream",
          "text": [
            "WARNING:tensorflow:Can save best model only with val_loss available, skipping.\n"
          ]
        },
        {
          "name": "stdout",
          "output_type": "stream",
          "text": [
            "1/1 [==============================] - 0s 56ms/step - loss: 0.0024 - root_mean_squared_error: 0.0488\n",
            "Epoch 121/200\n",
            "1/1 [==============================] - ETA: 0s - loss: 0.0024 - root_mean_squared_error: 0.0488WARNING:tensorflow:Can save best model only with val_loss available, skipping.\n"
          ]
        },
        {
          "name": "stderr",
          "output_type": "stream",
          "text": [
            "WARNING:tensorflow:Can save best model only with val_loss available, skipping.\n"
          ]
        },
        {
          "name": "stdout",
          "output_type": "stream",
          "text": [
            "1/1 [==============================] - 0s 57ms/step - loss: 0.0024 - root_mean_squared_error: 0.0488\n",
            "Epoch 122/200\n",
            "1/1 [==============================] - ETA: 0s - loss: 0.0024 - root_mean_squared_error: 0.0488WARNING:tensorflow:Can save best model only with val_loss available, skipping.\n"
          ]
        },
        {
          "name": "stderr",
          "output_type": "stream",
          "text": [
            "WARNING:tensorflow:Can save best model only with val_loss available, skipping.\n"
          ]
        },
        {
          "name": "stdout",
          "output_type": "stream",
          "text": [
            "1/1 [==============================] - 0s 52ms/step - loss: 0.0024 - root_mean_squared_error: 0.0488\n",
            "Epoch 123/200\n",
            "1/1 [==============================] - ETA: 0s - loss: 0.0024 - root_mean_squared_error: 0.0487WARNING:tensorflow:Can save best model only with val_loss available, skipping.\n"
          ]
        },
        {
          "name": "stderr",
          "output_type": "stream",
          "text": [
            "WARNING:tensorflow:Can save best model only with val_loss available, skipping.\n"
          ]
        },
        {
          "name": "stdout",
          "output_type": "stream",
          "text": [
            "1/1 [==============================] - 0s 58ms/step - loss: 0.0024 - root_mean_squared_error: 0.0487\n",
            "Epoch 124/200\n",
            "1/1 [==============================] - ETA: 0s - loss: 0.0024 - root_mean_squared_error: 0.0487WARNING:tensorflow:Can save best model only with val_loss available, skipping.\n"
          ]
        },
        {
          "name": "stderr",
          "output_type": "stream",
          "text": [
            "WARNING:tensorflow:Can save best model only with val_loss available, skipping.\n"
          ]
        },
        {
          "name": "stdout",
          "output_type": "stream",
          "text": [
            "1/1 [==============================] - 0s 81ms/step - loss: 0.0024 - root_mean_squared_error: 0.0487\n",
            "Epoch 125/200\n",
            "1/1 [==============================] - ETA: 0s - loss: 0.0024 - root_mean_squared_error: 0.0486WARNING:tensorflow:Can save best model only with val_loss available, skipping.\n"
          ]
        },
        {
          "name": "stderr",
          "output_type": "stream",
          "text": [
            "WARNING:tensorflow:Can save best model only with val_loss available, skipping.\n"
          ]
        },
        {
          "name": "stdout",
          "output_type": "stream",
          "text": [
            "1/1 [==============================] - 0s 102ms/step - loss: 0.0024 - root_mean_squared_error: 0.0486\n",
            "Epoch 126/200\n",
            "1/1 [==============================] - ETA: 0s - loss: 0.0024 - root_mean_squared_error: 0.0486WARNING:tensorflow:Can save best model only with val_loss available, skipping.\n"
          ]
        },
        {
          "name": "stderr",
          "output_type": "stream",
          "text": [
            "WARNING:tensorflow:Can save best model only with val_loss available, skipping.\n"
          ]
        },
        {
          "name": "stdout",
          "output_type": "stream",
          "text": [
            "1/1 [==============================] - 0s 100ms/step - loss: 0.0024 - root_mean_squared_error: 0.0486\n",
            "Epoch 127/200\n",
            "1/1 [==============================] - ETA: 0s - loss: 0.0024 - root_mean_squared_error: 0.0486WARNING:tensorflow:Can save best model only with val_loss available, skipping.\n"
          ]
        },
        {
          "name": "stderr",
          "output_type": "stream",
          "text": [
            "WARNING:tensorflow:Can save best model only with val_loss available, skipping.\n"
          ]
        },
        {
          "name": "stdout",
          "output_type": "stream",
          "text": [
            "1/1 [==============================] - 0s 78ms/step - loss: 0.0024 - root_mean_squared_error: 0.0486\n",
            "Epoch 128/200\n",
            "1/1 [==============================] - ETA: 0s - loss: 0.0024 - root_mean_squared_error: 0.0485WARNING:tensorflow:Can save best model only with val_loss available, skipping.\n"
          ]
        },
        {
          "name": "stderr",
          "output_type": "stream",
          "text": [
            "WARNING:tensorflow:Can save best model only with val_loss available, skipping.\n"
          ]
        },
        {
          "name": "stdout",
          "output_type": "stream",
          "text": [
            "1/1 [==============================] - 0s 74ms/step - loss: 0.0024 - root_mean_squared_error: 0.0485\n",
            "Epoch 129/200\n",
            "1/1 [==============================] - ETA: 0s - loss: 0.0023 - root_mean_squared_error: 0.0485WARNING:tensorflow:Can save best model only with val_loss available, skipping.\n"
          ]
        },
        {
          "name": "stderr",
          "output_type": "stream",
          "text": [
            "WARNING:tensorflow:Can save best model only with val_loss available, skipping.\n"
          ]
        },
        {
          "name": "stdout",
          "output_type": "stream",
          "text": [
            "1/1 [==============================] - 0s 109ms/step - loss: 0.0023 - root_mean_squared_error: 0.0485\n",
            "Epoch 130/200\n",
            "1/1 [==============================] - ETA: 0s - loss: 0.0023 - root_mean_squared_error: 0.0484WARNING:tensorflow:Can save best model only with val_loss available, skipping.\n"
          ]
        },
        {
          "name": "stderr",
          "output_type": "stream",
          "text": [
            "WARNING:tensorflow:Can save best model only with val_loss available, skipping.\n"
          ]
        },
        {
          "name": "stdout",
          "output_type": "stream",
          "text": [
            "1/1 [==============================] - 0s 93ms/step - loss: 0.0023 - root_mean_squared_error: 0.0484\n",
            "Epoch 131/200\n",
            "1/1 [==============================] - ETA: 0s - loss: 0.0023 - root_mean_squared_error: 0.0484WARNING:tensorflow:Can save best model only with val_loss available, skipping.\n"
          ]
        },
        {
          "name": "stderr",
          "output_type": "stream",
          "text": [
            "WARNING:tensorflow:Can save best model only with val_loss available, skipping.\n"
          ]
        },
        {
          "name": "stdout",
          "output_type": "stream",
          "text": [
            "1/1 [==============================] - 0s 91ms/step - loss: 0.0023 - root_mean_squared_error: 0.0484\n",
            "Epoch 132/200\n",
            "1/1 [==============================] - ETA: 0s - loss: 0.0023 - root_mean_squared_error: 0.0483WARNING:tensorflow:Can save best model only with val_loss available, skipping.\n"
          ]
        },
        {
          "name": "stderr",
          "output_type": "stream",
          "text": [
            "WARNING:tensorflow:Can save best model only with val_loss available, skipping.\n"
          ]
        },
        {
          "name": "stdout",
          "output_type": "stream",
          "text": [
            "1/1 [==============================] - 0s 111ms/step - loss: 0.0023 - root_mean_squared_error: 0.0483\n",
            "Epoch 133/200\n",
            "1/1 [==============================] - ETA: 0s - loss: 0.0023 - root_mean_squared_error: 0.0483WARNING:tensorflow:Can save best model only with val_loss available, skipping.\n"
          ]
        },
        {
          "name": "stderr",
          "output_type": "stream",
          "text": [
            "WARNING:tensorflow:Can save best model only with val_loss available, skipping.\n"
          ]
        },
        {
          "name": "stdout",
          "output_type": "stream",
          "text": [
            "1/1 [==============================] - 0s 97ms/step - loss: 0.0023 - root_mean_squared_error: 0.0483\n",
            "Epoch 134/200\n",
            "1/1 [==============================] - ETA: 0s - loss: 0.0023 - root_mean_squared_error: 0.0483WARNING:tensorflow:Can save best model only with val_loss available, skipping.\n"
          ]
        },
        {
          "name": "stderr",
          "output_type": "stream",
          "text": [
            "WARNING:tensorflow:Can save best model only with val_loss available, skipping.\n"
          ]
        },
        {
          "name": "stdout",
          "output_type": "stream",
          "text": [
            "1/1 [==============================] - 0s 70ms/step - loss: 0.0023 - root_mean_squared_error: 0.0483\n",
            "Epoch 135/200\n",
            "1/1 [==============================] - ETA: 0s - loss: 0.0023 - root_mean_squared_error: 0.0482WARNING:tensorflow:Can save best model only with val_loss available, skipping.\n"
          ]
        },
        {
          "name": "stderr",
          "output_type": "stream",
          "text": [
            "WARNING:tensorflow:Can save best model only with val_loss available, skipping.\n"
          ]
        },
        {
          "name": "stdout",
          "output_type": "stream",
          "text": [
            "1/1 [==============================] - 0s 60ms/step - loss: 0.0023 - root_mean_squared_error: 0.0482\n",
            "Epoch 136/200\n",
            "1/1 [==============================] - ETA: 0s - loss: 0.0023 - root_mean_squared_error: 0.0482WARNING:tensorflow:Can save best model only with val_loss available, skipping.\n"
          ]
        },
        {
          "name": "stderr",
          "output_type": "stream",
          "text": [
            "WARNING:tensorflow:Can save best model only with val_loss available, skipping.\n"
          ]
        },
        {
          "name": "stdout",
          "output_type": "stream",
          "text": [
            "1/1 [==============================] - 0s 60ms/step - loss: 0.0023 - root_mean_squared_error: 0.0482\n",
            "Epoch 137/200\n",
            "1/1 [==============================] - ETA: 0s - loss: 0.0023 - root_mean_squared_error: 0.0481WARNING:tensorflow:Can save best model only with val_loss available, skipping.\n"
          ]
        },
        {
          "name": "stderr",
          "output_type": "stream",
          "text": [
            "WARNING:tensorflow:Can save best model only with val_loss available, skipping.\n"
          ]
        },
        {
          "name": "stdout",
          "output_type": "stream",
          "text": [
            "1/1 [==============================] - 0s 71ms/step - loss: 0.0023 - root_mean_squared_error: 0.0481\n",
            "Epoch 138/200\n",
            "1/1 [==============================] - ETA: 0s - loss: 0.0023 - root_mean_squared_error: 0.0481WARNING:tensorflow:Can save best model only with val_loss available, skipping.\n"
          ]
        },
        {
          "name": "stderr",
          "output_type": "stream",
          "text": [
            "WARNING:tensorflow:Can save best model only with val_loss available, skipping.\n"
          ]
        },
        {
          "name": "stdout",
          "output_type": "stream",
          "text": [
            "1/1 [==============================] - 0s 107ms/step - loss: 0.0023 - root_mean_squared_error: 0.0481\n",
            "Epoch 139/200\n",
            "1/1 [==============================] - ETA: 0s - loss: 0.0023 - root_mean_squared_error: 0.0480WARNING:tensorflow:Can save best model only with val_loss available, skipping.\n"
          ]
        },
        {
          "name": "stderr",
          "output_type": "stream",
          "text": [
            "WARNING:tensorflow:Can save best model only with val_loss available, skipping.\n"
          ]
        },
        {
          "name": "stdout",
          "output_type": "stream",
          "text": [
            "1/1 [==============================] - 0s 87ms/step - loss: 0.0023 - root_mean_squared_error: 0.0480\n",
            "Epoch 140/200\n",
            "1/1 [==============================] - ETA: 0s - loss: 0.0023 - root_mean_squared_error: 0.0480WARNING:tensorflow:Can save best model only with val_loss available, skipping.\n"
          ]
        },
        {
          "name": "stderr",
          "output_type": "stream",
          "text": [
            "WARNING:tensorflow:Can save best model only with val_loss available, skipping.\n"
          ]
        },
        {
          "name": "stdout",
          "output_type": "stream",
          "text": [
            "1/1 [==============================] - 0s 91ms/step - loss: 0.0023 - root_mean_squared_error: 0.0480\n",
            "Epoch 141/200\n",
            "1/1 [==============================] - ETA: 0s - loss: 0.0023 - root_mean_squared_error: 0.0480WARNING:tensorflow:Can save best model only with val_loss available, skipping.\n"
          ]
        },
        {
          "name": "stderr",
          "output_type": "stream",
          "text": [
            "WARNING:tensorflow:Can save best model only with val_loss available, skipping.\n"
          ]
        },
        {
          "name": "stdout",
          "output_type": "stream",
          "text": [
            "1/1 [==============================] - 0s 73ms/step - loss: 0.0023 - root_mean_squared_error: 0.0480\n",
            "Epoch 142/200\n",
            "1/1 [==============================] - ETA: 0s - loss: 0.0023 - root_mean_squared_error: 0.0479WARNING:tensorflow:Can save best model only with val_loss available, skipping.\n"
          ]
        },
        {
          "name": "stderr",
          "output_type": "stream",
          "text": [
            "WARNING:tensorflow:Can save best model only with val_loss available, skipping.\n"
          ]
        },
        {
          "name": "stdout",
          "output_type": "stream",
          "text": [
            "1/1 [==============================] - 0s 85ms/step - loss: 0.0023 - root_mean_squared_error: 0.0479\n",
            "Epoch 143/200\n",
            "1/1 [==============================] - ETA: 0s - loss: 0.0023 - root_mean_squared_error: 0.0479WARNING:tensorflow:Can save best model only with val_loss available, skipping.\n"
          ]
        },
        {
          "name": "stderr",
          "output_type": "stream",
          "text": [
            "WARNING:tensorflow:Can save best model only with val_loss available, skipping.\n"
          ]
        },
        {
          "name": "stdout",
          "output_type": "stream",
          "text": [
            "1/1 [==============================] - 0s 96ms/step - loss: 0.0023 - root_mean_squared_error: 0.0479\n",
            "Epoch 144/200\n",
            "1/1 [==============================] - ETA: 0s - loss: 0.0023 - root_mean_squared_error: 0.0478WARNING:tensorflow:Can save best model only with val_loss available, skipping.\n"
          ]
        },
        {
          "name": "stderr",
          "output_type": "stream",
          "text": [
            "WARNING:tensorflow:Can save best model only with val_loss available, skipping.\n"
          ]
        },
        {
          "name": "stdout",
          "output_type": "stream",
          "text": [
            "1/1 [==============================] - 0s 62ms/step - loss: 0.0023 - root_mean_squared_error: 0.0478\n",
            "Epoch 145/200\n",
            "1/1 [==============================] - ETA: 0s - loss: 0.0023 - root_mean_squared_error: 0.0478WARNING:tensorflow:Can save best model only with val_loss available, skipping.\n"
          ]
        },
        {
          "name": "stderr",
          "output_type": "stream",
          "text": [
            "WARNING:tensorflow:Can save best model only with val_loss available, skipping.\n"
          ]
        },
        {
          "name": "stdout",
          "output_type": "stream",
          "text": [
            "1/1 [==============================] - 0s 75ms/step - loss: 0.0023 - root_mean_squared_error: 0.0478\n",
            "Epoch 146/200\n",
            "1/1 [==============================] - ETA: 0s - loss: 0.0023 - root_mean_squared_error: 0.0477WARNING:tensorflow:Can save best model only with val_loss available, skipping.\n"
          ]
        },
        {
          "name": "stderr",
          "output_type": "stream",
          "text": [
            "WARNING:tensorflow:Can save best model only with val_loss available, skipping.\n"
          ]
        },
        {
          "name": "stdout",
          "output_type": "stream",
          "text": [
            "1/1 [==============================] - 0s 100ms/step - loss: 0.0023 - root_mean_squared_error: 0.0477\n",
            "Epoch 147/200\n",
            "1/1 [==============================] - ETA: 0s - loss: 0.0023 - root_mean_squared_error: 0.0477WARNING:tensorflow:Can save best model only with val_loss available, skipping.\n"
          ]
        },
        {
          "name": "stderr",
          "output_type": "stream",
          "text": [
            "WARNING:tensorflow:Can save best model only with val_loss available, skipping.\n"
          ]
        },
        {
          "name": "stdout",
          "output_type": "stream",
          "text": [
            "1/1 [==============================] - 0s 88ms/step - loss: 0.0023 - root_mean_squared_error: 0.0477\n",
            "Epoch 148/200\n",
            "1/1 [==============================] - ETA: 0s - loss: 0.0023 - root_mean_squared_error: 0.0477WARNING:tensorflow:Can save best model only with val_loss available, skipping.\n"
          ]
        },
        {
          "name": "stderr",
          "output_type": "stream",
          "text": [
            "WARNING:tensorflow:Can save best model only with val_loss available, skipping.\n"
          ]
        },
        {
          "name": "stdout",
          "output_type": "stream",
          "text": [
            "1/1 [==============================] - 0s 88ms/step - loss: 0.0023 - root_mean_squared_error: 0.0477\n",
            "Epoch 149/200\n",
            "1/1 [==============================] - ETA: 0s - loss: 0.0023 - root_mean_squared_error: 0.0476WARNING:tensorflow:Can save best model only with val_loss available, skipping.\n"
          ]
        },
        {
          "name": "stderr",
          "output_type": "stream",
          "text": [
            "WARNING:tensorflow:Can save best model only with val_loss available, skipping.\n"
          ]
        },
        {
          "name": "stdout",
          "output_type": "stream",
          "text": [
            "1/1 [==============================] - 0s 102ms/step - loss: 0.0023 - root_mean_squared_error: 0.0476\n",
            "Epoch 150/200\n",
            "1/1 [==============================] - ETA: 0s - loss: 0.0023 - root_mean_squared_error: 0.0476WARNING:tensorflow:Can save best model only with val_loss available, skipping.\n"
          ]
        },
        {
          "name": "stderr",
          "output_type": "stream",
          "text": [
            "WARNING:tensorflow:Can save best model only with val_loss available, skipping.\n"
          ]
        },
        {
          "name": "stdout",
          "output_type": "stream",
          "text": [
            "1/1 [==============================] - 0s 106ms/step - loss: 0.0023 - root_mean_squared_error: 0.0476\n",
            "Epoch 151/200\n",
            "1/1 [==============================] - ETA: 0s - loss: 0.0023 - root_mean_squared_error: 0.0475WARNING:tensorflow:Can save best model only with val_loss available, skipping.\n"
          ]
        },
        {
          "name": "stderr",
          "output_type": "stream",
          "text": [
            "WARNING:tensorflow:Can save best model only with val_loss available, skipping.\n"
          ]
        },
        {
          "name": "stdout",
          "output_type": "stream",
          "text": [
            "1/1 [==============================] - 0s 92ms/step - loss: 0.0023 - root_mean_squared_error: 0.0475\n",
            "Epoch 152/200\n",
            "1/1 [==============================] - ETA: 0s - loss: 0.0023 - root_mean_squared_error: 0.0475WARNING:tensorflow:Can save best model only with val_loss available, skipping.\n"
          ]
        },
        {
          "name": "stderr",
          "output_type": "stream",
          "text": [
            "WARNING:tensorflow:Can save best model only with val_loss available, skipping.\n"
          ]
        },
        {
          "name": "stdout",
          "output_type": "stream",
          "text": [
            "1/1 [==============================] - 0s 76ms/step - loss: 0.0023 - root_mean_squared_error: 0.0475\n",
            "Epoch 153/200\n",
            "1/1 [==============================] - ETA: 0s - loss: 0.0023 - root_mean_squared_error: 0.0474WARNING:tensorflow:Can save best model only with val_loss available, skipping.\n"
          ]
        },
        {
          "name": "stderr",
          "output_type": "stream",
          "text": [
            "WARNING:tensorflow:Can save best model only with val_loss available, skipping.\n"
          ]
        },
        {
          "name": "stdout",
          "output_type": "stream",
          "text": [
            "1/1 [==============================] - 0s 77ms/step - loss: 0.0023 - root_mean_squared_error: 0.0474\n",
            "Epoch 154/200\n",
            "1/1 [==============================] - ETA: 0s - loss: 0.0022 - root_mean_squared_error: 0.0474WARNING:tensorflow:Can save best model only with val_loss available, skipping.\n"
          ]
        },
        {
          "name": "stderr",
          "output_type": "stream",
          "text": [
            "WARNING:tensorflow:Can save best model only with val_loss available, skipping.\n"
          ]
        },
        {
          "name": "stdout",
          "output_type": "stream",
          "text": [
            "1/1 [==============================] - 0s 107ms/step - loss: 0.0022 - root_mean_squared_error: 0.0474\n",
            "Epoch 155/200\n",
            "1/1 [==============================] - ETA: 0s - loss: 0.0022 - root_mean_squared_error: 0.0474WARNING:tensorflow:Can save best model only with val_loss available, skipping.\n"
          ]
        },
        {
          "name": "stderr",
          "output_type": "stream",
          "text": [
            "WARNING:tensorflow:Can save best model only with val_loss available, skipping.\n"
          ]
        },
        {
          "name": "stdout",
          "output_type": "stream",
          "text": [
            "1/1 [==============================] - 0s 286ms/step - loss: 0.0022 - root_mean_squared_error: 0.0474\n",
            "Epoch 156/200\n",
            "1/1 [==============================] - ETA: 0s - loss: 0.0022 - root_mean_squared_error: 0.0473WARNING:tensorflow:Can save best model only with val_loss available, skipping.\n"
          ]
        },
        {
          "name": "stderr",
          "output_type": "stream",
          "text": [
            "WARNING:tensorflow:Can save best model only with val_loss available, skipping.\n"
          ]
        },
        {
          "name": "stdout",
          "output_type": "stream",
          "text": [
            "1/1 [==============================] - 0s 163ms/step - loss: 0.0022 - root_mean_squared_error: 0.0473\n",
            "Epoch 157/200\n",
            "1/1 [==============================] - ETA: 0s - loss: 0.0022 - root_mean_squared_error: 0.0473WARNING:tensorflow:Can save best model only with val_loss available, skipping.\n"
          ]
        },
        {
          "name": "stderr",
          "output_type": "stream",
          "text": [
            "WARNING:tensorflow:Can save best model only with val_loss available, skipping.\n"
          ]
        },
        {
          "name": "stdout",
          "output_type": "stream",
          "text": [
            "1/1 [==============================] - 0s 308ms/step - loss: 0.0022 - root_mean_squared_error: 0.0473\n",
            "Epoch 158/200\n",
            "1/1 [==============================] - ETA: 0s - loss: 0.0022 - root_mean_squared_error: 0.0472WARNING:tensorflow:Can save best model only with val_loss available, skipping.\n"
          ]
        },
        {
          "name": "stderr",
          "output_type": "stream",
          "text": [
            "WARNING:tensorflow:Can save best model only with val_loss available, skipping.\n"
          ]
        },
        {
          "name": "stdout",
          "output_type": "stream",
          "text": [
            "1/1 [==============================] - 0s 145ms/step - loss: 0.0022 - root_mean_squared_error: 0.0472\n",
            "Epoch 159/200\n",
            "1/1 [==============================] - ETA: 0s - loss: 0.0022 - root_mean_squared_error: 0.0472WARNING:tensorflow:Can save best model only with val_loss available, skipping.\n"
          ]
        },
        {
          "name": "stderr",
          "output_type": "stream",
          "text": [
            "WARNING:tensorflow:Can save best model only with val_loss available, skipping.\n"
          ]
        },
        {
          "name": "stdout",
          "output_type": "stream",
          "text": [
            "1/1 [==============================] - 0s 106ms/step - loss: 0.0022 - root_mean_squared_error: 0.0472\n",
            "Epoch 160/200\n",
            "1/1 [==============================] - ETA: 0s - loss: 0.0022 - root_mean_squared_error: 0.0471WARNING:tensorflow:Can save best model only with val_loss available, skipping.\n"
          ]
        },
        {
          "name": "stderr",
          "output_type": "stream",
          "text": [
            "WARNING:tensorflow:Can save best model only with val_loss available, skipping.\n"
          ]
        },
        {
          "name": "stdout",
          "output_type": "stream",
          "text": [
            "1/1 [==============================] - 0s 71ms/step - loss: 0.0022 - root_mean_squared_error: 0.0471\n",
            "Epoch 161/200\n",
            "1/1 [==============================] - ETA: 0s - loss: 0.0022 - root_mean_squared_error: 0.0471WARNING:tensorflow:Can save best model only with val_loss available, skipping.\n"
          ]
        },
        {
          "name": "stderr",
          "output_type": "stream",
          "text": [
            "WARNING:tensorflow:Can save best model only with val_loss available, skipping.\n"
          ]
        },
        {
          "name": "stdout",
          "output_type": "stream",
          "text": [
            "1/1 [==============================] - 0s 73ms/step - loss: 0.0022 - root_mean_squared_error: 0.0471\n",
            "Epoch 162/200\n",
            "1/1 [==============================] - ETA: 0s - loss: 0.0022 - root_mean_squared_error: 0.0471WARNING:tensorflow:Can save best model only with val_loss available, skipping.\n"
          ]
        },
        {
          "name": "stderr",
          "output_type": "stream",
          "text": [
            "WARNING:tensorflow:Can save best model only with val_loss available, skipping.\n"
          ]
        },
        {
          "name": "stdout",
          "output_type": "stream",
          "text": [
            "1/1 [==============================] - 0s 65ms/step - loss: 0.0022 - root_mean_squared_error: 0.0471\n",
            "Epoch 163/200\n",
            "1/1 [==============================] - ETA: 0s - loss: 0.0022 - root_mean_squared_error: 0.0470WARNING:tensorflow:Can save best model only with val_loss available, skipping.\n"
          ]
        },
        {
          "name": "stderr",
          "output_type": "stream",
          "text": [
            "WARNING:tensorflow:Can save best model only with val_loss available, skipping.\n"
          ]
        },
        {
          "name": "stdout",
          "output_type": "stream",
          "text": [
            "1/1 [==============================] - 0s 72ms/step - loss: 0.0022 - root_mean_squared_error: 0.0470\n",
            "Epoch 164/200\n",
            "1/1 [==============================] - ETA: 0s - loss: 0.0022 - root_mean_squared_error: 0.0470WARNING:tensorflow:Can save best model only with val_loss available, skipping.\n"
          ]
        },
        {
          "name": "stderr",
          "output_type": "stream",
          "text": [
            "WARNING:tensorflow:Can save best model only with val_loss available, skipping.\n"
          ]
        },
        {
          "name": "stdout",
          "output_type": "stream",
          "text": [
            "1/1 [==============================] - 0s 100ms/step - loss: 0.0022 - root_mean_squared_error: 0.0470\n",
            "Epoch 165/200\n",
            "1/1 [==============================] - ETA: 0s - loss: 0.0022 - root_mean_squared_error: 0.0469WARNING:tensorflow:Can save best model only with val_loss available, skipping.\n"
          ]
        },
        {
          "name": "stderr",
          "output_type": "stream",
          "text": [
            "WARNING:tensorflow:Can save best model only with val_loss available, skipping.\n"
          ]
        },
        {
          "name": "stdout",
          "output_type": "stream",
          "text": [
            "1/1 [==============================] - 0s 95ms/step - loss: 0.0022 - root_mean_squared_error: 0.0469\n",
            "Epoch 166/200\n",
            "1/1 [==============================] - ETA: 0s - loss: 0.0022 - root_mean_squared_error: 0.0469WARNING:tensorflow:Can save best model only with val_loss available, skipping.\n"
          ]
        },
        {
          "name": "stderr",
          "output_type": "stream",
          "text": [
            "WARNING:tensorflow:Can save best model only with val_loss available, skipping.\n"
          ]
        },
        {
          "name": "stdout",
          "output_type": "stream",
          "text": [
            "1/1 [==============================] - 0s 144ms/step - loss: 0.0022 - root_mean_squared_error: 0.0469\n",
            "Epoch 167/200\n",
            "1/1 [==============================] - ETA: 0s - loss: 0.0022 - root_mean_squared_error: 0.0468WARNING:tensorflow:Can save best model only with val_loss available, skipping.\n"
          ]
        },
        {
          "name": "stderr",
          "output_type": "stream",
          "text": [
            "WARNING:tensorflow:Can save best model only with val_loss available, skipping.\n"
          ]
        },
        {
          "name": "stdout",
          "output_type": "stream",
          "text": [
            "1/1 [==============================] - 0s 86ms/step - loss: 0.0022 - root_mean_squared_error: 0.0468\n",
            "Epoch 168/200\n",
            "1/1 [==============================] - ETA: 0s - loss: 0.0022 - root_mean_squared_error: 0.0468WARNING:tensorflow:Can save best model only with val_loss available, skipping.\n"
          ]
        },
        {
          "name": "stderr",
          "output_type": "stream",
          "text": [
            "WARNING:tensorflow:Can save best model only with val_loss available, skipping.\n"
          ]
        },
        {
          "name": "stdout",
          "output_type": "stream",
          "text": [
            "1/1 [==============================] - 0s 83ms/step - loss: 0.0022 - root_mean_squared_error: 0.0468\n",
            "Epoch 169/200\n",
            "1/1 [==============================] - ETA: 0s - loss: 0.0022 - root_mean_squared_error: 0.0468WARNING:tensorflow:Can save best model only with val_loss available, skipping.\n"
          ]
        },
        {
          "name": "stderr",
          "output_type": "stream",
          "text": [
            "WARNING:tensorflow:Can save best model only with val_loss available, skipping.\n"
          ]
        },
        {
          "name": "stdout",
          "output_type": "stream",
          "text": [
            "1/1 [==============================] - 0s 69ms/step - loss: 0.0022 - root_mean_squared_error: 0.0468\n",
            "Epoch 170/200\n",
            "1/1 [==============================] - ETA: 0s - loss: 0.0022 - root_mean_squared_error: 0.0467WARNING:tensorflow:Can save best model only with val_loss available, skipping.\n"
          ]
        },
        {
          "name": "stderr",
          "output_type": "stream",
          "text": [
            "WARNING:tensorflow:Can save best model only with val_loss available, skipping.\n"
          ]
        },
        {
          "name": "stdout",
          "output_type": "stream",
          "text": [
            "1/1 [==============================] - 0s 84ms/step - loss: 0.0022 - root_mean_squared_error: 0.0467\n",
            "Epoch 171/200\n",
            "1/1 [==============================] - ETA: 0s - loss: 0.0022 - root_mean_squared_error: 0.0467WARNING:tensorflow:Can save best model only with val_loss available, skipping.\n"
          ]
        },
        {
          "name": "stderr",
          "output_type": "stream",
          "text": [
            "WARNING:tensorflow:Can save best model only with val_loss available, skipping.\n"
          ]
        },
        {
          "name": "stdout",
          "output_type": "stream",
          "text": [
            "1/1 [==============================] - 0s 71ms/step - loss: 0.0022 - root_mean_squared_error: 0.0467\n",
            "Epoch 172/200\n",
            "1/1 [==============================] - ETA: 0s - loss: 0.0022 - root_mean_squared_error: 0.0466WARNING:tensorflow:Can save best model only with val_loss available, skipping.\n"
          ]
        },
        {
          "name": "stderr",
          "output_type": "stream",
          "text": [
            "WARNING:tensorflow:Can save best model only with val_loss available, skipping.\n"
          ]
        },
        {
          "name": "stdout",
          "output_type": "stream",
          "text": [
            "1/1 [==============================] - 0s 105ms/step - loss: 0.0022 - root_mean_squared_error: 0.0466\n",
            "Epoch 173/200\n",
            "1/1 [==============================] - ETA: 0s - loss: 0.0022 - root_mean_squared_error: 0.0466WARNING:tensorflow:Can save best model only with val_loss available, skipping.\n"
          ]
        },
        {
          "name": "stderr",
          "output_type": "stream",
          "text": [
            "WARNING:tensorflow:Can save best model only with val_loss available, skipping.\n"
          ]
        },
        {
          "name": "stdout",
          "output_type": "stream",
          "text": [
            "1/1 [==============================] - 0s 114ms/step - loss: 0.0022 - root_mean_squared_error: 0.0466\n",
            "Epoch 174/200\n",
            "1/1 [==============================] - ETA: 0s - loss: 0.0022 - root_mean_squared_error: 0.0465WARNING:tensorflow:Can save best model only with val_loss available, skipping.\n"
          ]
        },
        {
          "name": "stderr",
          "output_type": "stream",
          "text": [
            "WARNING:tensorflow:Can save best model only with val_loss available, skipping.\n"
          ]
        },
        {
          "name": "stdout",
          "output_type": "stream",
          "text": [
            "1/1 [==============================] - 0s 132ms/step - loss: 0.0022 - root_mean_squared_error: 0.0465\n",
            "Epoch 175/200\n",
            "1/1 [==============================] - ETA: 0s - loss: 0.0022 - root_mean_squared_error: 0.0465WARNING:tensorflow:Can save best model only with val_loss available, skipping.\n"
          ]
        },
        {
          "name": "stderr",
          "output_type": "stream",
          "text": [
            "WARNING:tensorflow:Can save best model only with val_loss available, skipping.\n"
          ]
        },
        {
          "name": "stdout",
          "output_type": "stream",
          "text": [
            "1/1 [==============================] - 0s 93ms/step - loss: 0.0022 - root_mean_squared_error: 0.0465\n",
            "Epoch 176/200\n",
            "1/1 [==============================] - ETA: 0s - loss: 0.0022 - root_mean_squared_error: 0.0464WARNING:tensorflow:Can save best model only with val_loss available, skipping.\n"
          ]
        },
        {
          "name": "stderr",
          "output_type": "stream",
          "text": [
            "WARNING:tensorflow:Can save best model only with val_loss available, skipping.\n"
          ]
        },
        {
          "name": "stdout",
          "output_type": "stream",
          "text": [
            "1/1 [==============================] - 0s 146ms/step - loss: 0.0022 - root_mean_squared_error: 0.0464\n",
            "Epoch 177/200\n",
            "1/1 [==============================] - ETA: 0s - loss: 0.0022 - root_mean_squared_error: 0.0464WARNING:tensorflow:Can save best model only with val_loss available, skipping.\n"
          ]
        },
        {
          "name": "stderr",
          "output_type": "stream",
          "text": [
            "WARNING:tensorflow:Can save best model only with val_loss available, skipping.\n"
          ]
        },
        {
          "name": "stdout",
          "output_type": "stream",
          "text": [
            "1/1 [==============================] - 0s 123ms/step - loss: 0.0022 - root_mean_squared_error: 0.0464\n",
            "Epoch 178/200\n",
            "1/1 [==============================] - ETA: 0s - loss: 0.0021 - root_mean_squared_error: 0.0464WARNING:tensorflow:Can save best model only with val_loss available, skipping.\n"
          ]
        },
        {
          "name": "stderr",
          "output_type": "stream",
          "text": [
            "WARNING:tensorflow:Can save best model only with val_loss available, skipping.\n"
          ]
        },
        {
          "name": "stdout",
          "output_type": "stream",
          "text": [
            "1/1 [==============================] - 0s 93ms/step - loss: 0.0021 - root_mean_squared_error: 0.0464\n",
            "Epoch 179/200\n",
            "1/1 [==============================] - ETA: 0s - loss: 0.0021 - root_mean_squared_error: 0.0463WARNING:tensorflow:Can save best model only with val_loss available, skipping.\n"
          ]
        },
        {
          "name": "stderr",
          "output_type": "stream",
          "text": [
            "WARNING:tensorflow:Can save best model only with val_loss available, skipping.\n"
          ]
        },
        {
          "name": "stdout",
          "output_type": "stream",
          "text": [
            "1/1 [==============================] - 0s 218ms/step - loss: 0.0021 - root_mean_squared_error: 0.0463\n",
            "Epoch 180/200\n",
            "1/1 [==============================] - ETA: 0s - loss: 0.0021 - root_mean_squared_error: 0.0463WARNING:tensorflow:Can save best model only with val_loss available, skipping.\n"
          ]
        },
        {
          "name": "stderr",
          "output_type": "stream",
          "text": [
            "WARNING:tensorflow:Can save best model only with val_loss available, skipping.\n"
          ]
        },
        {
          "name": "stdout",
          "output_type": "stream",
          "text": [
            "1/1 [==============================] - 0s 139ms/step - loss: 0.0021 - root_mean_squared_error: 0.0463\n",
            "Epoch 181/200\n",
            "1/1 [==============================] - ETA: 0s - loss: 0.0021 - root_mean_squared_error: 0.0462WARNING:tensorflow:Can save best model only with val_loss available, skipping.\n"
          ]
        },
        {
          "name": "stderr",
          "output_type": "stream",
          "text": [
            "WARNING:tensorflow:Can save best model only with val_loss available, skipping.\n"
          ]
        },
        {
          "name": "stdout",
          "output_type": "stream",
          "text": [
            "1/1 [==============================] - 0s 191ms/step - loss: 0.0021 - root_mean_squared_error: 0.0462\n",
            "Epoch 182/200\n",
            "1/1 [==============================] - ETA: 0s - loss: 0.0021 - root_mean_squared_error: 0.0462WARNING:tensorflow:Can save best model only with val_loss available, skipping.\n"
          ]
        },
        {
          "name": "stderr",
          "output_type": "stream",
          "text": [
            "WARNING:tensorflow:Can save best model only with val_loss available, skipping.\n"
          ]
        },
        {
          "name": "stdout",
          "output_type": "stream",
          "text": [
            "1/1 [==============================] - 0s 82ms/step - loss: 0.0021 - root_mean_squared_error: 0.0462\n",
            "Epoch 183/200\n",
            "1/1 [==============================] - ETA: 0s - loss: 0.0021 - root_mean_squared_error: 0.0461WARNING:tensorflow:Can save best model only with val_loss available, skipping.\n"
          ]
        },
        {
          "name": "stderr",
          "output_type": "stream",
          "text": [
            "WARNING:tensorflow:Can save best model only with val_loss available, skipping.\n"
          ]
        },
        {
          "name": "stdout",
          "output_type": "stream",
          "text": [
            "1/1 [==============================] - 0s 90ms/step - loss: 0.0021 - root_mean_squared_error: 0.0461\n",
            "Epoch 184/200\n",
            "1/1 [==============================] - ETA: 0s - loss: 0.0021 - root_mean_squared_error: 0.0461WARNING:tensorflow:Can save best model only with val_loss available, skipping.\n"
          ]
        },
        {
          "name": "stderr",
          "output_type": "stream",
          "text": [
            "WARNING:tensorflow:Can save best model only with val_loss available, skipping.\n"
          ]
        },
        {
          "name": "stdout",
          "output_type": "stream",
          "text": [
            "1/1 [==============================] - 0s 157ms/step - loss: 0.0021 - root_mean_squared_error: 0.0461\n",
            "Epoch 185/200\n",
            "1/1 [==============================] - ETA: 0s - loss: 0.0021 - root_mean_squared_error: 0.0460WARNING:tensorflow:Can save best model only with val_loss available, skipping.\n"
          ]
        },
        {
          "name": "stderr",
          "output_type": "stream",
          "text": [
            "WARNING:tensorflow:Can save best model only with val_loss available, skipping.\n"
          ]
        },
        {
          "name": "stdout",
          "output_type": "stream",
          "text": [
            "1/1 [==============================] - 0s 129ms/step - loss: 0.0021 - root_mean_squared_error: 0.0460\n",
            "Epoch 186/200\n",
            "1/1 [==============================] - ETA: 0s - loss: 0.0021 - root_mean_squared_error: 0.0460WARNING:tensorflow:Can save best model only with val_loss available, skipping.\n"
          ]
        },
        {
          "name": "stderr",
          "output_type": "stream",
          "text": [
            "WARNING:tensorflow:Can save best model only with val_loss available, skipping.\n"
          ]
        },
        {
          "name": "stdout",
          "output_type": "stream",
          "text": [
            "1/1 [==============================] - 0s 88ms/step - loss: 0.0021 - root_mean_squared_error: 0.0460\n",
            "Epoch 187/200\n",
            "1/1 [==============================] - ETA: 0s - loss: 0.0021 - root_mean_squared_error: 0.0460WARNING:tensorflow:Can save best model only with val_loss available, skipping.\n"
          ]
        },
        {
          "name": "stderr",
          "output_type": "stream",
          "text": [
            "WARNING:tensorflow:Can save best model only with val_loss available, skipping.\n"
          ]
        },
        {
          "name": "stdout",
          "output_type": "stream",
          "text": [
            "1/1 [==============================] - 0s 85ms/step - loss: 0.0021 - root_mean_squared_error: 0.0460\n",
            "Epoch 188/200\n",
            "1/1 [==============================] - ETA: 0s - loss: 0.0021 - root_mean_squared_error: 0.0459WARNING:tensorflow:Can save best model only with val_loss available, skipping.\n"
          ]
        },
        {
          "name": "stderr",
          "output_type": "stream",
          "text": [
            "WARNING:tensorflow:Can save best model only with val_loss available, skipping.\n"
          ]
        },
        {
          "name": "stdout",
          "output_type": "stream",
          "text": [
            "1/1 [==============================] - 0s 88ms/step - loss: 0.0021 - root_mean_squared_error: 0.0459\n",
            "Epoch 189/200\n",
            "1/1 [==============================] - ETA: 0s - loss: 0.0021 - root_mean_squared_error: 0.0459WARNING:tensorflow:Can save best model only with val_loss available, skipping.\n"
          ]
        },
        {
          "name": "stderr",
          "output_type": "stream",
          "text": [
            "WARNING:tensorflow:Can save best model only with val_loss available, skipping.\n"
          ]
        },
        {
          "name": "stdout",
          "output_type": "stream",
          "text": [
            "1/1 [==============================] - 0s 67ms/step - loss: 0.0021 - root_mean_squared_error: 0.0459\n",
            "Epoch 190/200\n",
            "1/1 [==============================] - ETA: 0s - loss: 0.0021 - root_mean_squared_error: 0.0458WARNING:tensorflow:Can save best model only with val_loss available, skipping.\n"
          ]
        },
        {
          "name": "stderr",
          "output_type": "stream",
          "text": [
            "WARNING:tensorflow:Can save best model only with val_loss available, skipping.\n"
          ]
        },
        {
          "name": "stdout",
          "output_type": "stream",
          "text": [
            "1/1 [==============================] - 0s 70ms/step - loss: 0.0021 - root_mean_squared_error: 0.0458\n",
            "Epoch 191/200\n",
            "1/1 [==============================] - ETA: 0s - loss: 0.0021 - root_mean_squared_error: 0.0458WARNING:tensorflow:Can save best model only with val_loss available, skipping.\n"
          ]
        },
        {
          "name": "stderr",
          "output_type": "stream",
          "text": [
            "WARNING:tensorflow:Can save best model only with val_loss available, skipping.\n"
          ]
        },
        {
          "name": "stdout",
          "output_type": "stream",
          "text": [
            "1/1 [==============================] - 0s 75ms/step - loss: 0.0021 - root_mean_squared_error: 0.0458\n",
            "Epoch 192/200\n",
            "1/1 [==============================] - ETA: 0s - loss: 0.0021 - root_mean_squared_error: 0.0457WARNING:tensorflow:Can save best model only with val_loss available, skipping.\n"
          ]
        },
        {
          "name": "stderr",
          "output_type": "stream",
          "text": [
            "WARNING:tensorflow:Can save best model only with val_loss available, skipping.\n"
          ]
        },
        {
          "name": "stdout",
          "output_type": "stream",
          "text": [
            "1/1 [==============================] - 0s 66ms/step - loss: 0.0021 - root_mean_squared_error: 0.0457\n",
            "Epoch 193/200\n",
            "1/1 [==============================] - ETA: 0s - loss: 0.0021 - root_mean_squared_error: 0.0457WARNING:tensorflow:Can save best model only with val_loss available, skipping.\n"
          ]
        },
        {
          "name": "stderr",
          "output_type": "stream",
          "text": [
            "WARNING:tensorflow:Can save best model only with val_loss available, skipping.\n"
          ]
        },
        {
          "name": "stdout",
          "output_type": "stream",
          "text": [
            "1/1 [==============================] - 0s 69ms/step - loss: 0.0021 - root_mean_squared_error: 0.0457\n",
            "Epoch 194/200\n",
            "1/1 [==============================] - ETA: 0s - loss: 0.0021 - root_mean_squared_error: 0.0456WARNING:tensorflow:Can save best model only with val_loss available, skipping.\n"
          ]
        },
        {
          "name": "stderr",
          "output_type": "stream",
          "text": [
            "WARNING:tensorflow:Can save best model only with val_loss available, skipping.\n"
          ]
        },
        {
          "name": "stdout",
          "output_type": "stream",
          "text": [
            "1/1 [==============================] - 0s 71ms/step - loss: 0.0021 - root_mean_squared_error: 0.0456\n",
            "Epoch 195/200\n",
            "1/1 [==============================] - ETA: 0s - loss: 0.0021 - root_mean_squared_error: 0.0456WARNING:tensorflow:Can save best model only with val_loss available, skipping.\n"
          ]
        },
        {
          "name": "stderr",
          "output_type": "stream",
          "text": [
            "WARNING:tensorflow:Can save best model only with val_loss available, skipping.\n"
          ]
        },
        {
          "name": "stdout",
          "output_type": "stream",
          "text": [
            "1/1 [==============================] - 0s 74ms/step - loss: 0.0021 - root_mean_squared_error: 0.0456\n",
            "Epoch 196/200\n",
            "1/1 [==============================] - ETA: 0s - loss: 0.0021 - root_mean_squared_error: 0.0456WARNING:tensorflow:Can save best model only with val_loss available, skipping.\n"
          ]
        },
        {
          "name": "stderr",
          "output_type": "stream",
          "text": [
            "WARNING:tensorflow:Can save best model only with val_loss available, skipping.\n"
          ]
        },
        {
          "name": "stdout",
          "output_type": "stream",
          "text": [
            "1/1 [==============================] - 0s 60ms/step - loss: 0.0021 - root_mean_squared_error: 0.0456\n",
            "Epoch 197/200\n",
            "1/1 [==============================] - ETA: 0s - loss: 0.0021 - root_mean_squared_error: 0.0455WARNING:tensorflow:Can save best model only with val_loss available, skipping.\n"
          ]
        },
        {
          "name": "stderr",
          "output_type": "stream",
          "text": [
            "WARNING:tensorflow:Can save best model only with val_loss available, skipping.\n"
          ]
        },
        {
          "name": "stdout",
          "output_type": "stream",
          "text": [
            "1/1 [==============================] - 0s 71ms/step - loss: 0.0021 - root_mean_squared_error: 0.0455\n",
            "Epoch 198/200\n",
            "1/1 [==============================] - ETA: 0s - loss: 0.0021 - root_mean_squared_error: 0.0455WARNING:tensorflow:Can save best model only with val_loss available, skipping.\n"
          ]
        },
        {
          "name": "stderr",
          "output_type": "stream",
          "text": [
            "WARNING:tensorflow:Can save best model only with val_loss available, skipping.\n"
          ]
        },
        {
          "name": "stdout",
          "output_type": "stream",
          "text": [
            "1/1 [==============================] - 0s 77ms/step - loss: 0.0021 - root_mean_squared_error: 0.0455\n",
            "Epoch 199/200\n",
            "1/1 [==============================] - ETA: 0s - loss: 0.0021 - root_mean_squared_error: 0.0454WARNING:tensorflow:Can save best model only with val_loss available, skipping.\n"
          ]
        },
        {
          "name": "stderr",
          "output_type": "stream",
          "text": [
            "WARNING:tensorflow:Can save best model only with val_loss available, skipping.\n"
          ]
        },
        {
          "name": "stdout",
          "output_type": "stream",
          "text": [
            "1/1 [==============================] - 0s 76ms/step - loss: 0.0021 - root_mean_squared_error: 0.0454\n",
            "Epoch 200/200\n",
            "1/1 [==============================] - ETA: 0s - loss: 0.0021 - root_mean_squared_error: 0.0454WARNING:tensorflow:Can save best model only with val_loss available, skipping.\n"
          ]
        },
        {
          "name": "stderr",
          "output_type": "stream",
          "text": [
            "WARNING:tensorflow:Can save best model only with val_loss available, skipping.\n"
          ]
        },
        {
          "name": "stdout",
          "output_type": "stream",
          "text": [
            "1/1 [==============================] - 0s 71ms/step - loss: 0.0021 - root_mean_squared_error: 0.0454\n"
          ]
        },
        {
          "name": "stderr",
          "output_type": "stream",
          "text": [
            "WARNING:absl:Found untraced functions such as lstm_cell_5_layer_call_fn, lstm_cell_5_layer_call_and_return_conditional_losses while saving (showing 2 of 2). These functions will not be directly callable after loading.\n"
          ]
        },
        {
          "name": "stdout",
          "output_type": "stream",
          "text": [
            "INFO:tensorflow:Assets written to: ./model\\assets\n"
          ]
        },
        {
          "name": "stderr",
          "output_type": "stream",
          "text": [
            "INFO:tensorflow:Assets written to: ./model\\assets\n",
            "WARNING:absl:<keras.layers.recurrent.LSTMCell object at 0x0000026BB7909540> has the same name 'LSTMCell' as a built-in Keras object. Consider renaming <class 'keras.layers.recurrent.LSTMCell'> to avoid naming conflicts when loading with `tf.keras.models.load_model`. If renaming is not possible, pass the object in the `custom_objects` parameter of the load function.\n"
          ]
        }
      ],
      "source": [
        "# X_test_indices = tokenizer.texts_to_sequences(X_test)\n",
        "# X_test_indices = pad_sequences(X_test_indices, maxlen=maxLen, padding='post')\n",
        "from keras.models import load_model\n",
        "model = load_model('model/')\n",
        "model.fit(X_train, Y_train, validation_data=(X_val1, y_val1), epochs=400, callbacks=[cp1])\n",
        "model.save('./model')\n",
        "# model.evaluate(X_test, Y_test)\n",
        "# model_1d.evaluate(X_test_indices, Y_test)"
      ]
    },
    {
      "cell_type": "code",
      "execution_count": 131,
      "metadata": {
        "colab": {
          "base_uri": "https://localhost:8080/"
        },
        "id": "-SKL-SzCs9e4",
        "outputId": "72e0087d-174c-404f-c2db-edfddb4e7c42"
      },
      "outputs": [
        {
          "name": "stdout",
          "output_type": "stream",
          "text": [
            "WARNING:tensorflow:5 out of the last 9 calls to <function Model.make_predict_function.<locals>.predict_function at 0x000001395447B760> triggered tf.function retracing. Tracing is expensive and the excessive number of tracings could be due to (1) creating @tf.function repeatedly in a loop, (2) passing tensors with different shapes, (3) passing Python objects instead of tensors. For (1), please define your @tf.function outside of the loop. For (2), @tf.function has experimental_relax_shapes=True option that relaxes argument shapes that can avoid unnecessary retracing. For (3), please refer to https://www.tensorflow.org/guide/function#controlling_retracing and https://www.tensorflow.org/api_docs/python/tf/function for  more details.\n"
          ]
        },
        {
          "name": "stderr",
          "output_type": "stream",
          "text": [
            "WARNING:tensorflow:5 out of the last 9 calls to <function Model.make_predict_function.<locals>.predict_function at 0x000001395447B760> triggered tf.function retracing. Tracing is expensive and the excessive number of tracings could be due to (1) creating @tf.function repeatedly in a loop, (2) passing tensors with different shapes, (3) passing Python objects instead of tensors. For (1), please define your @tf.function outside of the loop. For (2), @tf.function has experimental_relax_shapes=True option that relaxes argument shapes that can avoid unnecessary retracing. For (3), please refer to https://www.tensorflow.org/guide/function#controlling_retracing and https://www.tensorflow.org/api_docs/python/tf/function for  more details.\n"
          ]
        },
        {
          "name": "stdout",
          "output_type": "stream",
          "text": [
            "<class 'pandas.core.series.Series'>\n",
            "(4,)\n",
            "Predicted duration : [2.0361345], correct duration : 2\n",
            "Predicted duration : [3.320282], correct duration : 4\n",
            "Predicted duration : [3.0557153], correct duration : 3\n",
            "Predicted duration : [2.930008], correct duration : 3\n",
            "Predicted duration : [3.8279414], correct duration : 5\n",
            "Predicted duration : [4.0141153], correct duration : 4\n",
            "Predicted duration : [1.6049051], correct duration : 1\n",
            "Predicted duration : [2.0362668], correct duration : 2\n"
          ]
        }
      ],
      "source": [
        "# preds = model_1d.predict(X_test_indices)\n",
        "# print(f\"X_test = \\n{X_test}\\ntype = {type(X_test)}\")\n",
        "# print(f\"X_test = \\n{X_test}\\ntype = {X_test.shape}\")\n",
        "preds = model.predict(X_test)\n",
        "# print(f'Predicted duration : {preds[0]}, correct duration : {Y_test[6]}')\n",
        "print(type(X_test.iloc[0]))\n",
        "print(X_test.iloc[0].shape)\n",
        "\n",
        "for i in range(len(X_test)):\n",
        "    print(f'Predicted duration : {preds[i]}, correct duration : {Y_test[i]}')"
      ]
    },
    {
      "cell_type": "code",
      "execution_count": null,
      "metadata": {
        "id": "kTtNGnSj0xJ9"
      },
      "outputs": [],
      "source": [
        "# print(f'predicted duration : {preds[n]}')\n",
        "# print(f'correct duration : {Y_test[n]}')"
      ]
    },
    {
      "cell_type": "code",
      "execution_count": null,
      "metadata": {
        "colab": {
          "base_uri": "https://localhost:8080/"
        },
        "id": "qYeroDRh_GSQ",
        "outputId": "d1b643c4-c524-4200-a1b6-5ca06d27e2b2"
      },
      "outputs": [
        {
          "data": {
            "text/plain": [
              "array([0.58026505], dtype=float32)"
            ]
          },
          "execution_count": 38,
          "metadata": {},
          "output_type": "execute_result"
        }
      ],
      "source": [
        "preds[n]"
      ]
    },
    {
      "cell_type": "code",
      "execution_count": null,
      "metadata": {
        "colab": {
          "base_uri": "https://localhost:8080/"
        },
        "id": "CRX1lXzyAiCk",
        "outputId": "90363cee-6a78-4fb1-9b17-ea3601ef8b5e"
      },
      "outputs": [
        {
          "data": {
            "text/plain": [
              "4"
            ]
          },
          "execution_count": 39,
          "metadata": {},
          "output_type": "execute_result"
        }
      ],
      "source": [
        "Y_test[n]"
      ]
    },
    {
      "cell_type": "code",
      "execution_count": null,
      "metadata": {
        "id": "vt4-cklo_IRl"
      },
      "outputs": [],
      "source": [
        "model_1d.save_weights('./imdb_weights_con1vd.hdf5')"
      ]
    },
    {
      "cell_type": "code",
      "execution_count": null,
      "metadata": {
        "id": "o5VqbyPE2JXs"
      },
      "outputs": [],
      "source": [
        "def add_score_predictions(data):\n",
        "\n",
        "  data['duration score'] = 0\n",
        "\n",
        "  reviews_list_idx = pad_sequences(reviews_list_idx, maxlen=maxLen, padding='post')\n",
        "\n",
        "  review_preds = model.predict(reviews_list_idx)\n",
        "\n",
        "  data['duration score'] = review_preds\n",
        "\n",
        "  pred_sentiment = np.array(list(map(lambda x : 'positive' if x > 0.5 else 'negative',review_preds)))\n",
        "\n",
        "  data['predicted duration'] = 0\n",
        "\n",
        "  data['predicted duration'] = pred_sentiment\n",
        "\n",
        "  return data"
      ]
    },
    {
      "cell_type": "code",
      "execution_count": null,
      "metadata": {
        "id": "M2SPaF7N3C3g"
      },
      "outputs": [],
      "source": [
        "# data = add_score_predictions(data, reviews_list_idx)"
      ]
    },
    {
      "cell_type": "code",
      "execution_count": null,
      "metadata": {
        "colab": {
          "base_uri": "https://localhost:8080/",
          "height": 1000
        },
        "id": "vpHAcJ4c3MYN",
        "outputId": "d219220b-e4a6-418e-807c-d0bfbcc57ce0"
      },
      "outputs": [
        {
          "data": {
            "text/html": [
              "<div>\n",
              "<style scoped>\n",
              "    .dataframe tbody tr th:only-of-type {\n",
              "        vertical-align: middle;\n",
              "    }\n",
              "\n",
              "    .dataframe tbody tr th {\n",
              "        vertical-align: top;\n",
              "    }\n",
              "\n",
              "    .dataframe thead th {\n",
              "        text-align: right;\n",
              "    }\n",
              "</style>\n",
              "<table border=\"1\" class=\"dataframe\">\n",
              "  <thead>\n",
              "    <tr style=\"text-align: right;\">\n",
              "      <th></th>\n",
              "      <th>Skill</th>\n",
              "      <th>Complexity</th>\n",
              "      <th>task_name</th>\n",
              "      <th>subtask_name</th>\n",
              "      <th>Duration</th>\n",
              "      <th>task_name without stopwords</th>\n",
              "      <th>subtask_name without stopwords</th>\n",
              "      <th>clean_task_name</th>\n",
              "      <th>clean_subtask_name</th>\n",
              "    </tr>\n",
              "  </thead>\n",
              "  <tbody>\n",
              "    <tr>\n",
              "      <th>0</th>\n",
              "      <td>3</td>\n",
              "      <td>1</td>\n",
              "      <td>home page</td>\n",
              "      <td>api to validate and fetch hot products</td>\n",
              "      <td>3</td>\n",
              "      <td>home page</td>\n",
              "      <td>api validate fetch hot products</td>\n",
              "      <td>home page</td>\n",
              "      <td>api validate fetch hot products</td>\n",
              "    </tr>\n",
              "    <tr>\n",
              "      <th>1</th>\n",
              "      <td>2</td>\n",
              "      <td>0</td>\n",
              "      <td>home page</td>\n",
              "      <td>api to validate and fetch new products</td>\n",
              "      <td>2</td>\n",
              "      <td>home page</td>\n",
              "      <td>api validate fetch new products</td>\n",
              "      <td>home page</td>\n",
              "      <td>api validate fetch new products</td>\n",
              "    </tr>\n",
              "    <tr>\n",
              "      <th>2</th>\n",
              "      <td>3</td>\n",
              "      <td>1</td>\n",
              "      <td>categories page</td>\n",
              "      <td>api to validate and fetch all categories along...</td>\n",
              "      <td>3</td>\n",
              "      <td>categories page</td>\n",
              "      <td>api validate fetch categories along products b...</td>\n",
              "      <td>categories page</td>\n",
              "      <td>api validate fetch categories along products b...</td>\n",
              "    </tr>\n",
              "    <tr>\n",
              "      <th>3</th>\n",
              "      <td>2</td>\n",
              "      <td>0</td>\n",
              "      <td>categories page</td>\n",
              "      <td>api to validate and fetch a single category</td>\n",
              "      <td>2</td>\n",
              "      <td>categories page</td>\n",
              "      <td>api validate fetch single category</td>\n",
              "      <td>categories page</td>\n",
              "      <td>api validate fetch single category</td>\n",
              "    </tr>\n",
              "    <tr>\n",
              "      <th>4</th>\n",
              "      <td>2</td>\n",
              "      <td>0</td>\n",
              "      <td>categories page</td>\n",
              "      <td>api to filter and sort results</td>\n",
              "      <td>2</td>\n",
              "      <td>categories page</td>\n",
              "      <td>api filter sort results</td>\n",
              "      <td>categories page</td>\n",
              "      <td>api filter sort results</td>\n",
              "    </tr>\n",
              "    <tr>\n",
              "      <th>5</th>\n",
              "      <td>2</td>\n",
              "      <td>0</td>\n",
              "      <td>plp</td>\n",
              "      <td>api to validate and fetch list of products</td>\n",
              "      <td>2</td>\n",
              "      <td>plp</td>\n",
              "      <td>api validate fetch list products</td>\n",
              "      <td>plp</td>\n",
              "      <td>api validate fetch list products</td>\n",
              "    </tr>\n",
              "    <tr>\n",
              "      <th>6</th>\n",
              "      <td>3</td>\n",
              "      <td>1</td>\n",
              "      <td>plp</td>\n",
              "      <td>api to filter and sort results</td>\n",
              "      <td>3</td>\n",
              "      <td>plp</td>\n",
              "      <td>api filter sort results</td>\n",
              "      <td>plp</td>\n",
              "      <td>api filter sort results</td>\n",
              "    </tr>\n",
              "    <tr>\n",
              "      <th>7</th>\n",
              "      <td>3</td>\n",
              "      <td>1</td>\n",
              "      <td>plp</td>\n",
              "      <td>api to persist the chosen item in db for cart</td>\n",
              "      <td>3</td>\n",
              "      <td>plp</td>\n",
              "      <td>api persist chosen item db cart</td>\n",
              "      <td>plp</td>\n",
              "      <td>api persist chosen item db cart</td>\n",
              "    </tr>\n",
              "    <tr>\n",
              "      <th>8</th>\n",
              "      <td>3</td>\n",
              "      <td>1</td>\n",
              "      <td>plp</td>\n",
              "      <td>api to persist the chosen item in db for wishlist</td>\n",
              "      <td>3</td>\n",
              "      <td>plp</td>\n",
              "      <td>api persist chosen item db wishlist</td>\n",
              "      <td>plp</td>\n",
              "      <td>api persist chosen item db wishlist</td>\n",
              "    </tr>\n",
              "    <tr>\n",
              "      <th>9</th>\n",
              "      <td>1</td>\n",
              "      <td>0</td>\n",
              "      <td>pdp</td>\n",
              "      <td>api to validate and fetch product details</td>\n",
              "      <td>1</td>\n",
              "      <td>pdp</td>\n",
              "      <td>api validate fetch product details</td>\n",
              "      <td>pdp</td>\n",
              "      <td>api validate fetch product details</td>\n",
              "    </tr>\n",
              "    <tr>\n",
              "      <th>10</th>\n",
              "      <td>3</td>\n",
              "      <td>1</td>\n",
              "      <td>pdp</td>\n",
              "      <td>api to persist the chosen item in db for cart</td>\n",
              "      <td>3</td>\n",
              "      <td>pdp</td>\n",
              "      <td>api persist chosen item db cart</td>\n",
              "      <td>pdp</td>\n",
              "      <td>api persist chosen item db cart</td>\n",
              "    </tr>\n",
              "    <tr>\n",
              "      <th>11</th>\n",
              "      <td>3</td>\n",
              "      <td>1</td>\n",
              "      <td>pdp</td>\n",
              "      <td>api to persist the chosen item in db for wishlist</td>\n",
              "      <td>3</td>\n",
              "      <td>pdp</td>\n",
              "      <td>api persist chosen item db wishlist</td>\n",
              "      <td>pdp</td>\n",
              "      <td>api persist chosen item db wishlist</td>\n",
              "    </tr>\n",
              "    <tr>\n",
              "      <th>12</th>\n",
              "      <td>4</td>\n",
              "      <td>1</td>\n",
              "      <td>cart</td>\n",
              "      <td>api to authenticate the user</td>\n",
              "      <td>4</td>\n",
              "      <td>cart</td>\n",
              "      <td>api authenticate user</td>\n",
              "      <td>cart</td>\n",
              "      <td>api authenticate user</td>\n",
              "    </tr>\n",
              "    <tr>\n",
              "      <th>13</th>\n",
              "      <td>4</td>\n",
              "      <td>1</td>\n",
              "      <td>cart</td>\n",
              "      <td>api to validate and fetch cart items</td>\n",
              "      <td>4</td>\n",
              "      <td>cart</td>\n",
              "      <td>api validate fetch cart items</td>\n",
              "      <td>cart</td>\n",
              "      <td>api validate fetch cart items</td>\n",
              "    </tr>\n",
              "    <tr>\n",
              "      <th>14</th>\n",
              "      <td>4</td>\n",
              "      <td>1</td>\n",
              "      <td>shipping address</td>\n",
              "      <td>api to authenticate the user</td>\n",
              "      <td>4</td>\n",
              "      <td>shipping address</td>\n",
              "      <td>api authenticate user</td>\n",
              "      <td>shipping address</td>\n",
              "      <td>api authenticate user</td>\n",
              "    </tr>\n",
              "    <tr>\n",
              "      <th>15</th>\n",
              "      <td>2</td>\n",
              "      <td>0</td>\n",
              "      <td>shipping address</td>\n",
              "      <td>api to validate and fetch the shipping address...</td>\n",
              "      <td>2</td>\n",
              "      <td>shipping address</td>\n",
              "      <td>api validate fetch shipping address saved cust...</td>\n",
              "      <td>shipping address</td>\n",
              "      <td>api validate fetch shipping address saved cust...</td>\n",
              "    </tr>\n",
              "    <tr>\n",
              "      <th>16</th>\n",
              "      <td>2</td>\n",
              "      <td>0</td>\n",
              "      <td>shipping address</td>\n",
              "      <td>api to save and validate customer address</td>\n",
              "      <td>2</td>\n",
              "      <td>shipping address</td>\n",
              "      <td>api save validate customer address</td>\n",
              "      <td>shipping address</td>\n",
              "      <td>api save validate customer address</td>\n",
              "    </tr>\n",
              "    <tr>\n",
              "      <th>17</th>\n",
              "      <td>2</td>\n",
              "      <td>0</td>\n",
              "      <td>shipping address</td>\n",
              "      <td>api to validate and fetch city and state names...</td>\n",
              "      <td>2</td>\n",
              "      <td>shipping address</td>\n",
              "      <td>api validate fetch city state names business o...</td>\n",
              "      <td>shipping address</td>\n",
              "      <td>api validate fetch city state names business o...</td>\n",
              "    </tr>\n",
              "    <tr>\n",
              "      <th>18</th>\n",
              "      <td>4</td>\n",
              "      <td>1</td>\n",
              "      <td>delivery method</td>\n",
              "      <td>api to authenticate the user</td>\n",
              "      <td>4</td>\n",
              "      <td>delivery method</td>\n",
              "      <td>api authenticate user</td>\n",
              "      <td>delivery method</td>\n",
              "      <td>api authenticate user</td>\n",
              "    </tr>\n",
              "    <tr>\n",
              "      <th>19</th>\n",
              "      <td>2</td>\n",
              "      <td>0</td>\n",
              "      <td>delivery method</td>\n",
              "      <td>api to validate and fetch all delivery methods...</td>\n",
              "      <td>2</td>\n",
              "      <td>delivery method</td>\n",
              "      <td>api validate fetch delivery methods supported ...</td>\n",
              "      <td>delivery method</td>\n",
              "      <td>api validate fetch delivery methods supported ...</td>\n",
              "    </tr>\n",
              "    <tr>\n",
              "      <th>20</th>\n",
              "      <td>4</td>\n",
              "      <td>1</td>\n",
              "      <td>payment method</td>\n",
              "      <td>api to authenticate the user</td>\n",
              "      <td>4</td>\n",
              "      <td>payment method</td>\n",
              "      <td>api authenticate user</td>\n",
              "      <td>payment method</td>\n",
              "      <td>api authenticate user</td>\n",
              "    </tr>\n",
              "    <tr>\n",
              "      <th>21</th>\n",
              "      <td>2</td>\n",
              "      <td>0</td>\n",
              "      <td>payment method</td>\n",
              "      <td>api to validate and fetch all payment methods ...</td>\n",
              "      <td>2</td>\n",
              "      <td>payment method</td>\n",
              "      <td>api validate fetch payment methods supported b...</td>\n",
              "      <td>payment method</td>\n",
              "      <td>api validate fetch payment methods supported b...</td>\n",
              "    </tr>\n",
              "    <tr>\n",
              "      <th>22</th>\n",
              "      <td>4</td>\n",
              "      <td>1</td>\n",
              "      <td>review info</td>\n",
              "      <td>api to authenticate the user</td>\n",
              "      <td>4</td>\n",
              "      <td>review info</td>\n",
              "      <td>api authenticate user</td>\n",
              "      <td>review info</td>\n",
              "      <td>api authenticate user</td>\n",
              "    </tr>\n",
              "    <tr>\n",
              "      <th>23</th>\n",
              "      <td>2</td>\n",
              "      <td>0</td>\n",
              "      <td>review info</td>\n",
              "      <td>api to validate and fetch the cart items</td>\n",
              "      <td>2</td>\n",
              "      <td>review info</td>\n",
              "      <td>api validate fetch cart items</td>\n",
              "      <td>review info</td>\n",
              "      <td>api validate fetch cart items</td>\n",
              "    </tr>\n",
              "    <tr>\n",
              "      <th>24</th>\n",
              "      <td>2</td>\n",
              "      <td>0</td>\n",
              "      <td>review info</td>\n",
              "      <td>api to validate and fetch the shipping address</td>\n",
              "      <td>2</td>\n",
              "      <td>review info</td>\n",
              "      <td>api validate fetch shipping address</td>\n",
              "      <td>review info</td>\n",
              "      <td>api validate fetch shipping address</td>\n",
              "    </tr>\n",
              "    <tr>\n",
              "      <th>25</th>\n",
              "      <td>2</td>\n",
              "      <td>0</td>\n",
              "      <td>review info</td>\n",
              "      <td>api to validate and fetch the delivery</td>\n",
              "      <td>2</td>\n",
              "      <td>review info</td>\n",
              "      <td>api validate fetch delivery</td>\n",
              "      <td>review info</td>\n",
              "      <td>api validate fetch delivery</td>\n",
              "    </tr>\n",
              "    <tr>\n",
              "      <th>26</th>\n",
              "      <td>2</td>\n",
              "      <td>0</td>\n",
              "      <td>review info</td>\n",
              "      <td>api to validate and fetch the payment method</td>\n",
              "      <td>2</td>\n",
              "      <td>review info</td>\n",
              "      <td>api validate fetch payment method</td>\n",
              "      <td>review info</td>\n",
              "      <td>api validate fetch payment method</td>\n",
              "    </tr>\n",
              "    <tr>\n",
              "      <th>27</th>\n",
              "      <td>4</td>\n",
              "      <td>1</td>\n",
              "      <td>order success/cancellation</td>\n",
              "      <td>api to authenticate the user</td>\n",
              "      <td>4</td>\n",
              "      <td>order success/cancellation</td>\n",
              "      <td>api authenticate user</td>\n",
              "      <td>order success cancellation</td>\n",
              "      <td>api authenticate user</td>\n",
              "    </tr>\n",
              "    <tr>\n",
              "      <th>28</th>\n",
              "      <td>3</td>\n",
              "      <td>1</td>\n",
              "      <td>order success/cancellation</td>\n",
              "      <td>api to persist the order details in db</td>\n",
              "      <td>3</td>\n",
              "      <td>order success/cancellation</td>\n",
              "      <td>api persist order details db</td>\n",
              "      <td>order success cancellation</td>\n",
              "      <td>api persist order details db</td>\n",
              "    </tr>\n",
              "    <tr>\n",
              "      <th>29</th>\n",
              "      <td>3</td>\n",
              "      <td>1</td>\n",
              "      <td>order success/cancellation</td>\n",
              "      <td>api to validate and send the order information...</td>\n",
              "      <td>3</td>\n",
              "      <td>order success/cancellation</td>\n",
              "      <td>api validate send order information server app...</td>\n",
              "      <td>order success cancellation</td>\n",
              "      <td>api validate send order information server app...</td>\n",
              "    </tr>\n",
              "    <tr>\n",
              "      <th>30</th>\n",
              "      <td>4</td>\n",
              "      <td>1</td>\n",
              "      <td>dashboard</td>\n",
              "      <td>api to authenticate the user</td>\n",
              "      <td>4</td>\n",
              "      <td>dashboard</td>\n",
              "      <td>api authenticate user</td>\n",
              "      <td>dashboard</td>\n",
              "      <td>api authenticate user</td>\n",
              "    </tr>\n",
              "    <tr>\n",
              "      <th>31</th>\n",
              "      <td>3</td>\n",
              "      <td>1</td>\n",
              "      <td>dashboard</td>\n",
              "      <td>apis to show stats such as profit, orders, sal...</td>\n",
              "      <td>3</td>\n",
              "      <td>dashboard</td>\n",
              "      <td>apis show stats profit, orders, sales etc</td>\n",
              "      <td>dashboard</td>\n",
              "      <td>apis show stats profit  orders  sales etc</td>\n",
              "    </tr>\n",
              "    <tr>\n",
              "      <th>32</th>\n",
              "      <td>4</td>\n",
              "      <td>1</td>\n",
              "      <td>orders</td>\n",
              "      <td>api to authenticate the user</td>\n",
              "      <td>4</td>\n",
              "      <td>orders</td>\n",
              "      <td>api authenticate user</td>\n",
              "      <td>orders</td>\n",
              "      <td>api authenticate user</td>\n",
              "    </tr>\n",
              "    <tr>\n",
              "      <th>33</th>\n",
              "      <td>3</td>\n",
              "      <td>1</td>\n",
              "      <td>orders</td>\n",
              "      <td>api to validate and fetch all orders (pending,...</td>\n",
              "      <td>3</td>\n",
              "      <td>orders</td>\n",
              "      <td>api validate fetch orders (pending, cancelled ...</td>\n",
              "      <td>orders</td>\n",
              "      <td>api validate fetch orders  pending  cancelled ...</td>\n",
              "    </tr>\n",
              "    <tr>\n",
              "      <th>34</th>\n",
              "      <td>4</td>\n",
              "      <td>1</td>\n",
              "      <td>wishlist</td>\n",
              "      <td>api to authenticate the user</td>\n",
              "      <td>4</td>\n",
              "      <td>wishlist</td>\n",
              "      <td>api authenticate user</td>\n",
              "      <td>wishlist</td>\n",
              "      <td>api authenticate user</td>\n",
              "    </tr>\n",
              "    <tr>\n",
              "      <th>35</th>\n",
              "      <td>3</td>\n",
              "      <td>1</td>\n",
              "      <td>wishlist</td>\n",
              "      <td>api to fetch and validate the wishlist</td>\n",
              "      <td>3</td>\n",
              "      <td>wishlist</td>\n",
              "      <td>api fetch validate wishlist</td>\n",
              "      <td>wishlist</td>\n",
              "      <td>api fetch validate wishlist</td>\n",
              "    </tr>\n",
              "    <tr>\n",
              "      <th>36</th>\n",
              "      <td>4</td>\n",
              "      <td>1</td>\n",
              "      <td>billing</td>\n",
              "      <td>api to authenticate the user</td>\n",
              "      <td>4</td>\n",
              "      <td>billing</td>\n",
              "      <td>api authenticate user</td>\n",
              "      <td>billing</td>\n",
              "      <td>api authenticate user</td>\n",
              "    </tr>\n",
              "    <tr>\n",
              "      <th>37</th>\n",
              "      <td>5</td>\n",
              "      <td>2</td>\n",
              "      <td>billing</td>\n",
              "      <td>api to validate and view, add or change the bi...</td>\n",
              "      <td>5</td>\n",
              "      <td>billing</td>\n",
              "      <td>api validate view, add change billing method</td>\n",
              "      <td>billing</td>\n",
              "      <td>api validate view  add change billing method</td>\n",
              "    </tr>\n",
              "    <tr>\n",
              "      <th>38</th>\n",
              "      <td>4</td>\n",
              "      <td>1</td>\n",
              "      <td>settings</td>\n",
              "      <td>api to authenticate the user</td>\n",
              "      <td>4</td>\n",
              "      <td>settings</td>\n",
              "      <td>api authenticate user</td>\n",
              "      <td>settings</td>\n",
              "      <td>api authenticate user</td>\n",
              "    </tr>\n",
              "    <tr>\n",
              "      <th>39</th>\n",
              "      <td>3</td>\n",
              "      <td>1</td>\n",
              "      <td>settings</td>\n",
              "      <td>api to validate and view or change profile set...</td>\n",
              "      <td>3</td>\n",
              "      <td>settings</td>\n",
              "      <td>api validate view change profile settings</td>\n",
              "      <td>settings</td>\n",
              "      <td>api validate view change profile settings</td>\n",
              "    </tr>\n",
              "  </tbody>\n",
              "</table>\n",
              "</div>"
            ],
            "text/plain": [
              "    Skill  Complexity                   task_name  \\\n",
              "0       3           1                   home page   \n",
              "1       2           0                   home page   \n",
              "2       3           1             categories page   \n",
              "3       2           0             categories page   \n",
              "4       2           0             categories page   \n",
              "5       2           0                         plp   \n",
              "6       3           1                         plp   \n",
              "7       3           1                         plp   \n",
              "8       3           1                         plp   \n",
              "9       1           0                         pdp   \n",
              "10      3           1                         pdp   \n",
              "11      3           1                         pdp   \n",
              "12      4           1                        cart   \n",
              "13      4           1                        cart   \n",
              "14      4           1            shipping address   \n",
              "15      2           0            shipping address   \n",
              "16      2           0            shipping address   \n",
              "17      2           0            shipping address   \n",
              "18      4           1             delivery method   \n",
              "19      2           0             delivery method   \n",
              "20      4           1              payment method   \n",
              "21      2           0              payment method   \n",
              "22      4           1                 review info   \n",
              "23      2           0                 review info   \n",
              "24      2           0                 review info   \n",
              "25      2           0                 review info   \n",
              "26      2           0                 review info   \n",
              "27      4           1  order success/cancellation   \n",
              "28      3           1  order success/cancellation   \n",
              "29      3           1  order success/cancellation   \n",
              "30      4           1                   dashboard   \n",
              "31      3           1                   dashboard   \n",
              "32      4           1                      orders   \n",
              "33      3           1                      orders   \n",
              "34      4           1                    wishlist   \n",
              "35      3           1                    wishlist   \n",
              "36      4           1                     billing   \n",
              "37      5           2                     billing   \n",
              "38      4           1                    settings   \n",
              "39      3           1                    settings   \n",
              "\n",
              "                                         subtask_name  Duration  \\\n",
              "0              api to validate and fetch hot products         3   \n",
              "1              api to validate and fetch new products         2   \n",
              "2   api to validate and fetch all categories along...         3   \n",
              "3         api to validate and fetch a single category         2   \n",
              "4                      api to filter and sort results         2   \n",
              "5          api to validate and fetch list of products         2   \n",
              "6                      api to filter and sort results         3   \n",
              "7       api to persist the chosen item in db for cart         3   \n",
              "8   api to persist the chosen item in db for wishlist         3   \n",
              "9           api to validate and fetch product details         1   \n",
              "10      api to persist the chosen item in db for cart         3   \n",
              "11  api to persist the chosen item in db for wishlist         3   \n",
              "12                       api to authenticate the user         4   \n",
              "13               api to validate and fetch cart items         4   \n",
              "14                       api to authenticate the user         4   \n",
              "15  api to validate and fetch the shipping address...         2   \n",
              "16          api to save and validate customer address         2   \n",
              "17  api to validate and fetch city and state names...         2   \n",
              "18                       api to authenticate the user         4   \n",
              "19  api to validate and fetch all delivery methods...         2   \n",
              "20                       api to authenticate the user         4   \n",
              "21  api to validate and fetch all payment methods ...         2   \n",
              "22                       api to authenticate the user         4   \n",
              "23           api to validate and fetch the cart items         2   \n",
              "24     api to validate and fetch the shipping address         2   \n",
              "25             api to validate and fetch the delivery         2   \n",
              "26       api to validate and fetch the payment method         2   \n",
              "27                       api to authenticate the user         4   \n",
              "28             api to persist the order details in db         3   \n",
              "29  api to validate and send the order information...         3   \n",
              "30                       api to authenticate the user         4   \n",
              "31  apis to show stats such as profit, orders, sal...         3   \n",
              "32                       api to authenticate the user         4   \n",
              "33  api to validate and fetch all orders (pending,...         3   \n",
              "34                       api to authenticate the user         4   \n",
              "35             api to fetch and validate the wishlist         3   \n",
              "36                       api to authenticate the user         4   \n",
              "37  api to validate and view, add or change the bi...         5   \n",
              "38                       api to authenticate the user         4   \n",
              "39  api to validate and view or change profile set...         3   \n",
              "\n",
              "   task_name without stopwords  \\\n",
              "0                    home page   \n",
              "1                    home page   \n",
              "2              categories page   \n",
              "3              categories page   \n",
              "4              categories page   \n",
              "5                          plp   \n",
              "6                          plp   \n",
              "7                          plp   \n",
              "8                          plp   \n",
              "9                          pdp   \n",
              "10                         pdp   \n",
              "11                         pdp   \n",
              "12                        cart   \n",
              "13                        cart   \n",
              "14            shipping address   \n",
              "15            shipping address   \n",
              "16            shipping address   \n",
              "17            shipping address   \n",
              "18             delivery method   \n",
              "19             delivery method   \n",
              "20              payment method   \n",
              "21              payment method   \n",
              "22                 review info   \n",
              "23                 review info   \n",
              "24                 review info   \n",
              "25                 review info   \n",
              "26                 review info   \n",
              "27  order success/cancellation   \n",
              "28  order success/cancellation   \n",
              "29  order success/cancellation   \n",
              "30                   dashboard   \n",
              "31                   dashboard   \n",
              "32                      orders   \n",
              "33                      orders   \n",
              "34                    wishlist   \n",
              "35                    wishlist   \n",
              "36                     billing   \n",
              "37                     billing   \n",
              "38                    settings   \n",
              "39                    settings   \n",
              "\n",
              "                       subtask_name without stopwords  \\\n",
              "0                     api validate fetch hot products   \n",
              "1                     api validate fetch new products   \n",
              "2   api validate fetch categories along products b...   \n",
              "3                  api validate fetch single category   \n",
              "4                             api filter sort results   \n",
              "5                    api validate fetch list products   \n",
              "6                             api filter sort results   \n",
              "7                     api persist chosen item db cart   \n",
              "8                 api persist chosen item db wishlist   \n",
              "9                  api validate fetch product details   \n",
              "10                    api persist chosen item db cart   \n",
              "11                api persist chosen item db wishlist   \n",
              "12                              api authenticate user   \n",
              "13                      api validate fetch cart items   \n",
              "14                              api authenticate user   \n",
              "15  api validate fetch shipping address saved cust...   \n",
              "16                 api save validate customer address   \n",
              "17  api validate fetch city state names business o...   \n",
              "18                              api authenticate user   \n",
              "19  api validate fetch delivery methods supported ...   \n",
              "20                              api authenticate user   \n",
              "21  api validate fetch payment methods supported b...   \n",
              "22                              api authenticate user   \n",
              "23                      api validate fetch cart items   \n",
              "24                api validate fetch shipping address   \n",
              "25                        api validate fetch delivery   \n",
              "26                  api validate fetch payment method   \n",
              "27                              api authenticate user   \n",
              "28                       api persist order details db   \n",
              "29  api validate send order information server app...   \n",
              "30                              api authenticate user   \n",
              "31          apis show stats profit, orders, sales etc   \n",
              "32                              api authenticate user   \n",
              "33  api validate fetch orders (pending, cancelled ...   \n",
              "34                              api authenticate user   \n",
              "35                        api fetch validate wishlist   \n",
              "36                              api authenticate user   \n",
              "37       api validate view, add change billing method   \n",
              "38                              api authenticate user   \n",
              "39          api validate view change profile settings   \n",
              "\n",
              "               clean_task_name  \\\n",
              "0                    home page   \n",
              "1                    home page   \n",
              "2              categories page   \n",
              "3              categories page   \n",
              "4              categories page   \n",
              "5                          plp   \n",
              "6                          plp   \n",
              "7                          plp   \n",
              "8                          plp   \n",
              "9                          pdp   \n",
              "10                         pdp   \n",
              "11                         pdp   \n",
              "12                        cart   \n",
              "13                        cart   \n",
              "14            shipping address   \n",
              "15            shipping address   \n",
              "16            shipping address   \n",
              "17            shipping address   \n",
              "18             delivery method   \n",
              "19             delivery method   \n",
              "20              payment method   \n",
              "21              payment method   \n",
              "22                 review info   \n",
              "23                 review info   \n",
              "24                 review info   \n",
              "25                 review info   \n",
              "26                 review info   \n",
              "27  order success cancellation   \n",
              "28  order success cancellation   \n",
              "29  order success cancellation   \n",
              "30                   dashboard   \n",
              "31                   dashboard   \n",
              "32                      orders   \n",
              "33                      orders   \n",
              "34                    wishlist   \n",
              "35                    wishlist   \n",
              "36                     billing   \n",
              "37                     billing   \n",
              "38                    settings   \n",
              "39                    settings   \n",
              "\n",
              "                                   clean_subtask_name  \n",
              "0                     api validate fetch hot products  \n",
              "1                     api validate fetch new products  \n",
              "2   api validate fetch categories along products b...  \n",
              "3                  api validate fetch single category  \n",
              "4                             api filter sort results  \n",
              "5                    api validate fetch list products  \n",
              "6                             api filter sort results  \n",
              "7                     api persist chosen item db cart  \n",
              "8                 api persist chosen item db wishlist  \n",
              "9                  api validate fetch product details  \n",
              "10                    api persist chosen item db cart  \n",
              "11                api persist chosen item db wishlist  \n",
              "12                              api authenticate user  \n",
              "13                      api validate fetch cart items  \n",
              "14                              api authenticate user  \n",
              "15  api validate fetch shipping address saved cust...  \n",
              "16                 api save validate customer address  \n",
              "17  api validate fetch city state names business o...  \n",
              "18                              api authenticate user  \n",
              "19  api validate fetch delivery methods supported ...  \n",
              "20                              api authenticate user  \n",
              "21  api validate fetch payment methods supported b...  \n",
              "22                              api authenticate user  \n",
              "23                      api validate fetch cart items  \n",
              "24                api validate fetch shipping address  \n",
              "25                        api validate fetch delivery  \n",
              "26                  api validate fetch payment method  \n",
              "27                              api authenticate user  \n",
              "28                       api persist order details db  \n",
              "29  api validate send order information server app...  \n",
              "30                              api authenticate user  \n",
              "31          apis show stats profit  orders  sales etc  \n",
              "32                              api authenticate user  \n",
              "33  api validate fetch orders  pending  cancelled ...  \n",
              "34                              api authenticate user  \n",
              "35                        api fetch validate wishlist  \n",
              "36                              api authenticate user  \n",
              "37       api validate view  add change billing method  \n",
              "38                              api authenticate user  \n",
              "39          api validate view change profile settings  "
            ]
          },
          "execution_count": 43,
          "metadata": {},
          "output_type": "execute_result"
        }
      ],
      "source": [
        "data"
      ]
    },
    {
      "cell_type": "code",
      "execution_count": null,
      "metadata": {
        "id": "TTnm3Kwt4F0d"
      },
      "outputs": [],
      "source": []
    }
  ],
  "metadata": {
    "accelerator": "GPU",
    "colab": {
      "provenance": []
    },
    "gpuClass": "standard",
    "kernelspec": {
      "display_name": "Python 3.10.1 64-bit",
      "language": "python",
      "name": "python3"
    },
    "language_info": {
      "codemirror_mode": {
        "name": "ipython",
        "version": 3
      },
      "file_extension": ".py",
      "mimetype": "text/x-python",
      "name": "python",
      "nbconvert_exporter": "python",
      "pygments_lexer": "ipython3",
      "version": "3.10.1"
    },
    "vscode": {
      "interpreter": {
        "hash": "c931d04cda44e0569d5939c86fc0782db7ecce639acc955d4e5caa0825c513c4"
      }
    }
  },
  "nbformat": 4,
  "nbformat_minor": 0
}
