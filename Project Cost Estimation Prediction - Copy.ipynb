{
  "cells": [
    {
      "cell_type": "code",
      "execution_count": 1,
      "metadata": {
        "colab": {
          "base_uri": "https://localhost:8080/"
        },
        "id": "_Pd8gKoH6DRC",
        "outputId": "6a814edf-0692-4694-9ef6-e62397f6e401"
      },
      "outputs": [
        {
          "name": "stdout",
          "output_type": "stream",
          "text": [
            "2.8.0\n"
          ]
        }
      ],
      "source": [
        "import tensorflow as tf\n",
        "\n",
        "print(tf.__version__)"
      ]
    },
    {
      "cell_type": "code",
      "execution_count": 2,
      "metadata": {
        "id": "ILC8B88PGVpi",
        "slideshow": {
          "slide_type": "slide"
        }
      },
      "outputs": [],
      "source": [
        "from keras.datasets import imdb\n",
        "import pandas as pd\n",
        "import numpy as np\n",
        "from keras.layers import LSTM, Activation, Dropout, Dense, Input, Conv1D, MaxPooling1D, GlobalMaxPooling1D\n",
        "#from keras.layers.embeddings import Embedding\n",
        "from keras.layers import Embedding\n",
        "from keras.models import Model\n",
        "import string\n",
        "import re\n",
        "from keras.preprocessing.text import Tokenizer\n",
        "from sklearn.preprocessing import LabelBinarizer\n",
        "#from keras.preprocessing.sequence import pad_sequences\n",
        "from keras_preprocessing.sequence import pad_sequences\n",
        "import keras\n",
        "from sklearn.model_selection import train_test_split\n",
        "import tensorflow as tf"
      ]
    },
    {
      "cell_type": "code",
      "execution_count": 6,
      "metadata": {
        "id": "CnwhfL3NUaag"
      },
      "outputs": [],
      "source": [
        "data = pd.read_csv('./dataset.csv')\n",
        "\n",
        "data['task_name'] = data['task_name'].str.lower()\n",
        "data['subtask_name'] = data['subtask_name'].str.lower()"
      ]
    },
    {
      "cell_type": "code",
      "execution_count": 7,
      "metadata": {
        "id": "V0oF19XKyi8E"
      },
      "outputs": [],
      "source": [
        "stopwords = [ \"a\", \"about\", \"above\", \"after\", \"again\", \"against\", \"all\", \"am\", \"an\", \"and\", \"any\", \"are\", \"as\", \"at\", \"be\", \"because\", \n",
        "             \"been\", \"before\", \"being\", \"below\", \"between\", \"both\", \"but\", \"by\", \"could\", \"did\", \"do\", \"does\", \"doing\", \"down\", \"during\",\n",
        "             \"each\", \"few\", \"for\", \"from\", \"further\", \"had\", \"has\", \"have\", \"having\", \"he\", \"he'd\", \"he'll\", \"he's\", \"her\", \"here\", \n",
        "             \"here's\", \"hers\", \"herself\", \"him\", \"himself\", \"his\", \"how\", \"how's\", \"i\", \"i'd\", \"i'll\", \"i'm\", \"i've\", \"if\", \"in\", \"into\",\n",
        "             \"is\", \"it\", \"it's\", \"its\", \"itself\", \"let's\", \"me\", \"more\", \"most\", \"my\", \"myself\", \"nor\", \"of\", \"on\", \"once\", \"only\", \"or\",\n",
        "             \"other\", \"ought\", \"our\", \"ours\", \"ourselves\", \"out\", \"over\", \"own\", \"same\", \"she\", \"she'd\", \"she'll\", \"she's\", \"should\", \n",
        "             \"so\", \"some\", \"such\", \"than\", \"that\", \"that's\", \"the\", \"their\", \"theirs\", \"them\", \"themselves\", \"then\", \"there\", \"there's\",\n",
        "             \"these\", \"they\", \"they'd\", \"they'll\", \"they're\", \"they've\", \"this\", \"those\", \"through\", \"to\", \"too\", \"under\", \"until\", \"up\",\n",
        "             \"very\", \"was\", \"we\", \"we'd\", \"we'll\", \"we're\", \"we've\", \"were\", \"what\", \"what's\", \"when\", \"when's\", \"where\", \"where's\",\n",
        "             \"which\", \"while\", \"who\", \"who's\", \"whom\", \"why\", \"why's\", \"with\", \"would\", \"you\", \"you'd\", \"you'll\", \"you're\", \"you've\",\n",
        "             \"your\", \"yours\", \"yourself\", \"yourselves\" ]"
      ]
    },
    {
      "cell_type": "code",
      "execution_count": 8,
      "metadata": {
        "id": "O20xL-WtzODy"
      },
      "outputs": [],
      "source": [
        "def remove_stopwords(data):\n",
        "  # data['task_name']=data['task_name'].fillna(\"\")\n",
        "  # data['subtask_name']=data['subtask_name'].fillna(\"\")\n",
        "  data['task_name without stopwords'] = data['task_name'].apply(lambda x : ' '.join([word for word in x.split() if word not in (stopwords)]))\n",
        "  data['subtask_name without stopwords'] = data['subtask_name'].apply(lambda x : ' '.join([word for word in x.split() if word not in (stopwords)]))\n",
        "  return data\n",
        "\n",
        "def remove_tags(string):\n",
        "    result = re.sub('<.*?>','',string)\n",
        "    return result\n"
      ]
    },
    {
      "cell_type": "code",
      "execution_count": 9,
      "metadata": {
        "colab": {
          "base_uri": "https://localhost:8080/"
        },
        "id": "HehsxBu108xh",
        "outputId": "4156f750-2a20-4575-b888-fabd26cb88fb"
      },
      "outputs": [
        {
          "name": "stderr",
          "output_type": "stream",
          "text": [
            "C:\\Users\\r2fpdvzocm5ydw\\AppData\\Local\\Temp\\ipykernel_16620\\1587466166.py:3: FutureWarning: The default value of regex will change from True to False in a future version.\n",
            "  data_without_stopwords['clean_task_name'] = data_without_stopwords['clean_task_name'].str.replace('[{}]'.format(string.punctuation), ' ')\n",
            "C:\\Users\\r2fpdvzocm5ydw\\AppData\\Local\\Temp\\ipykernel_16620\\1587466166.py:6: FutureWarning: The default value of regex will change from True to False in a future version.\n",
            "  data_without_stopwords['clean_subtask_name'] = data_without_stopwords['clean_subtask_name'].str.replace('[{}]'.format(string.punctuation), ' ')\n"
          ]
        }
      ],
      "source": [
        "data_without_stopwords = remove_stopwords(data)\n",
        "data_without_stopwords['clean_task_name']= data_without_stopwords['task_name without stopwords'].apply(lambda cw : remove_tags(cw))\n",
        "data_without_stopwords['clean_task_name'] = data_without_stopwords['clean_task_name'].str.replace('[{}]'.format(string.punctuation), ' ')\n",
        "\n",
        "data_without_stopwords['clean_subtask_name']= data_without_stopwords['subtask_name without stopwords'].apply(lambda cw : remove_tags(cw))\n",
        "data_without_stopwords['clean_subtask_name'] = data_without_stopwords['clean_subtask_name'].str.replace('[{}]'.format(string.punctuation), ' ')"
      ]
    },
    {
      "cell_type": "code",
      "execution_count": 10,
      "metadata": {
        "colab": {
          "base_uri": "https://localhost:8080/",
          "height": 372
        },
        "id": "H4JDXL8A3CSO",
        "outputId": "84ca1f74-adbd-47b3-d2f8-0a3c9467edb5"
      },
      "outputs": [
        {
          "data": {
            "text/html": [
              "<div>\n",
              "<style scoped>\n",
              "    .dataframe tbody tr th:only-of-type {\n",
              "        vertical-align: middle;\n",
              "    }\n",
              "\n",
              "    .dataframe tbody tr th {\n",
              "        vertical-align: top;\n",
              "    }\n",
              "\n",
              "    .dataframe thead th {\n",
              "        text-align: right;\n",
              "    }\n",
              "</style>\n",
              "<table border=\"1\" class=\"dataframe\">\n",
              "  <thead>\n",
              "    <tr style=\"text-align: right;\">\n",
              "      <th></th>\n",
              "      <th>Skill</th>\n",
              "      <th>Complexity</th>\n",
              "      <th>task_name</th>\n",
              "      <th>subtask_name</th>\n",
              "      <th>Duration</th>\n",
              "      <th>task_name without stopwords</th>\n",
              "      <th>subtask_name without stopwords</th>\n",
              "      <th>clean_task_name</th>\n",
              "      <th>clean_subtask_name</th>\n",
              "    </tr>\n",
              "  </thead>\n",
              "  <tbody>\n",
              "    <tr>\n",
              "      <th>0</th>\n",
              "      <td>3</td>\n",
              "      <td>1</td>\n",
              "      <td>home page</td>\n",
              "      <td>api to validate and fetch hot products</td>\n",
              "      <td>3</td>\n",
              "      <td>home page</td>\n",
              "      <td>api validate fetch hot products</td>\n",
              "      <td>home page</td>\n",
              "      <td>api validate fetch hot products</td>\n",
              "    </tr>\n",
              "    <tr>\n",
              "      <th>1</th>\n",
              "      <td>2</td>\n",
              "      <td>0</td>\n",
              "      <td>home page</td>\n",
              "      <td>api to validate and fetch new products</td>\n",
              "      <td>2</td>\n",
              "      <td>home page</td>\n",
              "      <td>api validate fetch new products</td>\n",
              "      <td>home page</td>\n",
              "      <td>api validate fetch new products</td>\n",
              "    </tr>\n",
              "    <tr>\n",
              "      <th>2</th>\n",
              "      <td>3</td>\n",
              "      <td>1</td>\n",
              "      <td>categories page</td>\n",
              "      <td>api to validate and fetch all categories along...</td>\n",
              "      <td>3</td>\n",
              "      <td>categories page</td>\n",
              "      <td>api validate fetch categories along products b...</td>\n",
              "      <td>categories page</td>\n",
              "      <td>api validate fetch categories along products b...</td>\n",
              "    </tr>\n",
              "    <tr>\n",
              "      <th>3</th>\n",
              "      <td>2</td>\n",
              "      <td>0</td>\n",
              "      <td>categories page</td>\n",
              "      <td>api to validate and fetch a single category</td>\n",
              "      <td>2</td>\n",
              "      <td>categories page</td>\n",
              "      <td>api validate fetch single category</td>\n",
              "      <td>categories page</td>\n",
              "      <td>api validate fetch single category</td>\n",
              "    </tr>\n",
              "    <tr>\n",
              "      <th>4</th>\n",
              "      <td>2</td>\n",
              "      <td>0</td>\n",
              "      <td>categories page</td>\n",
              "      <td>api to filter and sort results</td>\n",
              "      <td>2</td>\n",
              "      <td>categories page</td>\n",
              "      <td>api filter sort results</td>\n",
              "      <td>categories page</td>\n",
              "      <td>api filter sort results</td>\n",
              "    </tr>\n",
              "  </tbody>\n",
              "</table>\n",
              "</div>"
            ],
            "text/plain": [
              "   Skill  Complexity        task_name  \\\n",
              "0      3           1        home page   \n",
              "1      2           0        home page   \n",
              "2      3           1  categories page   \n",
              "3      2           0  categories page   \n",
              "4      2           0  categories page   \n",
              "\n",
              "                                        subtask_name  Duration  \\\n",
              "0             api to validate and fetch hot products         3   \n",
              "1             api to validate and fetch new products         2   \n",
              "2  api to validate and fetch all categories along...         3   \n",
              "3        api to validate and fetch a single category         2   \n",
              "4                     api to filter and sort results         2   \n",
              "\n",
              "  task_name without stopwords  \\\n",
              "0                   home page   \n",
              "1                   home page   \n",
              "2             categories page   \n",
              "3             categories page   \n",
              "4             categories page   \n",
              "\n",
              "                      subtask_name without stopwords  clean_task_name  \\\n",
              "0                    api validate fetch hot products        home page   \n",
              "1                    api validate fetch new products        home page   \n",
              "2  api validate fetch categories along products b...  categories page   \n",
              "3                 api validate fetch single category  categories page   \n",
              "4                            api filter sort results  categories page   \n",
              "\n",
              "                                  clean_subtask_name  \n",
              "0                    api validate fetch hot products  \n",
              "1                    api validate fetch new products  \n",
              "2  api validate fetch categories along products b...  \n",
              "3                 api validate fetch single category  \n",
              "4                            api filter sort results  "
            ]
          },
          "execution_count": 10,
          "metadata": {},
          "output_type": "execute_result"
        }
      ],
      "source": [
        "data_without_stopwords.head()"
      ]
    },
    {
      "cell_type": "code",
      "execution_count": 11,
      "metadata": {
        "colab": {
          "base_uri": "https://localhost:8080/"
        },
        "id": "VZFHtdni5mZE",
        "outputId": "419e0179-6ede-4f06-aeec-b6f6299a5246"
      },
      "outputs": [
        {
          "data": {
            "text/plain": [
              "0                       api validate fetch hot products\n",
              "1                       api validate fetch new products\n",
              "2     api validate fetch categories along products b...\n",
              "3                    api validate fetch single category\n",
              "4                               api filter sort results\n",
              "5                      api validate fetch list products\n",
              "6                               api filter sort results\n",
              "7                       api persist chosen item db cart\n",
              "8                   api persist chosen item db wishlist\n",
              "9                    api validate fetch product details\n",
              "10                      api persist chosen item db cart\n",
              "11                  api persist chosen item db wishlist\n",
              "12                                api authenticate user\n",
              "13                        api validate fetch cart items\n",
              "14                                api authenticate user\n",
              "15    api validate fetch shipping address saved cust...\n",
              "16                   api save validate customer address\n",
              "17    api validate fetch city state names business o...\n",
              "18                                api authenticate user\n",
              "19    api validate fetch delivery methods supported ...\n",
              "20                                api authenticate user\n",
              "21    api validate fetch payment methods supported b...\n",
              "22                                api authenticate user\n",
              "23                        api validate fetch cart items\n",
              "24                  api validate fetch shipping address\n",
              "25                          api validate fetch delivery\n",
              "26                    api validate fetch payment method\n",
              "27                                api authenticate user\n",
              "28                         api persist order details db\n",
              "29    api validate send order information server app...\n",
              "30                                api authenticate user\n",
              "31            apis show stats profit  orders  sales etc\n",
              "32                                api authenticate user\n",
              "33    api validate fetch orders  pending  cancelled ...\n",
              "34                                api authenticate user\n",
              "35                          api fetch validate wishlist\n",
              "36                                api authenticate user\n",
              "37         api validate view  add change billing method\n",
              "38                                api authenticate user\n",
              "39            api validate view change profile settings\n",
              "Name: clean_subtask_name, dtype: object"
            ]
          },
          "execution_count": 11,
          "metadata": {},
          "output_type": "execute_result"
        }
      ],
      "source": [
        "\n",
        "reviews = data_without_stopwords['clean_subtask_name']\n",
        "reviews"
      ]
    },
    {
      "cell_type": "code",
      "execution_count": 12,
      "metadata": {
        "id": "fSMjGYrUU1jX"
      },
      "outputs": [],
      "source": [
        "reviews_list = []\n",
        "for i in range(len(reviews)):\n",
        "  reviews_list.append(reviews[i])\n",
        "\n"
      ]
    },
    {
      "cell_type": "code",
      "execution_count": 13,
      "metadata": {
        "id": "urgoMx7UaeJz"
      },
      "outputs": [],
      "source": [
        "sentiment = data_without_stopwords['Duration']"
      ]
    },
    {
      "cell_type": "code",
      "execution_count": 14,
      "metadata": {
        "id": "tjY5K71YWVe4"
      },
      "outputs": [],
      "source": [
        "y = np.array(list(sentiment))"
      ]
    },
    {
      "cell_type": "code",
      "execution_count": 15,
      "metadata": {
        "colab": {
          "base_uri": "https://localhost:8080/"
        },
        "id": "cqdMpZR0Wpg8",
        "outputId": "f1c240e9-f255-4ac4-f1fb-f9f6e3315b8e"
      },
      "outputs": [
        {
          "data": {
            "text/plain": [
              "array([3, 2, 3, 2, 2, 2, 3, 3, 3, 1, 3, 3, 4, 4, 4, 2, 2, 2, 4, 2, 4, 2,\n",
              "       4, 2, 2, 2, 2, 4, 3, 3, 4, 3, 4, 3, 4, 3, 4, 5, 4, 3])"
            ]
          },
          "execution_count": 15,
          "metadata": {},
          "output_type": "execute_result"
        }
      ],
      "source": [
        "y"
      ]
    },
    {
      "cell_type": "code",
      "execution_count": 16,
      "metadata": {
        "colab": {
          "base_uri": "https://localhost:8080/"
        },
        "id": "fqkDtVPMYeeT",
        "outputId": "39000aa2-a472-44c2-eb28-35913847025f"
      },
      "outputs": [
        {
          "data": {
            "text/plain": [
              "['api validate fetch list products',\n",
              " 'api validate fetch cart items',\n",
              " 'api persist chosen item db cart',\n",
              " 'api validate fetch hot products',\n",
              " 'api validate view  add change billing method',\n",
              " 'api authenticate user',\n",
              " 'api validate fetch product details',\n",
              " 'api validate fetch delivery methods supported business']"
            ]
          },
          "execution_count": 16,
          "metadata": {},
          "output_type": "execute_result"
        }
      ],
      "source": [
        "X_train, X_test, Y_train, Y_test = train_test_split(reviews_list, y, test_size=0.2, random_state = 45)\n",
        "X_test"
      ]
    },
    {
      "cell_type": "code",
      "execution_count": 17,
      "metadata": {
        "colab": {
          "base_uri": "https://localhost:8080/"
        },
        "id": "8446f0TtQl-3",
        "outputId": "5bf02e22-bee7-45b9-cbf2-4c9d431d0d44"
      },
      "outputs": [
        {
          "data": {
            "text/plain": [
              "32"
            ]
          },
          "execution_count": 17,
          "metadata": {},
          "output_type": "execute_result"
        }
      ],
      "source": [
        "len(Y_train)"
      ]
    },
    {
      "cell_type": "code",
      "execution_count": 18,
      "metadata": {
        "id": "ujoI8P64P12P"
      },
      "outputs": [],
      "source": [
        "tokenizer = Tokenizer(num_words=5000)\n",
        "tokenizer.fit_on_texts(X_train)"
      ]
    },
    {
      "cell_type": "code",
      "execution_count": 19,
      "metadata": {
        "colab": {
          "base_uri": "https://localhost:8080/"
        },
        "id": "0rZPh61RP5gH",
        "outputId": "103773a5-6f9b-4cb1-d41b-6c13a7465e33"
      },
      "outputs": [
        {
          "data": {
            "text/plain": [
              "{'api': 0,\n",
              " 'validate': 1,\n",
              " 'fetch': 2,\n",
              " 'authenticate': 3,\n",
              " 'user': 4,\n",
              " 'persist': 5,\n",
              " 'db': 6,\n",
              " 'wishlist': 7,\n",
              " 'address': 8,\n",
              " 'chosen': 9,\n",
              " 'item': 10,\n",
              " 'profile': 11,\n",
              " 'customer': 12,\n",
              " 'cart': 13,\n",
              " 'order': 14,\n",
              " 'shipping': 15,\n",
              " 'orders': 16,\n",
              " 'cancelled': 17,\n",
              " 'filter': 18,\n",
              " 'sort': 19,\n",
              " 'results': 20,\n",
              " 'business': 21,\n",
              " 'products': 22,\n",
              " 'category': 23,\n",
              " 'payment': 24,\n",
              " 'view': 25,\n",
              " 'change': 26,\n",
              " 'settings': 27,\n",
              " 'save': 28,\n",
              " 'details': 29,\n",
              " 'pending': 30,\n",
              " 'completed': 31,\n",
              " 'city': 32,\n",
              " 'state': 33,\n",
              " 'names': 34,\n",
              " 'operates': 35,\n",
              " 'categories': 36,\n",
              " 'along': 37,\n",
              " 'belong': 38,\n",
              " 'send': 39,\n",
              " 'information': 40,\n",
              " 'server': 41,\n",
              " 'approval': 42,\n",
              " 'response': 43,\n",
              " 'either': 44,\n",
              " 'success': 45,\n",
              " 'method': 46,\n",
              " 'items': 47,\n",
              " 'delivery': 48,\n",
              " 'new': 49,\n",
              " 'saved': 50,\n",
              " 'if': 51,\n",
              " 'exists': 52,\n",
              " 'methods': 53,\n",
              " 'supported': 54,\n",
              " 'apis': 55,\n",
              " 'show': 56,\n",
              " 'stats': 57,\n",
              " 'profit': 58,\n",
              " 'sales': 59,\n",
              " 'etc': 60,\n",
              " 'single': 61}"
            ]
          },
          "execution_count": 19,
          "metadata": {},
          "output_type": "execute_result"
        }
      ],
      "source": [
        "words_to_index = tokenizer.word_index\n",
        "for key, value in words_to_index.items():\n",
        "    words_to_index[key] = words_to_index[key] - 1\n",
        "words_to_index"
      ]
    },
    {
      "cell_type": "code",
      "execution_count": 20,
      "metadata": {
        "colab": {
          "base_uri": "https://localhost:8080/"
        },
        "id": "nj1lFsRPP7G7",
        "outputId": "3ce36153-d476-4d57-b741-46da3b69a27c"
      },
      "outputs": [
        {
          "data": {
            "text/plain": [
              "62"
            ]
          },
          "execution_count": 20,
          "metadata": {},
          "output_type": "execute_result"
        }
      ],
      "source": [
        "len(words_to_index)"
      ]
    },
    {
      "cell_type": "code",
      "execution_count": 21,
      "metadata": {
        "id": "4cfT3r4nc5GE"
      },
      "outputs": [],
      "source": [
        "def read_glove_vector(glove_vec):\n",
        "  with open(glove_vec, 'r', encoding='UTF-8') as f:\n",
        "    words = set()\n",
        "    word_to_vec_map = {}\n",
        "    for line in f:\n",
        "      w_line = line.split()\n",
        "      curr_word = w_line[0]\n",
        "      word_to_vec_map[curr_word] = np.array(w_line[1:], dtype=np.float64)\n",
        "\n",
        "\n",
        "\n",
        "  return word_to_vec_map"
      ]
    },
    {
      "cell_type": "code",
      "execution_count": 22,
      "metadata": {
        "id": "S4QJe7iZeDC1"
      },
      "outputs": [],
      "source": [
        "word_to_vec_map = read_glove_vector('./glove.6B.50d.txt')"
      ]
    },
    {
      "cell_type": "code",
      "execution_count": 23,
      "metadata": {
        "id": "_VF9U14qjjXw"
      },
      "outputs": [],
      "source": [
        "maxLen = 150"
      ]
    },
    {
      "cell_type": "code",
      "execution_count": 24,
      "metadata": {
        "id": "Am3MZl2fobDn"
      },
      "outputs": [],
      "source": [
        "\n",
        "vocab_len = len(words_to_index)\n",
        "embed_vector_len = word_to_vec_map['moon'].shape[0]\n",
        "\n",
        "emb_matrix = np.zeros((vocab_len, embed_vector_len))\n",
        "\n",
        "for word, index in words_to_index.items():\n",
        "  embedding_vector = word_to_vec_map.get(word)\n",
        "  if embedding_vector is not None:\n",
        "    emb_matrix[index, :] = embedding_vector\n",
        "\n",
        "embedding_layer = Embedding(input_dim=vocab_len, output_dim=embed_vector_len, input_length=maxLen, weights = [emb_matrix], trainable=False)"
      ]
    },
    {
      "cell_type": "code",
      "execution_count": 55,
      "metadata": {
        "id": "DlqxRxizpZRl"
      },
      "outputs": [],
      "source": [
        "def imdb_rating(input_shape):\n",
        "\n",
        "  X_indices = Input(input_shape)\n",
        "\n",
        "  embeddings = embedding_layer(X_indices)\n",
        "\n",
        "  X = LSTM(128, return_sequences=True)(embeddings)\n",
        "\n",
        "  X = Dropout(0.6)(X)\n",
        "\n",
        "  X = LSTM(128, return_sequences=True)(X)\n",
        "\n",
        "  X = Dropout(0.6)(X)\n",
        "\n",
        "  X = LSTM(128)(X)\n",
        "\n",
        "  X = Dense(1)(X)\n",
        "  print(\"X: \")\n",
        "  print( X)\n",
        "\n",
        "  model = Model(inputs=X_indices, outputs=X)\n",
        "\n",
        "  return model"
      ]
    },
    {
      "cell_type": "code",
      "execution_count": 56,
      "metadata": {
        "id": "L75PYl9Z2F1d"
      },
      "outputs": [],
      "source": [
        "def conv1d_model(input_shape):\n",
        "\n",
        "  X_indices = Input(input_shape)\n",
        "\n",
        "  embeddings = embedding_layer(X_indices)\n",
        "\n",
        "  X = Conv1D(512,3,activation='softmax')(embeddings)\n",
        "  \n",
        "  X = MaxPooling1D(3)(X)\n",
        "\n",
        "  X = Conv1D(256,3,activation='softmax')(X)\n",
        "  \n",
        "  X = MaxPooling1D(3)(X)\n",
        "\n",
        "  X = Conv1D(256,3,activation='softmax')(X)\n",
        "  X = Dropout(0.8)(X)\n",
        "  X = MaxPooling1D(3)(X)\n",
        "\n",
        "  X = GlobalMaxPooling1D()(X)\n",
        "\n",
        "  X = Dense(256, activation='softmax')(X)\n",
        "  X = Dense(1)(X)\n",
        "\n",
        "  model = Model(inputs=X_indices, outputs=X)\n",
        "\n",
        "  return model"
      ]
    },
    {
      "cell_type": "code",
      "execution_count": 57,
      "metadata": {
        "colab": {
          "base_uri": "https://localhost:8080/"
        },
        "id": "PeB6unmRpa2a",
        "outputId": "0eb2aa76-bdb1-4e33-a64c-19fa929581a3"
      },
      "outputs": [
        {
          "name": "stdout",
          "output_type": "stream",
          "text": [
            "X: \n",
            "KerasTensor(type_spec=TensorSpec(shape=(None, 1), dtype=tf.float32, name=None), name='dense_6/BiasAdd:0', description=\"created by layer 'dense_6'\")\n"
          ]
        }
      ],
      "source": [
        "model = Sequential()\n",
        "model.add(LSTM(32, input_shape=(None, 10)))\n",
        "model.add(Dense(1))\n",
        "# model.summary()"
      ]
    },
    {
      "cell_type": "code",
      "execution_count": 58,
      "metadata": {
        "colab": {
          "base_uri": "https://localhost:8080/"
        },
        "id": "gppZiV3h3wH2",
        "outputId": "da6735d5-9c39-4b77-d38b-66c3502100d9"
      },
      "outputs": [],
      "source": [
        "model_1d = conv1d_model((maxLen,))\n",
        "# model_1d.summary()"
      ]
    },
    {
      "cell_type": "code",
      "execution_count": 59,
      "metadata": {
        "id": "Z_ygaA18uv9Z"
      },
      "outputs": [],
      "source": [
        "X_train_indices = tokenizer.texts_to_sequences(X_train)"
      ]
    },
    {
      "cell_type": "code",
      "execution_count": 60,
      "metadata": {
        "colab": {
          "base_uri": "https://localhost:8080/"
        },
        "id": "NSdM8mIMRRnM",
        "outputId": "c1e870ec-efbd-47cd-b26a-7c58db92ce07"
      },
      "outputs": [
        {
          "data": {
            "text/plain": [
              "(32, 150)"
            ]
          },
          "execution_count": 60,
          "metadata": {},
          "output_type": "execute_result"
        }
      ],
      "source": [
        "X_train_indices = pad_sequences(X_train_indices, maxlen=maxLen, padding='post')\n",
        "X_train_indices.shape"
      ]
    },
    {
      "cell_type": "code",
      "execution_count": 61,
      "metadata": {
        "id": "UQ09l2WL4jhN"
      },
      "outputs": [],
      "source": [
        "adam = tf.keras.optimizers.Adam(learning_rate = 0.0100)\n",
        "model_1d.compile(optimizer=adam, loss='binary_crossentropy', metrics=['accuracy'])"
      ]
    },
    {
      "cell_type": "code",
      "execution_count": 62,
      "metadata": {
        "colab": {
          "base_uri": "https://localhost:8080/"
        },
        "id": "wgAAjTim4o2E",
        "outputId": "61ff4d28-dc13-449d-9714-46a67f3900af"
      },
      "outputs": [
        {
          "name": "stdout",
          "output_type": "stream",
          "text": [
            "Epoch 1/15\n",
            "1/1 [==============================] - 4s 4s/step - loss: 45.7928 - accuracy: 0.0000e+00\n",
            "Epoch 2/15\n",
            "1/1 [==============================] - 0s 326ms/step - loss: 45.7928 - accuracy: 0.0000e+00\n",
            "Epoch 3/15\n",
            "1/1 [==============================] - 0s 202ms/step - loss: 45.7928 - accuracy: 0.0000e+00\n",
            "Epoch 4/15\n",
            "1/1 [==============================] - 0s 195ms/step - loss: 45.7928 - accuracy: 0.0000e+00\n",
            "Epoch 5/15\n",
            "1/1 [==============================] - 0s 234ms/step - loss: 45.7928 - accuracy: 0.0000e+00\n",
            "Epoch 6/15\n",
            "1/1 [==============================] - 0s 204ms/step - loss: 45.7928 - accuracy: 0.0000e+00\n",
            "Epoch 7/15\n",
            "1/1 [==============================] - 0s 203ms/step - loss: 45.7928 - accuracy: 0.0000e+00\n",
            "Epoch 8/15\n",
            "1/1 [==============================] - 0s 225ms/step - loss: 45.7928 - accuracy: 0.0000e+00\n",
            "Epoch 9/15\n",
            "1/1 [==============================] - 0s 224ms/step - loss: 45.7928 - accuracy: 0.0000e+00\n",
            "Epoch 10/15\n",
            "1/1 [==============================] - 0s 188ms/step - loss: 45.7928 - accuracy: 0.0000e+00\n",
            "Epoch 11/15\n",
            "1/1 [==============================] - 0s 204ms/step - loss: 45.7928 - accuracy: 0.0000e+00\n",
            "Epoch 12/15\n",
            "1/1 [==============================] - 0s 169ms/step - loss: 45.7928 - accuracy: 0.0000e+00\n",
            "Epoch 13/15\n",
            "1/1 [==============================] - 0s 194ms/step - loss: 45.7928 - accuracy: 0.0000e+00\n",
            "Epoch 14/15\n",
            "1/1 [==============================] - 0s 192ms/step - loss: 45.7928 - accuracy: 0.0000e+00\n",
            "Epoch 15/15\n",
            "1/1 [==============================] - 0s 193ms/step - loss: 45.7928 - accuracy: 0.0000e+00\n"
          ]
        },
        {
          "data": {
            "text/plain": [
              "<keras.callbacks.History at 0x174c5340f10>"
            ]
          },
          "execution_count": 62,
          "metadata": {},
          "output_type": "execute_result"
        }
      ],
      "source": [
        "model_1d.fit(X_train_indices, Y_train, batch_size=64, epochs=15)"
      ]
    },
    {
      "cell_type": "code",
      "execution_count": 78,
      "metadata": {
        "id": "mwYyQk7_JvYg"
      },
      "outputs": [],
      "source": [
        "adam = tf.keras.optimizers.Adam(learning_rate = 0.0001)\n",
        "model.compile(optimizer=adam, loss='mean_squared_error', metrics=['accuracy'])"
      ]
    },
    {
      "cell_type": "code",
      "execution_count": 79,
      "metadata": {
        "colab": {
          "base_uri": "https://localhost:8080/"
        },
        "id": "pZphzSinHwPO",
        "outputId": "f76b5217-82d8-4adf-bc67-c553396b62f7"
      },
      "outputs": [
        {
          "name": "stdout",
          "output_type": "stream",
          "text": [
            "Epoch 1/15\n",
            "1/1 [==============================] - 20s 20s/step - loss: 7.7056 - accuracy: 0.0000e+00\n",
            "Epoch 2/15\n",
            "1/1 [==============================] - 2s 2s/step - loss: 7.3784 - accuracy: 0.0000e+00\n",
            "Epoch 3/15\n",
            "1/1 [==============================] - 3s 3s/step - loss: 6.8968 - accuracy: 0.0000e+00\n",
            "Epoch 4/15\n",
            "1/1 [==============================] - 1s 1s/step - loss: 6.5394 - accuracy: 0.0000e+00\n",
            "Epoch 5/15\n",
            "1/1 [==============================] - 1s 1s/step - loss: 6.1309 - accuracy: 0.0000e+00\n",
            "Epoch 6/15\n",
            "1/1 [==============================] - 1s 1s/step - loss: 5.7375 - accuracy: 0.0000e+00\n",
            "Epoch 7/15\n",
            "1/1 [==============================] - 2s 2s/step - loss: 5.3245 - accuracy: 0.0000e+00\n",
            "Epoch 8/15\n",
            "1/1 [==============================] - 2s 2s/step - loss: 4.9287 - accuracy: 0.0000e+00\n",
            "Epoch 9/15\n",
            "1/1 [==============================] - 2s 2s/step - loss: 4.5062 - accuracy: 0.0000e+00\n",
            "Epoch 10/15\n",
            "1/1 [==============================] - 2s 2s/step - loss: 4.1931 - accuracy: 0.0000e+00\n",
            "Epoch 11/15\n",
            "1/1 [==============================] - 3s 3s/step - loss: 3.7393 - accuracy: 0.0000e+00\n",
            "Epoch 12/15\n",
            "1/1 [==============================] - 2s 2s/step - loss: 3.4068 - accuracy: 0.0000e+00\n",
            "Epoch 13/15\n",
            "1/1 [==============================] - 2s 2s/step - loss: 3.1687 - accuracy: 0.0000e+00\n",
            "Epoch 14/15\n",
            "1/1 [==============================] - 2s 2s/step - loss: 2.7292 - accuracy: 0.0000e+00\n",
            "Epoch 15/15\n",
            "1/1 [==============================] - 1s 1s/step - loss: 2.3915 - accuracy: 0.0000e+00\n"
          ]
        },
        {
          "data": {
            "text/plain": [
              "<keras.callbacks.History at 0x174dd55bbe0>"
            ]
          },
          "execution_count": 79,
          "metadata": {},
          "output_type": "execute_result"
        }
      ],
      "source": [
        "model.fit(X_train_indices, Y_train, batch_size=64, epochs=15)"
      ]
    },
    {
      "cell_type": "code",
      "execution_count": 80,
      "metadata": {
        "id": "oVY1gYalXkO7"
      },
      "outputs": [],
      "source": [
        "X_test_indices = tokenizer.texts_to_sequences(X_test)\n",
        "\n",
        "X_test_indices = pad_sequences(X_test_indices, maxlen=maxLen, padding='post')"
      ]
    },
    {
      "cell_type": "code",
      "execution_count": 81,
      "metadata": {
        "colab": {
          "base_uri": "https://localhost:8080/"
        },
        "id": "_-Y5fW-xszbc",
        "outputId": "59b8bfe5-f774-4074-e74f-830e8190d5e4"
      },
      "outputs": [
        {
          "name": "stdout",
          "output_type": "stream",
          "text": [
            "WARNING:tensorflow:5 out of the last 5 calls to <function Model.make_test_function.<locals>.test_function at 0x00000174DD10A170> triggered tf.function retracing. Tracing is expensive and the excessive number of tracings could be due to (1) creating @tf.function repeatedly in a loop, (2) passing tensors with different shapes, (3) passing Python objects instead of tensors. For (1), please define your @tf.function outside of the loop. For (2), @tf.function has experimental_relax_shapes=True option that relaxes argument shapes that can avoid unnecessary retracing. For (3), please refer to https://www.tensorflow.org/guide/function#controlling_retracing and https://www.tensorflow.org/api_docs/python/tf/function for  more details.\n",
            "1/1 [==============================] - 6s 6s/step - loss: 2.5989 - accuracy: 0.1250\n"
          ]
        },
        {
          "data": {
            "text/plain": [
              "[2.598870277404785, 0.125]"
            ]
          },
          "execution_count": 81,
          "metadata": {},
          "output_type": "execute_result"
        }
      ],
      "source": [
        "model.evaluate(X_test_indices, Y_test)"
      ]
    },
    {
      "cell_type": "code",
      "execution_count": 82,
      "metadata": {
        "colab": {
          "base_uri": "https://localhost:8080/"
        },
        "id": "EitDh0YpDo2e",
        "outputId": "6f143f12-03d1-4818-c88f-4a817d4764a8"
      },
      "outputs": [
        {
          "name": "stdout",
          "output_type": "stream",
          "text": [
            "1/1 [==============================] - 0s 148ms/step - loss: 46.2748 - accuracy: 0.0000e+00\n"
          ]
        },
        {
          "data": {
            "text/plain": [
              "[46.274845123291016, 0.0]"
            ]
          },
          "execution_count": 82,
          "metadata": {},
          "output_type": "execute_result"
        }
      ],
      "source": [
        "model_1d.evaluate(X_test_indices, Y_test)"
      ]
    },
    {
      "cell_type": "code",
      "execution_count": 83,
      "metadata": {
        "colab": {
          "base_uri": "https://localhost:8080/"
        },
        "id": "-SKL-SzCs9e4",
        "outputId": "72e0087d-174c-404f-c2db-edfddb4e7c42"
      },
      "outputs": [],
      "source": [
        "preds = model_1d.predict(X_test_indices)"
      ]
    },
    {
      "cell_type": "code",
      "execution_count": 84,
      "metadata": {
        "id": "w_vyAiZZ-7hy"
      },
      "outputs": [
        {
          "name": "stdout",
          "output_type": "stream",
          "text": [
            "Subtask name: api validate fetch list products, predicted duration : [-0.01109354], correct duration : 2\n",
            "Subtask name: api validate fetch cart items, predicted duration : [-0.01109354], correct duration : 4\n",
            "Subtask name: api persist chosen item db cart, predicted duration : [-0.01109354], correct duration : 3\n"
          ]
        }
      ],
      "source": [
        "n = np.random.randint(0,len(X_test))\n",
        "\n",
        "for i in range(n):\n",
        "    print(f'Subtask name: {X_test[i]}, predicted duration : {preds[i]}, correct duration : {Y_test[i]}')\n"
      ]
    },
    {
      "cell_type": "code",
      "execution_count": 85,
      "metadata": {
        "id": "kTtNGnSj0xJ9"
      },
      "outputs": [],
      "source": [
        "# print(f'predicted duration : {preds[n]}')\n",
        "# print(f'correct duration : {Y_test[n]}')"
      ]
    },
    {
      "cell_type": "code",
      "execution_count": 86,
      "metadata": {
        "colab": {
          "base_uri": "https://localhost:8080/"
        },
        "id": "qYeroDRh_GSQ",
        "outputId": "d1b643c4-c524-4200-a1b6-5ca06d27e2b2"
      },
      "outputs": [
        {
          "data": {
            "text/plain": [
              "array([-0.01109354], dtype=float32)"
            ]
          },
          "execution_count": 86,
          "metadata": {},
          "output_type": "execute_result"
        }
      ],
      "source": [
        "preds[n]"
      ]
    },
    {
      "cell_type": "code",
      "execution_count": 87,
      "metadata": {
        "colab": {
          "base_uri": "https://localhost:8080/"
        },
        "id": "CRX1lXzyAiCk",
        "outputId": "90363cee-6a78-4fb1-9b17-ea3601ef8b5e"
      },
      "outputs": [
        {
          "data": {
            "text/plain": [
              "3"
            ]
          },
          "execution_count": 87,
          "metadata": {},
          "output_type": "execute_result"
        }
      ],
      "source": [
        "Y_test[n]"
      ]
    },
    {
      "cell_type": "code",
      "execution_count": 88,
      "metadata": {
        "id": "vt4-cklo_IRl"
      },
      "outputs": [],
      "source": [
        "model_1d.save_weights('./imdb_weights_con1vd.hdf5')"
      ]
    },
    {
      "cell_type": "code",
      "execution_count": 89,
      "metadata": {
        "id": "o5VqbyPE2JXs"
      },
      "outputs": [],
      "source": [
        "def add_score_predictions(data):\n",
        "\n",
        "  data['duration score'] = 0\n",
        "\n",
        "  reviews_list_idx = pad_sequences(reviews_list_idx, maxlen=maxLen, padding='post')\n",
        "\n",
        "  review_preds = model.predict(reviews_list_idx)\n",
        "\n",
        "  data['duration score'] = review_preds\n",
        "\n",
        "  pred_sentiment = np.array(list(map(lambda x : 'positive' if x > 0.5 else 'negative',review_preds)))\n",
        "\n",
        "  data['predicted duration'] = 0\n",
        "\n",
        "  data['predicted duration'] = pred_sentiment\n",
        "\n",
        "  return data"
      ]
    },
    {
      "cell_type": "code",
      "execution_count": 90,
      "metadata": {
        "id": "M2SPaF7N3C3g"
      },
      "outputs": [],
      "source": [
        "# data = add_score_predictions(data, reviews_list_idx)"
      ]
    },
    {
      "cell_type": "code",
      "execution_count": 91,
      "metadata": {
        "colab": {
          "base_uri": "https://localhost:8080/",
          "height": 1000
        },
        "id": "vpHAcJ4c3MYN",
        "outputId": "d219220b-e4a6-418e-807c-d0bfbcc57ce0"
      },
      "outputs": [
        {
          "data": {
            "text/html": [
              "<div>\n",
              "<style scoped>\n",
              "    .dataframe tbody tr th:only-of-type {\n",
              "        vertical-align: middle;\n",
              "    }\n",
              "\n",
              "    .dataframe tbody tr th {\n",
              "        vertical-align: top;\n",
              "    }\n",
              "\n",
              "    .dataframe thead th {\n",
              "        text-align: right;\n",
              "    }\n",
              "</style>\n",
              "<table border=\"1\" class=\"dataframe\">\n",
              "  <thead>\n",
              "    <tr style=\"text-align: right;\">\n",
              "      <th></th>\n",
              "      <th>Skill</th>\n",
              "      <th>Complexity</th>\n",
              "      <th>task_name</th>\n",
              "      <th>subtask_name</th>\n",
              "      <th>Duration</th>\n",
              "      <th>task_name without stopwords</th>\n",
              "      <th>subtask_name without stopwords</th>\n",
              "      <th>clean_task_name</th>\n",
              "      <th>clean_subtask_name</th>\n",
              "    </tr>\n",
              "  </thead>\n",
              "  <tbody>\n",
              "    <tr>\n",
              "      <th>0</th>\n",
              "      <td>3</td>\n",
              "      <td>1</td>\n",
              "      <td>home page</td>\n",
              "      <td>api to validate and fetch hot products</td>\n",
              "      <td>3</td>\n",
              "      <td>home page</td>\n",
              "      <td>api validate fetch hot products</td>\n",
              "      <td>home page</td>\n",
              "      <td>api validate fetch hot products</td>\n",
              "    </tr>\n",
              "    <tr>\n",
              "      <th>1</th>\n",
              "      <td>2</td>\n",
              "      <td>0</td>\n",
              "      <td>home page</td>\n",
              "      <td>api to validate and fetch new products</td>\n",
              "      <td>2</td>\n",
              "      <td>home page</td>\n",
              "      <td>api validate fetch new products</td>\n",
              "      <td>home page</td>\n",
              "      <td>api validate fetch new products</td>\n",
              "    </tr>\n",
              "    <tr>\n",
              "      <th>2</th>\n",
              "      <td>3</td>\n",
              "      <td>1</td>\n",
              "      <td>categories page</td>\n",
              "      <td>api to validate and fetch all categories along...</td>\n",
              "      <td>3</td>\n",
              "      <td>categories page</td>\n",
              "      <td>api validate fetch categories along products b...</td>\n",
              "      <td>categories page</td>\n",
              "      <td>api validate fetch categories along products b...</td>\n",
              "    </tr>\n",
              "    <tr>\n",
              "      <th>3</th>\n",
              "      <td>2</td>\n",
              "      <td>0</td>\n",
              "      <td>categories page</td>\n",
              "      <td>api to validate and fetch a single category</td>\n",
              "      <td>2</td>\n",
              "      <td>categories page</td>\n",
              "      <td>api validate fetch single category</td>\n",
              "      <td>categories page</td>\n",
              "      <td>api validate fetch single category</td>\n",
              "    </tr>\n",
              "    <tr>\n",
              "      <th>4</th>\n",
              "      <td>2</td>\n",
              "      <td>0</td>\n",
              "      <td>categories page</td>\n",
              "      <td>api to filter and sort results</td>\n",
              "      <td>2</td>\n",
              "      <td>categories page</td>\n",
              "      <td>api filter sort results</td>\n",
              "      <td>categories page</td>\n",
              "      <td>api filter sort results</td>\n",
              "    </tr>\n",
              "    <tr>\n",
              "      <th>5</th>\n",
              "      <td>2</td>\n",
              "      <td>0</td>\n",
              "      <td>plp</td>\n",
              "      <td>api to validate and fetch list of products</td>\n",
              "      <td>2</td>\n",
              "      <td>plp</td>\n",
              "      <td>api validate fetch list products</td>\n",
              "      <td>plp</td>\n",
              "      <td>api validate fetch list products</td>\n",
              "    </tr>\n",
              "    <tr>\n",
              "      <th>6</th>\n",
              "      <td>3</td>\n",
              "      <td>1</td>\n",
              "      <td>plp</td>\n",
              "      <td>api to filter and sort results</td>\n",
              "      <td>3</td>\n",
              "      <td>plp</td>\n",
              "      <td>api filter sort results</td>\n",
              "      <td>plp</td>\n",
              "      <td>api filter sort results</td>\n",
              "    </tr>\n",
              "    <tr>\n",
              "      <th>7</th>\n",
              "      <td>3</td>\n",
              "      <td>1</td>\n",
              "      <td>plp</td>\n",
              "      <td>api to persist the chosen item in db for cart</td>\n",
              "      <td>3</td>\n",
              "      <td>plp</td>\n",
              "      <td>api persist chosen item db cart</td>\n",
              "      <td>plp</td>\n",
              "      <td>api persist chosen item db cart</td>\n",
              "    </tr>\n",
              "    <tr>\n",
              "      <th>8</th>\n",
              "      <td>3</td>\n",
              "      <td>1</td>\n",
              "      <td>plp</td>\n",
              "      <td>api to persist the chosen item in db for wishlist</td>\n",
              "      <td>3</td>\n",
              "      <td>plp</td>\n",
              "      <td>api persist chosen item db wishlist</td>\n",
              "      <td>plp</td>\n",
              "      <td>api persist chosen item db wishlist</td>\n",
              "    </tr>\n",
              "    <tr>\n",
              "      <th>9</th>\n",
              "      <td>1</td>\n",
              "      <td>0</td>\n",
              "      <td>pdp</td>\n",
              "      <td>api to validate and fetch product details</td>\n",
              "      <td>1</td>\n",
              "      <td>pdp</td>\n",
              "      <td>api validate fetch product details</td>\n",
              "      <td>pdp</td>\n",
              "      <td>api validate fetch product details</td>\n",
              "    </tr>\n",
              "    <tr>\n",
              "      <th>10</th>\n",
              "      <td>3</td>\n",
              "      <td>1</td>\n",
              "      <td>pdp</td>\n",
              "      <td>api to persist the chosen item in db for cart</td>\n",
              "      <td>3</td>\n",
              "      <td>pdp</td>\n",
              "      <td>api persist chosen item db cart</td>\n",
              "      <td>pdp</td>\n",
              "      <td>api persist chosen item db cart</td>\n",
              "    </tr>\n",
              "    <tr>\n",
              "      <th>11</th>\n",
              "      <td>3</td>\n",
              "      <td>1</td>\n",
              "      <td>pdp</td>\n",
              "      <td>api to persist the chosen item in db for wishlist</td>\n",
              "      <td>3</td>\n",
              "      <td>pdp</td>\n",
              "      <td>api persist chosen item db wishlist</td>\n",
              "      <td>pdp</td>\n",
              "      <td>api persist chosen item db wishlist</td>\n",
              "    </tr>\n",
              "    <tr>\n",
              "      <th>12</th>\n",
              "      <td>4</td>\n",
              "      <td>1</td>\n",
              "      <td>cart</td>\n",
              "      <td>api to authenticate the user</td>\n",
              "      <td>4</td>\n",
              "      <td>cart</td>\n",
              "      <td>api authenticate user</td>\n",
              "      <td>cart</td>\n",
              "      <td>api authenticate user</td>\n",
              "    </tr>\n",
              "    <tr>\n",
              "      <th>13</th>\n",
              "      <td>4</td>\n",
              "      <td>1</td>\n",
              "      <td>cart</td>\n",
              "      <td>api to validate and fetch cart items</td>\n",
              "      <td>4</td>\n",
              "      <td>cart</td>\n",
              "      <td>api validate fetch cart items</td>\n",
              "      <td>cart</td>\n",
              "      <td>api validate fetch cart items</td>\n",
              "    </tr>\n",
              "    <tr>\n",
              "      <th>14</th>\n",
              "      <td>4</td>\n",
              "      <td>1</td>\n",
              "      <td>shipping address</td>\n",
              "      <td>api to authenticate the user</td>\n",
              "      <td>4</td>\n",
              "      <td>shipping address</td>\n",
              "      <td>api authenticate user</td>\n",
              "      <td>shipping address</td>\n",
              "      <td>api authenticate user</td>\n",
              "    </tr>\n",
              "    <tr>\n",
              "      <th>15</th>\n",
              "      <td>2</td>\n",
              "      <td>0</td>\n",
              "      <td>shipping address</td>\n",
              "      <td>api to validate and fetch the shipping address...</td>\n",
              "      <td>2</td>\n",
              "      <td>shipping address</td>\n",
              "      <td>api validate fetch shipping address saved cust...</td>\n",
              "      <td>shipping address</td>\n",
              "      <td>api validate fetch shipping address saved cust...</td>\n",
              "    </tr>\n",
              "    <tr>\n",
              "      <th>16</th>\n",
              "      <td>2</td>\n",
              "      <td>0</td>\n",
              "      <td>shipping address</td>\n",
              "      <td>api to save and validate customer address</td>\n",
              "      <td>2</td>\n",
              "      <td>shipping address</td>\n",
              "      <td>api save validate customer address</td>\n",
              "      <td>shipping address</td>\n",
              "      <td>api save validate customer address</td>\n",
              "    </tr>\n",
              "    <tr>\n",
              "      <th>17</th>\n",
              "      <td>2</td>\n",
              "      <td>0</td>\n",
              "      <td>shipping address</td>\n",
              "      <td>api to validate and fetch city and state names...</td>\n",
              "      <td>2</td>\n",
              "      <td>shipping address</td>\n",
              "      <td>api validate fetch city state names business o...</td>\n",
              "      <td>shipping address</td>\n",
              "      <td>api validate fetch city state names business o...</td>\n",
              "    </tr>\n",
              "    <tr>\n",
              "      <th>18</th>\n",
              "      <td>4</td>\n",
              "      <td>1</td>\n",
              "      <td>delivery method</td>\n",
              "      <td>api to authenticate the user</td>\n",
              "      <td>4</td>\n",
              "      <td>delivery method</td>\n",
              "      <td>api authenticate user</td>\n",
              "      <td>delivery method</td>\n",
              "      <td>api authenticate user</td>\n",
              "    </tr>\n",
              "    <tr>\n",
              "      <th>19</th>\n",
              "      <td>2</td>\n",
              "      <td>0</td>\n",
              "      <td>delivery method</td>\n",
              "      <td>api to validate and fetch all delivery methods...</td>\n",
              "      <td>2</td>\n",
              "      <td>delivery method</td>\n",
              "      <td>api validate fetch delivery methods supported ...</td>\n",
              "      <td>delivery method</td>\n",
              "      <td>api validate fetch delivery methods supported ...</td>\n",
              "    </tr>\n",
              "    <tr>\n",
              "      <th>20</th>\n",
              "      <td>4</td>\n",
              "      <td>1</td>\n",
              "      <td>payment method</td>\n",
              "      <td>api to authenticate the user</td>\n",
              "      <td>4</td>\n",
              "      <td>payment method</td>\n",
              "      <td>api authenticate user</td>\n",
              "      <td>payment method</td>\n",
              "      <td>api authenticate user</td>\n",
              "    </tr>\n",
              "    <tr>\n",
              "      <th>21</th>\n",
              "      <td>2</td>\n",
              "      <td>0</td>\n",
              "      <td>payment method</td>\n",
              "      <td>api to validate and fetch all payment methods ...</td>\n",
              "      <td>2</td>\n",
              "      <td>payment method</td>\n",
              "      <td>api validate fetch payment methods supported b...</td>\n",
              "      <td>payment method</td>\n",
              "      <td>api validate fetch payment methods supported b...</td>\n",
              "    </tr>\n",
              "    <tr>\n",
              "      <th>22</th>\n",
              "      <td>4</td>\n",
              "      <td>1</td>\n",
              "      <td>review info</td>\n",
              "      <td>api to authenticate the user</td>\n",
              "      <td>4</td>\n",
              "      <td>review info</td>\n",
              "      <td>api authenticate user</td>\n",
              "      <td>review info</td>\n",
              "      <td>api authenticate user</td>\n",
              "    </tr>\n",
              "    <tr>\n",
              "      <th>23</th>\n",
              "      <td>2</td>\n",
              "      <td>0</td>\n",
              "      <td>review info</td>\n",
              "      <td>api to validate and fetch the cart items</td>\n",
              "      <td>2</td>\n",
              "      <td>review info</td>\n",
              "      <td>api validate fetch cart items</td>\n",
              "      <td>review info</td>\n",
              "      <td>api validate fetch cart items</td>\n",
              "    </tr>\n",
              "    <tr>\n",
              "      <th>24</th>\n",
              "      <td>2</td>\n",
              "      <td>0</td>\n",
              "      <td>review info</td>\n",
              "      <td>api to validate and fetch the shipping address</td>\n",
              "      <td>2</td>\n",
              "      <td>review info</td>\n",
              "      <td>api validate fetch shipping address</td>\n",
              "      <td>review info</td>\n",
              "      <td>api validate fetch shipping address</td>\n",
              "    </tr>\n",
              "    <tr>\n",
              "      <th>25</th>\n",
              "      <td>2</td>\n",
              "      <td>0</td>\n",
              "      <td>review info</td>\n",
              "      <td>api to validate and fetch the delivery</td>\n",
              "      <td>2</td>\n",
              "      <td>review info</td>\n",
              "      <td>api validate fetch delivery</td>\n",
              "      <td>review info</td>\n",
              "      <td>api validate fetch delivery</td>\n",
              "    </tr>\n",
              "    <tr>\n",
              "      <th>26</th>\n",
              "      <td>2</td>\n",
              "      <td>0</td>\n",
              "      <td>review info</td>\n",
              "      <td>api to validate and fetch the payment method</td>\n",
              "      <td>2</td>\n",
              "      <td>review info</td>\n",
              "      <td>api validate fetch payment method</td>\n",
              "      <td>review info</td>\n",
              "      <td>api validate fetch payment method</td>\n",
              "    </tr>\n",
              "    <tr>\n",
              "      <th>27</th>\n",
              "      <td>4</td>\n",
              "      <td>1</td>\n",
              "      <td>order success/cancellation</td>\n",
              "      <td>api to authenticate the user</td>\n",
              "      <td>4</td>\n",
              "      <td>order success/cancellation</td>\n",
              "      <td>api authenticate user</td>\n",
              "      <td>order success cancellation</td>\n",
              "      <td>api authenticate user</td>\n",
              "    </tr>\n",
              "    <tr>\n",
              "      <th>28</th>\n",
              "      <td>3</td>\n",
              "      <td>1</td>\n",
              "      <td>order success/cancellation</td>\n",
              "      <td>api to persist the order details in db</td>\n",
              "      <td>3</td>\n",
              "      <td>order success/cancellation</td>\n",
              "      <td>api persist order details db</td>\n",
              "      <td>order success cancellation</td>\n",
              "      <td>api persist order details db</td>\n",
              "    </tr>\n",
              "    <tr>\n",
              "      <th>29</th>\n",
              "      <td>3</td>\n",
              "      <td>1</td>\n",
              "      <td>order success/cancellation</td>\n",
              "      <td>api to validate and send the order information...</td>\n",
              "      <td>3</td>\n",
              "      <td>order success/cancellation</td>\n",
              "      <td>api validate send order information server app...</td>\n",
              "      <td>order success cancellation</td>\n",
              "      <td>api validate send order information server app...</td>\n",
              "    </tr>\n",
              "    <tr>\n",
              "      <th>30</th>\n",
              "      <td>4</td>\n",
              "      <td>1</td>\n",
              "      <td>dashboard</td>\n",
              "      <td>api to authenticate the user</td>\n",
              "      <td>4</td>\n",
              "      <td>dashboard</td>\n",
              "      <td>api authenticate user</td>\n",
              "      <td>dashboard</td>\n",
              "      <td>api authenticate user</td>\n",
              "    </tr>\n",
              "    <tr>\n",
              "      <th>31</th>\n",
              "      <td>3</td>\n",
              "      <td>1</td>\n",
              "      <td>dashboard</td>\n",
              "      <td>apis to show stats such as profit, orders, sal...</td>\n",
              "      <td>3</td>\n",
              "      <td>dashboard</td>\n",
              "      <td>apis show stats profit, orders, sales etc</td>\n",
              "      <td>dashboard</td>\n",
              "      <td>apis show stats profit  orders  sales etc</td>\n",
              "    </tr>\n",
              "    <tr>\n",
              "      <th>32</th>\n",
              "      <td>4</td>\n",
              "      <td>1</td>\n",
              "      <td>orders</td>\n",
              "      <td>api to authenticate the user</td>\n",
              "      <td>4</td>\n",
              "      <td>orders</td>\n",
              "      <td>api authenticate user</td>\n",
              "      <td>orders</td>\n",
              "      <td>api authenticate user</td>\n",
              "    </tr>\n",
              "    <tr>\n",
              "      <th>33</th>\n",
              "      <td>3</td>\n",
              "      <td>1</td>\n",
              "      <td>orders</td>\n",
              "      <td>api to validate and fetch all orders (pending,...</td>\n",
              "      <td>3</td>\n",
              "      <td>orders</td>\n",
              "      <td>api validate fetch orders (pending, cancelled ...</td>\n",
              "      <td>orders</td>\n",
              "      <td>api validate fetch orders  pending  cancelled ...</td>\n",
              "    </tr>\n",
              "    <tr>\n",
              "      <th>34</th>\n",
              "      <td>4</td>\n",
              "      <td>1</td>\n",
              "      <td>wishlist</td>\n",
              "      <td>api to authenticate the user</td>\n",
              "      <td>4</td>\n",
              "      <td>wishlist</td>\n",
              "      <td>api authenticate user</td>\n",
              "      <td>wishlist</td>\n",
              "      <td>api authenticate user</td>\n",
              "    </tr>\n",
              "    <tr>\n",
              "      <th>35</th>\n",
              "      <td>3</td>\n",
              "      <td>1</td>\n",
              "      <td>wishlist</td>\n",
              "      <td>api to fetch and validate the wishlist</td>\n",
              "      <td>3</td>\n",
              "      <td>wishlist</td>\n",
              "      <td>api fetch validate wishlist</td>\n",
              "      <td>wishlist</td>\n",
              "      <td>api fetch validate wishlist</td>\n",
              "    </tr>\n",
              "    <tr>\n",
              "      <th>36</th>\n",
              "      <td>4</td>\n",
              "      <td>1</td>\n",
              "      <td>billing</td>\n",
              "      <td>api to authenticate the user</td>\n",
              "      <td>4</td>\n",
              "      <td>billing</td>\n",
              "      <td>api authenticate user</td>\n",
              "      <td>billing</td>\n",
              "      <td>api authenticate user</td>\n",
              "    </tr>\n",
              "    <tr>\n",
              "      <th>37</th>\n",
              "      <td>5</td>\n",
              "      <td>2</td>\n",
              "      <td>billing</td>\n",
              "      <td>api to validate and view, add or change the bi...</td>\n",
              "      <td>5</td>\n",
              "      <td>billing</td>\n",
              "      <td>api validate view, add change billing method</td>\n",
              "      <td>billing</td>\n",
              "      <td>api validate view  add change billing method</td>\n",
              "    </tr>\n",
              "    <tr>\n",
              "      <th>38</th>\n",
              "      <td>4</td>\n",
              "      <td>1</td>\n",
              "      <td>settings</td>\n",
              "      <td>api to authenticate the user</td>\n",
              "      <td>4</td>\n",
              "      <td>settings</td>\n",
              "      <td>api authenticate user</td>\n",
              "      <td>settings</td>\n",
              "      <td>api authenticate user</td>\n",
              "    </tr>\n",
              "    <tr>\n",
              "      <th>39</th>\n",
              "      <td>3</td>\n",
              "      <td>1</td>\n",
              "      <td>settings</td>\n",
              "      <td>api to validate and view or change profile set...</td>\n",
              "      <td>3</td>\n",
              "      <td>settings</td>\n",
              "      <td>api validate view change profile settings</td>\n",
              "      <td>settings</td>\n",
              "      <td>api validate view change profile settings</td>\n",
              "    </tr>\n",
              "  </tbody>\n",
              "</table>\n",
              "</div>"
            ],
            "text/plain": [
              "    Skill  Complexity                   task_name  \\\n",
              "0       3           1                   home page   \n",
              "1       2           0                   home page   \n",
              "2       3           1             categories page   \n",
              "3       2           0             categories page   \n",
              "4       2           0             categories page   \n",
              "5       2           0                         plp   \n",
              "6       3           1                         plp   \n",
              "7       3           1                         plp   \n",
              "8       3           1                         plp   \n",
              "9       1           0                         pdp   \n",
              "10      3           1                         pdp   \n",
              "11      3           1                         pdp   \n",
              "12      4           1                        cart   \n",
              "13      4           1                        cart   \n",
              "14      4           1            shipping address   \n",
              "15      2           0            shipping address   \n",
              "16      2           0            shipping address   \n",
              "17      2           0            shipping address   \n",
              "18      4           1             delivery method   \n",
              "19      2           0             delivery method   \n",
              "20      4           1              payment method   \n",
              "21      2           0              payment method   \n",
              "22      4           1                 review info   \n",
              "23      2           0                 review info   \n",
              "24      2           0                 review info   \n",
              "25      2           0                 review info   \n",
              "26      2           0                 review info   \n",
              "27      4           1  order success/cancellation   \n",
              "28      3           1  order success/cancellation   \n",
              "29      3           1  order success/cancellation   \n",
              "30      4           1                   dashboard   \n",
              "31      3           1                   dashboard   \n",
              "32      4           1                      orders   \n",
              "33      3           1                      orders   \n",
              "34      4           1                    wishlist   \n",
              "35      3           1                    wishlist   \n",
              "36      4           1                     billing   \n",
              "37      5           2                     billing   \n",
              "38      4           1                    settings   \n",
              "39      3           1                    settings   \n",
              "\n",
              "                                         subtask_name  Duration  \\\n",
              "0              api to validate and fetch hot products         3   \n",
              "1              api to validate and fetch new products         2   \n",
              "2   api to validate and fetch all categories along...         3   \n",
              "3         api to validate and fetch a single category         2   \n",
              "4                      api to filter and sort results         2   \n",
              "5          api to validate and fetch list of products         2   \n",
              "6                      api to filter and sort results         3   \n",
              "7       api to persist the chosen item in db for cart         3   \n",
              "8   api to persist the chosen item in db for wishlist         3   \n",
              "9           api to validate and fetch product details         1   \n",
              "10      api to persist the chosen item in db for cart         3   \n",
              "11  api to persist the chosen item in db for wishlist         3   \n",
              "12                       api to authenticate the user         4   \n",
              "13               api to validate and fetch cart items         4   \n",
              "14                       api to authenticate the user         4   \n",
              "15  api to validate and fetch the shipping address...         2   \n",
              "16          api to save and validate customer address         2   \n",
              "17  api to validate and fetch city and state names...         2   \n",
              "18                       api to authenticate the user         4   \n",
              "19  api to validate and fetch all delivery methods...         2   \n",
              "20                       api to authenticate the user         4   \n",
              "21  api to validate and fetch all payment methods ...         2   \n",
              "22                       api to authenticate the user         4   \n",
              "23           api to validate and fetch the cart items         2   \n",
              "24     api to validate and fetch the shipping address         2   \n",
              "25             api to validate and fetch the delivery         2   \n",
              "26       api to validate and fetch the payment method         2   \n",
              "27                       api to authenticate the user         4   \n",
              "28             api to persist the order details in db         3   \n",
              "29  api to validate and send the order information...         3   \n",
              "30                       api to authenticate the user         4   \n",
              "31  apis to show stats such as profit, orders, sal...         3   \n",
              "32                       api to authenticate the user         4   \n",
              "33  api to validate and fetch all orders (pending,...         3   \n",
              "34                       api to authenticate the user         4   \n",
              "35             api to fetch and validate the wishlist         3   \n",
              "36                       api to authenticate the user         4   \n",
              "37  api to validate and view, add or change the bi...         5   \n",
              "38                       api to authenticate the user         4   \n",
              "39  api to validate and view or change profile set...         3   \n",
              "\n",
              "   task_name without stopwords  \\\n",
              "0                    home page   \n",
              "1                    home page   \n",
              "2              categories page   \n",
              "3              categories page   \n",
              "4              categories page   \n",
              "5                          plp   \n",
              "6                          plp   \n",
              "7                          plp   \n",
              "8                          plp   \n",
              "9                          pdp   \n",
              "10                         pdp   \n",
              "11                         pdp   \n",
              "12                        cart   \n",
              "13                        cart   \n",
              "14            shipping address   \n",
              "15            shipping address   \n",
              "16            shipping address   \n",
              "17            shipping address   \n",
              "18             delivery method   \n",
              "19             delivery method   \n",
              "20              payment method   \n",
              "21              payment method   \n",
              "22                 review info   \n",
              "23                 review info   \n",
              "24                 review info   \n",
              "25                 review info   \n",
              "26                 review info   \n",
              "27  order success/cancellation   \n",
              "28  order success/cancellation   \n",
              "29  order success/cancellation   \n",
              "30                   dashboard   \n",
              "31                   dashboard   \n",
              "32                      orders   \n",
              "33                      orders   \n",
              "34                    wishlist   \n",
              "35                    wishlist   \n",
              "36                     billing   \n",
              "37                     billing   \n",
              "38                    settings   \n",
              "39                    settings   \n",
              "\n",
              "                       subtask_name without stopwords  \\\n",
              "0                     api validate fetch hot products   \n",
              "1                     api validate fetch new products   \n",
              "2   api validate fetch categories along products b...   \n",
              "3                  api validate fetch single category   \n",
              "4                             api filter sort results   \n",
              "5                    api validate fetch list products   \n",
              "6                             api filter sort results   \n",
              "7                     api persist chosen item db cart   \n",
              "8                 api persist chosen item db wishlist   \n",
              "9                  api validate fetch product details   \n",
              "10                    api persist chosen item db cart   \n",
              "11                api persist chosen item db wishlist   \n",
              "12                              api authenticate user   \n",
              "13                      api validate fetch cart items   \n",
              "14                              api authenticate user   \n",
              "15  api validate fetch shipping address saved cust...   \n",
              "16                 api save validate customer address   \n",
              "17  api validate fetch city state names business o...   \n",
              "18                              api authenticate user   \n",
              "19  api validate fetch delivery methods supported ...   \n",
              "20                              api authenticate user   \n",
              "21  api validate fetch payment methods supported b...   \n",
              "22                              api authenticate user   \n",
              "23                      api validate fetch cart items   \n",
              "24                api validate fetch shipping address   \n",
              "25                        api validate fetch delivery   \n",
              "26                  api validate fetch payment method   \n",
              "27                              api authenticate user   \n",
              "28                       api persist order details db   \n",
              "29  api validate send order information server app...   \n",
              "30                              api authenticate user   \n",
              "31          apis show stats profit, orders, sales etc   \n",
              "32                              api authenticate user   \n",
              "33  api validate fetch orders (pending, cancelled ...   \n",
              "34                              api authenticate user   \n",
              "35                        api fetch validate wishlist   \n",
              "36                              api authenticate user   \n",
              "37       api validate view, add change billing method   \n",
              "38                              api authenticate user   \n",
              "39          api validate view change profile settings   \n",
              "\n",
              "               clean_task_name  \\\n",
              "0                    home page   \n",
              "1                    home page   \n",
              "2              categories page   \n",
              "3              categories page   \n",
              "4              categories page   \n",
              "5                          plp   \n",
              "6                          plp   \n",
              "7                          plp   \n",
              "8                          plp   \n",
              "9                          pdp   \n",
              "10                         pdp   \n",
              "11                         pdp   \n",
              "12                        cart   \n",
              "13                        cart   \n",
              "14            shipping address   \n",
              "15            shipping address   \n",
              "16            shipping address   \n",
              "17            shipping address   \n",
              "18             delivery method   \n",
              "19             delivery method   \n",
              "20              payment method   \n",
              "21              payment method   \n",
              "22                 review info   \n",
              "23                 review info   \n",
              "24                 review info   \n",
              "25                 review info   \n",
              "26                 review info   \n",
              "27  order success cancellation   \n",
              "28  order success cancellation   \n",
              "29  order success cancellation   \n",
              "30                   dashboard   \n",
              "31                   dashboard   \n",
              "32                      orders   \n",
              "33                      orders   \n",
              "34                    wishlist   \n",
              "35                    wishlist   \n",
              "36                     billing   \n",
              "37                     billing   \n",
              "38                    settings   \n",
              "39                    settings   \n",
              "\n",
              "                                   clean_subtask_name  \n",
              "0                     api validate fetch hot products  \n",
              "1                     api validate fetch new products  \n",
              "2   api validate fetch categories along products b...  \n",
              "3                  api validate fetch single category  \n",
              "4                             api filter sort results  \n",
              "5                    api validate fetch list products  \n",
              "6                             api filter sort results  \n",
              "7                     api persist chosen item db cart  \n",
              "8                 api persist chosen item db wishlist  \n",
              "9                  api validate fetch product details  \n",
              "10                    api persist chosen item db cart  \n",
              "11                api persist chosen item db wishlist  \n",
              "12                              api authenticate user  \n",
              "13                      api validate fetch cart items  \n",
              "14                              api authenticate user  \n",
              "15  api validate fetch shipping address saved cust...  \n",
              "16                 api save validate customer address  \n",
              "17  api validate fetch city state names business o...  \n",
              "18                              api authenticate user  \n",
              "19  api validate fetch delivery methods supported ...  \n",
              "20                              api authenticate user  \n",
              "21  api validate fetch payment methods supported b...  \n",
              "22                              api authenticate user  \n",
              "23                      api validate fetch cart items  \n",
              "24                api validate fetch shipping address  \n",
              "25                        api validate fetch delivery  \n",
              "26                  api validate fetch payment method  \n",
              "27                              api authenticate user  \n",
              "28                       api persist order details db  \n",
              "29  api validate send order information server app...  \n",
              "30                              api authenticate user  \n",
              "31          apis show stats profit  orders  sales etc  \n",
              "32                              api authenticate user  \n",
              "33  api validate fetch orders  pending  cancelled ...  \n",
              "34                              api authenticate user  \n",
              "35                        api fetch validate wishlist  \n",
              "36                              api authenticate user  \n",
              "37       api validate view  add change billing method  \n",
              "38                              api authenticate user  \n",
              "39          api validate view change profile settings  "
            ]
          },
          "execution_count": 91,
          "metadata": {},
          "output_type": "execute_result"
        }
      ],
      "source": [
        "data"
      ]
    },
    {
      "cell_type": "code",
      "execution_count": null,
      "metadata": {
        "id": "TTnm3Kwt4F0d"
      },
      "outputs": [],
      "source": []
    }
  ],
  "metadata": {
    "accelerator": "GPU",
    "colab": {
      "provenance": []
    },
    "gpuClass": "standard",
    "kernelspec": {
      "display_name": "Python 3.10.1 64-bit",
      "language": "python",
      "name": "python3"
    },
    "language_info": {
      "codemirror_mode": {
        "name": "ipython",
        "version": 3
      },
      "file_extension": ".py",
      "mimetype": "text/x-python",
      "name": "python",
      "nbconvert_exporter": "python",
      "pygments_lexer": "ipython3",
      "version": "3.10.1"
    },
    "vscode": {
      "interpreter": {
        "hash": "c931d04cda44e0569d5939c86fc0782db7ecce639acc955d4e5caa0825c513c4"
      }
    }
  },
  "nbformat": 4,
  "nbformat_minor": 0
}
